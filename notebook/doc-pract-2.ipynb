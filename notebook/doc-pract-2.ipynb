{
 "cells": [
  {
   "cell_type": "markdown",
   "id": "2412e7cf-4dfe-4bda-9156-f3eb783d9054",
   "metadata": {
    "tags": []
   },
   "source": [
    "Tipología y ciclo de vida de los datos: PRÁCTICA II\n",
    "===================================================\n",
    "\n",
    "Componentes de la práctica:\n",
    "\n",
    " **Miguel Rafael Esteban Martín** (mestebanmart@uoc.edu)\n",
    " \n",
    " \n",
    "## Indice de contenidos\n",
    "\n",
    " - Descripción del dataset.\n",
    " - Integración y selección de los datos de interés a analizar.\n",
    " - Limpieza de los datos.\n",
    " - Análisis de los datos.\n",
    " - Resolución del problema: Conclusiones \n",
    " - Código\n"
   ]
  },
  {
   "cell_type": "markdown",
   "id": "72dc4e4f-0316-42e0-be58-720b79be9d46",
   "metadata": {},
   "source": [
    "---\n",
    "\n",
    "## Descripcion del dataset\n",
    "\n",
    "Para esta parte de la práctica se parte del datase creado en la primera práctica.\n",
    "\n",
    "> **_\"Histórico de precios sobre Energía (Gas y Electricidad) para mercados Familiar y Profesional de la Zona Euro\"_**   \n",
    "     DOI: [**`10.5281/zenodo.6424152`**](https://doi.org/10.5281/zenodo.6424152)\n",
    "\n",
    "La razón fundamental de el porqué creamos este dataset es el de entender y comprobar las relaciones entre el precio del gas y la electricidad a lo largo del tiempo dentro de la Zona Euro. Los precios de la energía, es un asunto de actualidad en el tiempo en que se realiza esta práctica, debido al continuo aumento de los mismos. Los datos base fueron obtenidos de la página de la página de estadísitica de la Comunidad Europea, Eurostat: [_https://ec.europa.eu/eurostat/web/main/data/database_](https://ec.europa.eu/eurostat/web/main/data/database).\n",
    "\n",
    "--- \n",
    "\n",
    "**_Nota sobre el dataset en esta práctica_:**\n",
    "\n",
    "En la primera parte ([Jupyter notebook](https://github.com/tipologia-datos-UOC-pract-jonas-miguel/pract-1/blob/main/notebook/pract-1.ipynb)) de la práctica ya se realizo parte del estudio que se pide en el enunciado de esta práctica. El dataset final entregado, incluyo un estudio previo tanto de los valores extremos como de limpieza de datos y se eliminaron los primeros y se propusieron estimadores para los valores nulos.\n",
    "\n",
    "Como estos apartados entrán dentro del dominio de este trabajo, el enfoque que se ha seguido es, en vez de partir del dataset original, se partirá  de los cuatro ficheros de los subdataset que se generaron en pasos anteriores para generar el dataset original: precios del gas doméstico, electricidad doméstico, gas industrial y electricidad industrial. \n",
    "\n",
    "Los siguientes pasos serán agrupar todos los datos y volver a realizar los estudios de limpieza de datos y gestión de valores extremos. Se obtendrán así, los datos que componen el dataset original, del que filtrando los datos relativos a los precios domésticos, se obtendrá el dataset final de trabajo para realizar el estudio.\n",
    "\n",
    "--- \n"
   ]
  },
  {
   "cell_type": "markdown",
   "id": "034397fc-38aa-48af-9365-c20a25ed2f25",
   "metadata": {},
   "source": [
    "---\n",
    "\n",
    "## Integración y selección de los datos de interés a analizar\n",
    "\n",
    "En la primera parte de la práctica ya se hizo un primer estudio de los datos a incluir. Aunque se incluyeron los datos de los precios de la electricidad y el gas para un uso no doméstico, no eran suficientes como para poder hacer un estudio, por lo que en esta parte se centrará en los datos de los **precios de la energía (electricidad y gas) en el ámbito doméstico**.\n",
    "\n",
    "### Estructura del dataset de trabajo\n",
    "\n",
    "El dataset original tenía una estructura en la que cada precio de un tipo (electricidad ó gas) y año tenía su propia columna y cada registro estaba relacionado con un país:\n",
    "\n",
    "_Campos del dataset original_\n",
    "\n",
    "| Nombre del campo   | Tipo                  | Descripción                                     |\n",
    "| :-                 | :-                    | :-                                              |\n",
    "| country            | Cadena                | El identificador del país                       |\n",
    "| country_name       | Cadena                | Nombre del país (En inglés)                     |\n",
    "| 2017_ElectHouse    | Numérico, 4 decimales | Precio de la electricidad doméstica en el 2017  |\n",
    "| 2018_ElectHouse    | Numérico, 4 decimales | Precio de la electricidad doméstica en el 2018  |\n",
    "| 2019_ElectHouse    | Numérico, 4 decimales | Precio de la electricidad doméstica en el 2019  |\n",
    "| 2020_ElectHouse    | Numérico, 4 decimales | Precio de la electricidad doméstica en el 2020  |\n",
    "| 2021_ElectHouse    | Numérico, 4 decimales | Precio de la electricidad doméstica en el 2021  |\n",
    "| 2017_ElectNoHouse  | Numérico, 4 decimales | Precio de la electricidad industrial en el 2017 |\n",
    "| 2018_ElectNoHouse  | Numérico, 4 decimales | Precio de la electricidad industrial en el 2018 |\n",
    "| 2019_ElectNoHouse  | Numérico, 4 decimales | Precio de la electricidad industrial en el 2019 |\n",
    "| 2020_ElectNoHouse  | Numérico, 4 decimales | Precio de la electricidad industrial en el 2020 |\n",
    "| 2021_ElectNoHouse  | Numérico, 4 decimales | Precio de la electricidad industrial en el 2021 |\n",
    "| 2017_GasHouse      | Numérico, 4 decimales | Precio del gas doméstico en el 2017             |\n",
    "| 2018_GasHouse      | Numérico, 4 decimales | Precio del gas doméstico en el 2018             |\n",
    "| 2019_GasHouse      | Numérico, 4 decimales | Precio del gas doméstico en el 2019             |\n",
    "| 2020_GasHouse      | Numérico, 4 decimales | Precio del gas doméstico en el 2020             |\n",
    "| 2021_GasHouse      | Numérico, 4 decimales | Precio del gas doméstico en el 2021             |\n",
    "| 2017_GasNoHouse    | Numérico, 4 decimales | Precio del gas industrial en el 2017            |\n",
    "| 2018_GasNoHouse    | Numérico, 4 decimales | Precio del gas industrial en el 2018            |\n",
    "| 2019_GasNoHouse    | Numérico, 4 decimales | Precio del gas industrial en el 2019            |\n",
    "| 2020_GasNoHouse    | Numérico, 4 decimales | Precio del gas industrial en el 2020            |\n",
    "| 2021_GasNoHouse    | Numérico, 4 decimales | Precio del gas industrial en el 2021            |\n",
    "\n",
    "\n",
    "Para realizar el estudio es mejor transformar este dataset en uno que tenga en cada registro la información del país, el año de los precios y los precios de la electricidad y el gas, estos últimos sonlos del contexto doméstico que son en los que se centrará el estudio. Los **campos del dataset de trabajo** son entonces:\n",
    "\n",
    "\n",
    "| Nombre del campo | Tipo                  | Descripción                                    |\n",
    "| :-               | :-                    | :-                                             |\n",
    "| country          | Cadena                | El identificador del país                      |\n",
    "| Year             | Entero                | Año de los precios                             |\n",
    "| ElectricityPrice | Numérico, 4 decimales | Precio de la electricidad doméstica en ese año |\n",
    "| GasPrice         | Numérico, 4 decimales | Precio del gas doméstico en ese año            |\n",
    "\n"
   ]
  }
 ],
 "metadata": {
  "kernelspec": {
   "display_name": "Python 3 (ipykernel)",
   "language": "python",
   "name": "python3"
  },
  "language_info": {
   "codemirror_mode": {
    "name": "ipython",
    "version": 3
   },
   "file_extension": ".py",
   "mimetype": "text/x-python",
   "name": "python",
   "nbconvert_exporter": "python",
   "pygments_lexer": "ipython3",
   "version": "3.9.10"
  },
  "toc-autonumbering": false,
  "toc-showcode": false,
  "toc-showmarkdowntxt": false,
  "toc-showtags": false
 },
 "nbformat": 4,
 "nbformat_minor": 5
}
