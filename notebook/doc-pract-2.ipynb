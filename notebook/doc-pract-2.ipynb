{
 "cells": [
  {
   "cell_type": "markdown",
   "id": "2412e7cf-4dfe-4bda-9156-f3eb783d9054",
   "metadata": {
    "tags": []
   },
   "source": [
    "# Tipología y ciclo de vida de los datos: PRÁCTICA II\n",
    "\n",
    "Componentes de la práctica:\n",
    "\n",
    " **Miguel Rafael Esteban Martín** (mestebanmart@uoc.edu)\n",
    " \n",
    " \n",
    "## Indice de contenidos\n",
    "\n",
    " - Código\n",
    " - Descripción del dataset.\n",
    " - Integración y selección de los datos de interés a analizar.\n",
    " - Limpieza de los datos.\n",
    " - Análisis de los datos.\n",
    " - Resolución del problema: Conclusiones \n"
   ]
  },
  {
   "cell_type": "markdown",
   "id": "f327f6fa-4e11-4f72-ae07-29fc66783ebb",
   "metadata": {
    "jp-MarkdownHeadingCollapsed": true,
    "tags": []
   },
   "source": [
    "## Código\n",
    "\n",
    "La codificación de está práctica se ha realizado a partir de un [notebook Jupyter](https://jupyter.org/) que permite una programación interactiva y documentar y explicar el código mientras este puede ser ejecutado. \n",
    "\n",
    "Muchas de las gráficas y explicación de porque el uso de cada uno de los métodos usados están en este notebook, es por eso que este documento es una mera guía que en muchos casos hará referencia a secciones de este notebook. \n",
    "\n",
    "El notebook puede ser facilmente ejecutado desde docker y el repositorio contiene una pequeña documentación para poder ejecutarlo. Por facilidad, también se ha realizado una exportación en un formato PDF de una ejecución de este notebook, una posibilidad que permite Jupyter.\n",
    "\n",
    "Los enlaces son:\n",
    "\n",
    " - Repositorio GitHub:   \n",
    " [https://github.com/miguel-esteban-uoc/pract-2/](https://github.com/miguel-esteban-uoc/pract-2/)\n",
    " - Jupyter notebook de esta páctica:   \n",
    " [https://github.com/miguel-esteban-uoc/pract-2/blob/main/notebook/pract-2.ipynb](https://github.com/miguel-esteban-uoc/pract-2/blob/main/notebook/pract-2.ipynb)\n",
    "  - Exportación de la ejecución en formato PDF:   \n",
    "  [https://github.com/miguel-esteban-uoc/pract-2/raw/main/doc/pract-2-export.pdf](https://github.com/miguel-esteban-uoc/pract-2/raw/main/doc/pract-2-export.pdf)\n",
    "  - Instrucciones de como poder ejecutar el notebook mediante docker:    \n",
    "  [https://github.com/miguel-esteban-uoc/pract-2/blob/main/doc/install/docker.md](https://github.com/miguel-esteban-uoc/pract-2/blob/main/doc/install/docker.md)\n"
   ]
  },
  {
   "cell_type": "markdown",
   "id": "72dc4e4f-0316-42e0-be58-720b79be9d46",
   "metadata": {},
   "source": [
    "---\n",
    "\n",
    "## Descripcion del dataset\n",
    "\n",
    "Para esta parte de la práctica se parte del datase creado en la primera práctica.\n",
    "\n",
    "> **_\"Histórico de precios sobre Energía (Gas y Electricidad) para mercados Familiar y Profesional de la Zona Euro\"_**   \n",
    "     DOI: [**`10.5281/zenodo.6424152`**](https://doi.org/10.5281/zenodo.6424152)\n",
    "\n",
    "La razón fundamental de el porqué creamos este dataset es el de entender y comprobar las relaciones entre el precio del gas y la electricidad a lo largo del tiempo dentro de la Zona Euro. Los precios de la energía, es un asunto de actualidad en el tiempo en que se realiza esta práctica, debido al continuo aumento de los mismos. Los datos base fueron obtenidos de la página de la página de estadísitica de la Comunidad Europea, Eurostat: [_https://ec.europa.eu/eurostat/web/main/data/database_](https://ec.europa.eu/eurostat/web/main/data/database).\n",
    "\n",
    "--- \n",
    "\n",
    "**_Nota sobre el dataset en esta práctica_:**\n",
    "\n",
    "En la primera parte ([Jupyter notebook](https://github.com/tipologia-datos-UOC-pract-jonas-miguel/pract-1/blob/main/notebook/pract-1.ipynb)) de la práctica ya se realizo parte del estudio que se pide en el enunciado de esta práctica. El dataset final entregado, incluyo un estudio previo tanto de los valores extremos como de limpieza de datos y se eliminaron los primeros y se propusieron estimadores para los valores nulos.\n",
    "\n",
    "Como estos apartados entrán dentro del dominio de este trabajo, el enfoque que se ha seguido es, en vez de partir del dataset original, se partirá  de los cuatro ficheros de los subdataset que se generaron en pasos anteriores para generar el dataset original: precios del gas doméstico, electricidad doméstico, gas industrial y electricidad industrial. \n",
    "\n",
    "Los siguientes pasos serán agrupar todos los datos y volver a realizar los estudios de limpieza de datos y gestión de valores extremos. Se obtendrán así, los datos que componen el dataset original, del que filtrando los datos relativos a los precios domésticos, se obtendrá el dataset final de trabajo para realizar el estudio.\n",
    "\n",
    "--- \n"
   ]
  },
  {
   "cell_type": "markdown",
   "id": "034397fc-38aa-48af-9365-c20a25ed2f25",
   "metadata": {},
   "source": [
    "---\n",
    "\n",
    "## Integración y selección de los datos de interés a analizar\n",
    "\n",
    "En la primera parte de la práctica ya se hizo un primer estudio de los datos a incluir. Este estudio también se incluye en esta parte de el [notebook](https://github.com/miguel-esteban-uoc/pract-2/blob/main/notebook/pract-2.ipynb) de esta parte de la práctica (**Sección 2.6** y **2.6.6.**). Aunque se incluyeron los datos de los precios de la electricidad y el gas para un uso no doméstico, no eran suficientes como para poder hacer un estudio, por lo que en esta parte se centrará en los datos de los **precios de la energía (electricidad y gas) en el ámbito doméstico**.\n",
    "\n",
    "Lo que se pretende es conocer si existe relación entre los precios del gas y la electricidad, en este caso de los valores domésticos. Se ha realizado un estudio de estos precios año por año y también de todo el conjunto de datos.\n",
    "\n",
    "### Estructura del dataset de trabajo\n",
    "\n",
    "El dataset original tenía una estructura en la que cada precio de un tipo (electricidad ó gas) y año tenía su propia columna y cada registro estaba relacionado con un país:\n",
    "\n",
    "_Campos del dataset original_\n",
    "\n",
    "| Nombre del campo   | Tipo                  | Descripción                                     |\n",
    "| :-                 | :-                    | :-                                              |\n",
    "| country            | Cadena                | El identificador del país                       |\n",
    "| country_name       | Cadena                | Nombre del país (En inglés)                     |\n",
    "| 2017_ElectHouse    | Numérico, 4 decimales | Precio de la electricidad doméstica en el 2017  |\n",
    "| 2018_ElectHouse    | Numérico, 4 decimales | Precio de la electricidad doméstica en el 2018  |\n",
    "| 2019_ElectHouse    | Numérico, 4 decimales | Precio de la electricidad doméstica en el 2019  |\n",
    "| 2020_ElectHouse    | Numérico, 4 decimales | Precio de la electricidad doméstica en el 2020  |\n",
    "| 2021_ElectHouse    | Numérico, 4 decimales | Precio de la electricidad doméstica en el 2021  |\n",
    "| 2017_ElectNoHouse  | Numérico, 4 decimales | Precio de la electricidad industrial en el 2017 |\n",
    "| 2018_ElectNoHouse  | Numérico, 4 decimales | Precio de la electricidad industrial en el 2018 |\n",
    "| 2019_ElectNoHouse  | Numérico, 4 decimales | Precio de la electricidad industrial en el 2019 |\n",
    "| 2020_ElectNoHouse  | Numérico, 4 decimales | Precio de la electricidad industrial en el 2020 |\n",
    "| 2021_ElectNoHouse  | Numérico, 4 decimales | Precio de la electricidad industrial en el 2021 |\n",
    "| 2017_GasHouse      | Numérico, 4 decimales | Precio del gas doméstico en el 2017             |\n",
    "| 2018_GasHouse      | Numérico, 4 decimales | Precio del gas doméstico en el 2018             |\n",
    "| 2019_GasHouse      | Numérico, 4 decimales | Precio del gas doméstico en el 2019             |\n",
    "| 2020_GasHouse      | Numérico, 4 decimales | Precio del gas doméstico en el 2020             |\n",
    "| 2021_GasHouse      | Numérico, 4 decimales | Precio del gas doméstico en el 2021             |\n",
    "| 2017_GasNoHouse    | Numérico, 4 decimales | Precio del gas industrial en el 2017            |\n",
    "| 2018_GasNoHouse    | Numérico, 4 decimales | Precio del gas industrial en el 2018            |\n",
    "| 2019_GasNoHouse    | Numérico, 4 decimales | Precio del gas industrial en el 2019            |\n",
    "| 2020_GasNoHouse    | Numérico, 4 decimales | Precio del gas industrial en el 2020            |\n",
    "| 2021_GasNoHouse    | Numérico, 4 decimales | Precio del gas industrial en el 2021            |\n",
    "\n",
    "\n",
    "Para realizar el estudio es mejor transformar este dataset en uno que tenga en cada registro la información del país, el año de los precios y los precios de la electricidad y el gas, estos últimos son los del contexto doméstico que son en los que se centrará el estudio. Los **campos del dataset de trabajo** son entonces:\n",
    "\n",
    "\n",
    "| Nombre del campo | Tipo                  | Descripción                                    |\n",
    "| :-               | :-                    | :-                                             |\n",
    "| country          | Cadena                | El identificador del país                      |\n",
    "| Year             | Entero                | Año de los precios                             |\n",
    "| ElectricityPrice | Numérico, 4 decimales | Precio de la electricidad doméstica en ese año |\n",
    "| GasPrice         | Numérico, 4 decimales | Precio del gas doméstico en ese año            |\n",
    "\n",
    "La generación del dataset original se ha realizado en las secciones se ha realizado en las **secciones 1. y 2.** de la [práctica](https://github.com/miguel-esteban-uoc/pract-2/blob/main/notebook/pract-2.ipynb) y la generación del dataset de trabajo en la **sección 3.**\n",
    "\n"
   ]
  },
  {
   "cell_type": "markdown",
   "id": "7d88d209-f682-422f-9bb3-8da6ba45e5a6",
   "metadata": {},
   "source": [
    "---\n",
    "\n",
    "## Limpieza de los datos.\n",
    "\n",
    "Como se ha indicado, en la primera parte de la práctica ya se hizo un análisis de los datos en crudo y se hizo un preproceso de limpieza y de complitud de los datos.\n",
    "\n",
    "Esta parte se ha inculido en esta parte de la [práctica](https://github.com/miguel-esteban-uoc/pract-2/blob/main/notebook/pract-2.ipynb) **sección 2.6.** . Se inicializa a nulo los valores extremos, valores máximos de la población para luego despues utilizar un estimador de la media para completar estos valores "
   ]
  }
 ],
 "metadata": {
  "kernelspec": {
   "display_name": "Python 3 (ipykernel)",
   "language": "python",
   "name": "python3"
  },
  "language_info": {
   "codemirror_mode": {
    "name": "ipython",
    "version": 3
   },
   "file_extension": ".py",
   "mimetype": "text/x-python",
   "name": "python",
   "nbconvert_exporter": "python",
   "pygments_lexer": "ipython3",
   "version": "3.9.10"
  },
  "toc-autonumbering": false,
  "toc-showcode": false,
  "toc-showmarkdowntxt": false,
  "toc-showtags": false
 },
 "nbformat": 4,
 "nbformat_minor": 5
}
