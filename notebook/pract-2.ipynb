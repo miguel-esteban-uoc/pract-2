{
 "cells": [
  {
   "cell_type": "markdown",
   "id": "aa302e3a-a1d3-4363-b430-e5ad96c3014b",
   "metadata": {},
   "source": [
    "# Práctica II"
   ]
  },
  {
   "cell_type": "markdown",
   "id": "86d1008e-ce8c-46ea-8351-2e8669dd0e7c",
   "metadata": {},
   "source": [
    "## Obtención de los datos"
   ]
  },
  {
   "cell_type": "markdown",
   "id": "dde5d0aa-fc8a-474a-be3b-d43f880afe4a",
   "metadata": {},
   "source": [
    "### Funciones de utilidad"
   ]
  },
  {
   "cell_type": "markdown",
   "id": "88cea510-ac50-4a57-98e4-fdce03b2a053",
   "metadata": {},
   "source": [
    "Importación de las librerías necesarias"
   ]
  },
  {
   "cell_type": "code",
   "execution_count": 1,
   "id": "97025d38-7a40-41c9-8c2e-d25f6db1de07",
   "metadata": {},
   "outputs": [],
   "source": [
    "import seaborn as sns\n",
    "import pandas as pd\n",
    "import numpy as np\n",
    "from scipy import stats\n",
    "from scipy.stats import bartlett\n",
    "from scipy.stats import pearsonr\n",
    "from scipy.stats import levene\n",
    "import matplotlib.pyplot as plt\n",
    "import statsmodels.api as sm"
   ]
  },
  {
   "cell_type": "code",
   "execution_count": 2,
   "id": "54bdbcbd-3660-4ca5-b71c-fd8f5f95697b",
   "metadata": {},
   "outputs": [],
   "source": [
    "def root_path( directory, file_name ):\n",
    "    return '/home/jovyan/work/%s/%s.csv' % (directory, file_name )\n",
    "    "
   ]
  },
  {
   "cell_type": "markdown",
   "id": "9fd56f0c-108e-495b-a7f6-b3a2da3edd46",
   "metadata": {},
   "source": [
    "Función **`export_dataframe`** que permite exportar el dataframe a fichero CSV"
   ]
  },
  {
   "cell_type": "code",
   "execution_count": 3,
   "id": "8a20600f-56ee-47fa-a370-d0e4ba47088b",
   "metadata": {},
   "outputs": [],
   "source": [
    "def export_dataframe( df, file_name, directory ):\n",
    "    file = root_path( directory, file_name )\n",
    "    df.to_csv(file )    \n",
    "    "
   ]
  },
  {
   "cell_type": "code",
   "execution_count": 4,
   "id": "8857c47c-974f-4625-96a9-f679943da11f",
   "metadata": {},
   "outputs": [],
   "source": [
    "def read_dataframe( file_name, directory ):\n",
    "    file = root_path( directory, file_name )\n",
    "    return pd.read_csv(file )\n",
    "    "
   ]
  },
  {
   "cell_type": "code",
   "execution_count": 5,
   "id": "6cfaaaa5-5082-4c04-aec9-93352e73ae7b",
   "metadata": {},
   "outputs": [],
   "source": [
    "def read_subdataframe( file_name ):\n",
    "    return read_dataframe( \n",
    "        file_name = file_name,\n",
    "        directory = 'subdataset' \n",
    "    ).iloc[ : , 1:]"
   ]
  },
  {
   "cell_type": "markdown",
   "id": "f3b8df46-a6e4-4b22-9b6f-a7f4da8a6b1c",
   "metadata": {
    "tags": []
   },
   "source": [
    "### _DATASET I_: Precio de Gas doméstico en € por kw/h\n",
    "\n",
    "Obtención de los datos del subdataset de los precios del gas doméstico: `data_gas_prices_household_consumers.csv`"
   ]
  },
  {
   "cell_type": "markdown",
   "id": "f83c4c56-3467-46a9-91a4-4e04d839e358",
   "metadata": {},
   "source": [
    "Importación del subdataframe"
   ]
  },
  {
   "cell_type": "code",
   "execution_count": 6,
   "id": "4d987e1b-f6ad-407a-856d-ad63cd68ab15",
   "metadata": {},
   "outputs": [],
   "source": [
    "data_gas_prices_household_consumers = read_subdataframe(\n",
    "    file_name = 'data_gas_prices_household_consumers'\n",
    ")"
   ]
  },
  {
   "cell_type": "markdown",
   "id": "5a350de2-4df0-4e1b-8447-9227bc66c5ce",
   "metadata": {},
   "source": [
    "Columnas del dataset:"
   ]
  },
  {
   "cell_type": "code",
   "execution_count": 7,
   "id": "ad8f65ca-56fa-43c3-9f4c-2929e2088f98",
   "metadata": {},
   "outputs": [
    {
     "data": {
      "text/plain": [
       "country          object\n",
       "country_name     object\n",
       "2017            float64\n",
       "2018            float64\n",
       "2019            float64\n",
       "2020            float64\n",
       "2021            float64\n",
       "dtype: object"
      ]
     },
     "metadata": {},
     "output_type": "display_data"
    }
   ],
   "source": [
    "display( data_gas_prices_household_consumers.dtypes )"
   ]
  },
  {
   "cell_type": "markdown",
   "id": "47339e34-646d-4454-8b89-cf15125dacde",
   "metadata": {},
   "source": [
    "Se muestran los 10 primeros valores:"
   ]
  },
  {
   "cell_type": "code",
   "execution_count": 8,
   "id": "220ae3c9-c4bc-41b2-a279-da9784849327",
   "metadata": {},
   "outputs": [
    {
     "data": {
      "text/html": [
       "<div>\n",
       "<style scoped>\n",
       "    .dataframe tbody tr th:only-of-type {\n",
       "        vertical-align: middle;\n",
       "    }\n",
       "\n",
       "    .dataframe tbody tr th {\n",
       "        vertical-align: top;\n",
       "    }\n",
       "\n",
       "    .dataframe thead th {\n",
       "        text-align: right;\n",
       "    }\n",
       "</style>\n",
       "<table border=\"1\" class=\"dataframe\">\n",
       "  <thead>\n",
       "    <tr style=\"text-align: right;\">\n",
       "      <th></th>\n",
       "      <th>country</th>\n",
       "      <th>country_name</th>\n",
       "      <th>2017</th>\n",
       "      <th>2018</th>\n",
       "      <th>2019</th>\n",
       "      <th>2020</th>\n",
       "      <th>2021</th>\n",
       "    </tr>\n",
       "  </thead>\n",
       "  <tbody>\n",
       "    <tr>\n",
       "      <th>0</th>\n",
       "      <td>AT</td>\n",
       "      <td>Austria</td>\n",
       "      <td>0.0299</td>\n",
       "      <td>0.0304</td>\n",
       "      <td>0.0312</td>\n",
       "      <td>0.0308</td>\n",
       "      <td>0.0316</td>\n",
       "    </tr>\n",
       "    <tr>\n",
       "      <th>1</th>\n",
       "      <td>BA</td>\n",
       "      <td>Bosnia and Herzegovina</td>\n",
       "      <td>0.0240</td>\n",
       "      <td>0.0240</td>\n",
       "      <td>0.0249</td>\n",
       "      <td>0.0258</td>\n",
       "      <td>0.0251</td>\n",
       "    </tr>\n",
       "    <tr>\n",
       "      <th>2</th>\n",
       "      <td>BE</td>\n",
       "      <td>Belgium</td>\n",
       "      <td>0.0283</td>\n",
       "      <td>0.0288</td>\n",
       "      <td>0.0289</td>\n",
       "      <td>0.0252</td>\n",
       "      <td>0.0315</td>\n",
       "    </tr>\n",
       "    <tr>\n",
       "      <th>3</th>\n",
       "      <td>BG</td>\n",
       "      <td>Bulgaria</td>\n",
       "      <td>0.0170</td>\n",
       "      <td>0.0209</td>\n",
       "      <td>0.0240</td>\n",
       "      <td>0.0177</td>\n",
       "      <td>0.0331</td>\n",
       "    </tr>\n",
       "    <tr>\n",
       "      <th>4</th>\n",
       "      <td>CZ</td>\n",
       "      <td>Czechia</td>\n",
       "      <td>0.0360</td>\n",
       "      <td>0.0390</td>\n",
       "      <td>0.0455</td>\n",
       "      <td>0.0431</td>\n",
       "      <td>0.0448</td>\n",
       "    </tr>\n",
       "    <tr>\n",
       "      <th>5</th>\n",
       "      <td>DE</td>\n",
       "      <td>Germany (until 1990 former territory of the FRG)</td>\n",
       "      <td>NaN</td>\n",
       "      <td>NaN</td>\n",
       "      <td>0.0278</td>\n",
       "      <td>0.0292</td>\n",
       "      <td>0.0293</td>\n",
       "    </tr>\n",
       "    <tr>\n",
       "      <th>6</th>\n",
       "      <td>DK</td>\n",
       "      <td>Denmark</td>\n",
       "      <td>0.0234</td>\n",
       "      <td>0.0259</td>\n",
       "      <td>0.0209</td>\n",
       "      <td>0.0160</td>\n",
       "      <td>0.0415</td>\n",
       "    </tr>\n",
       "    <tr>\n",
       "      <th>7</th>\n",
       "      <td>EA</td>\n",
       "      <td>Euro area (EA11-1999, EA12-2001, EA13-2007, EA...</td>\n",
       "      <td>0.0295</td>\n",
       "      <td>0.0303</td>\n",
       "      <td>0.0319</td>\n",
       "      <td>0.0302</td>\n",
       "      <td>0.0315</td>\n",
       "    </tr>\n",
       "    <tr>\n",
       "      <th>8</th>\n",
       "      <td>EE</td>\n",
       "      <td>Estonia</td>\n",
       "      <td>0.0234</td>\n",
       "      <td>0.0239</td>\n",
       "      <td>0.0253</td>\n",
       "      <td>0.0240</td>\n",
       "      <td>0.0361</td>\n",
       "    </tr>\n",
       "    <tr>\n",
       "      <th>9</th>\n",
       "      <td>EL</td>\n",
       "      <td>Greece</td>\n",
       "      <td>NaN</td>\n",
       "      <td>0.0311</td>\n",
       "      <td>0.0338</td>\n",
       "      <td>0.0258</td>\n",
       "      <td>0.0444</td>\n",
       "    </tr>\n",
       "  </tbody>\n",
       "</table>\n",
       "</div>"
      ],
      "text/plain": [
       "  country                                       country_name    2017    2018  \\\n",
       "0      AT                                            Austria  0.0299  0.0304   \n",
       "1      BA                             Bosnia and Herzegovina  0.0240  0.0240   \n",
       "2      BE                                            Belgium  0.0283  0.0288   \n",
       "3      BG                                           Bulgaria  0.0170  0.0209   \n",
       "4      CZ                                            Czechia  0.0360  0.0390   \n",
       "5      DE   Germany (until 1990 former territory of the FRG)     NaN     NaN   \n",
       "6      DK                                            Denmark  0.0234  0.0259   \n",
       "7      EA  Euro area (EA11-1999, EA12-2001, EA13-2007, EA...  0.0295  0.0303   \n",
       "8      EE                                            Estonia  0.0234  0.0239   \n",
       "9      EL                                             Greece     NaN  0.0311   \n",
       "\n",
       "     2019    2020    2021  \n",
       "0  0.0312  0.0308  0.0316  \n",
       "1  0.0249  0.0258  0.0251  \n",
       "2  0.0289  0.0252  0.0315  \n",
       "3  0.0240  0.0177  0.0331  \n",
       "4  0.0455  0.0431  0.0448  \n",
       "5  0.0278  0.0292  0.0293  \n",
       "6  0.0209  0.0160  0.0415  \n",
       "7  0.0319  0.0302  0.0315  \n",
       "8  0.0253  0.0240  0.0361  \n",
       "9  0.0338  0.0258  0.0444  "
      ]
     },
     "execution_count": 8,
     "metadata": {},
     "output_type": "execute_result"
    }
   ],
   "source": [
    "data_gas_prices_household_consumers.head( 10 )"
   ]
  },
  {
   "cell_type": "markdown",
   "id": "1d3f844c-14b1-415a-9244-223d4380ebfd",
   "metadata": {
    "tags": []
   },
   "source": [
    "### _DATASET II_: Precio de Gas no doméstico en € por kw/h\n",
    "\n",
    "Obtención de los datos del subdataset de los precios del gas no doméstico: `data_gas_prices_no_household_consumers.csv`"
   ]
  },
  {
   "cell_type": "markdown",
   "id": "85d344f4-d047-4848-b4f1-9550f7070a81",
   "metadata": {},
   "source": [
    "Importación del subdataframe"
   ]
  },
  {
   "cell_type": "code",
   "execution_count": 9,
   "id": "f8916245-7df8-4420-a7e8-15658dcd3ea2",
   "metadata": {},
   "outputs": [],
   "source": [
    "data_gas_prices_no_household_consumers = read_subdataframe(\n",
    "    file_name = 'data_gas_prices_no_household_consumers'\n",
    ")"
   ]
  },
  {
   "cell_type": "markdown",
   "id": "2e54d790-40a9-4dcc-a27f-79e7a4d9fd86",
   "metadata": {},
   "source": [
    "Columnas del dataset:"
   ]
  },
  {
   "cell_type": "code",
   "execution_count": 10,
   "id": "30899333-ecca-46fb-aca4-e80635f19792",
   "metadata": {},
   "outputs": [
    {
     "data": {
      "text/plain": [
       "country          object\n",
       "country_name     object\n",
       "2017            float64\n",
       "2018            float64\n",
       "2019            float64\n",
       "2020            float64\n",
       "2021            float64\n",
       "dtype: object"
      ]
     },
     "metadata": {},
     "output_type": "display_data"
    }
   ],
   "source": [
    "display( data_gas_prices_no_household_consumers.dtypes )"
   ]
  },
  {
   "cell_type": "markdown",
   "id": "aaf54e7e-37a1-4605-9822-36edcd0619c3",
   "metadata": {},
   "source": [
    "Se muestran los 10 primeros valores:"
   ]
  },
  {
   "cell_type": "code",
   "execution_count": 11,
   "id": "8866b95c-3630-4882-bbb0-670c78068f11",
   "metadata": {
    "tags": []
   },
   "outputs": [
    {
     "data": {
      "text/html": [
       "<div>\n",
       "<style scoped>\n",
       "    .dataframe tbody tr th:only-of-type {\n",
       "        vertical-align: middle;\n",
       "    }\n",
       "\n",
       "    .dataframe tbody tr th {\n",
       "        vertical-align: top;\n",
       "    }\n",
       "\n",
       "    .dataframe thead th {\n",
       "        text-align: right;\n",
       "    }\n",
       "</style>\n",
       "<table border=\"1\" class=\"dataframe\">\n",
       "  <thead>\n",
       "    <tr style=\"text-align: right;\">\n",
       "      <th></th>\n",
       "      <th>country</th>\n",
       "      <th>country_name</th>\n",
       "      <th>2017</th>\n",
       "      <th>2018</th>\n",
       "      <th>2019</th>\n",
       "      <th>2020</th>\n",
       "      <th>2021</th>\n",
       "    </tr>\n",
       "  </thead>\n",
       "  <tbody>\n",
       "    <tr>\n",
       "      <th>0</th>\n",
       "      <td>AT</td>\n",
       "      <td>Austria</td>\n",
       "      <td>NaN</td>\n",
       "      <td>NaN</td>\n",
       "      <td>0.0184</td>\n",
       "      <td>0.0168</td>\n",
       "      <td>0.0297</td>\n",
       "    </tr>\n",
       "    <tr>\n",
       "      <th>1</th>\n",
       "      <td>BA</td>\n",
       "      <td>Bosnia and Herzegovina</td>\n",
       "      <td>NaN</td>\n",
       "      <td>NaN</td>\n",
       "      <td>0.0257</td>\n",
       "      <td>0.0259</td>\n",
       "      <td>0.0248</td>\n",
       "    </tr>\n",
       "    <tr>\n",
       "      <th>2</th>\n",
       "      <td>BE</td>\n",
       "      <td>Belgium</td>\n",
       "      <td>NaN</td>\n",
       "      <td>NaN</td>\n",
       "      <td>0.0189</td>\n",
       "      <td>0.0148</td>\n",
       "      <td>0.0318</td>\n",
       "    </tr>\n",
       "    <tr>\n",
       "      <th>3</th>\n",
       "      <td>BG</td>\n",
       "      <td>Bulgaria</td>\n",
       "      <td>NaN</td>\n",
       "      <td>NaN</td>\n",
       "      <td>0.0213</td>\n",
       "      <td>0.0142</td>\n",
       "      <td>0.0299</td>\n",
       "    </tr>\n",
       "    <tr>\n",
       "      <th>4</th>\n",
       "      <td>CZ</td>\n",
       "      <td>Czechia</td>\n",
       "      <td>NaN</td>\n",
       "      <td>NaN</td>\n",
       "      <td>0.0226</td>\n",
       "      <td>0.0192</td>\n",
       "      <td>0.0259</td>\n",
       "    </tr>\n",
       "    <tr>\n",
       "      <th>5</th>\n",
       "      <td>DE</td>\n",
       "      <td>Germany (until 1990 former territory of the FRG)</td>\n",
       "      <td>NaN</td>\n",
       "      <td>NaN</td>\n",
       "      <td>0.0196</td>\n",
       "      <td>0.0171</td>\n",
       "      <td>0.0262</td>\n",
       "    </tr>\n",
       "    <tr>\n",
       "      <th>6</th>\n",
       "      <td>DK</td>\n",
       "      <td>Denmark</td>\n",
       "      <td>0.0194</td>\n",
       "      <td>0.0234</td>\n",
       "      <td>0.0178</td>\n",
       "      <td>0.0137</td>\n",
       "      <td>0.0448</td>\n",
       "    </tr>\n",
       "    <tr>\n",
       "      <th>7</th>\n",
       "      <td>EA</td>\n",
       "      <td>Euro area (EA11-1999, EA12-2001, EA13-2007, EA...</td>\n",
       "      <td>0.0220</td>\n",
       "      <td>0.0240</td>\n",
       "      <td>0.0211</td>\n",
       "      <td>0.0175</td>\n",
       "      <td>0.0278</td>\n",
       "    </tr>\n",
       "    <tr>\n",
       "      <th>8</th>\n",
       "      <td>EE</td>\n",
       "      <td>Estonia</td>\n",
       "      <td>NaN</td>\n",
       "      <td>NaN</td>\n",
       "      <td>0.0213</td>\n",
       "      <td>0.0155</td>\n",
       "      <td>0.0352</td>\n",
       "    </tr>\n",
       "    <tr>\n",
       "      <th>9</th>\n",
       "      <td>EL</td>\n",
       "      <td>Greece</td>\n",
       "      <td>NaN</td>\n",
       "      <td>NaN</td>\n",
       "      <td>0.0260</td>\n",
       "      <td>0.0165</td>\n",
       "      <td>0.0337</td>\n",
       "    </tr>\n",
       "  </tbody>\n",
       "</table>\n",
       "</div>"
      ],
      "text/plain": [
       "  country                                       country_name    2017    2018  \\\n",
       "0      AT                                            Austria     NaN     NaN   \n",
       "1      BA                             Bosnia and Herzegovina     NaN     NaN   \n",
       "2      BE                                            Belgium     NaN     NaN   \n",
       "3      BG                                           Bulgaria     NaN     NaN   \n",
       "4      CZ                                            Czechia     NaN     NaN   \n",
       "5      DE   Germany (until 1990 former territory of the FRG)     NaN     NaN   \n",
       "6      DK                                            Denmark  0.0194  0.0234   \n",
       "7      EA  Euro area (EA11-1999, EA12-2001, EA13-2007, EA...  0.0220  0.0240   \n",
       "8      EE                                            Estonia     NaN     NaN   \n",
       "9      EL                                             Greece     NaN     NaN   \n",
       "\n",
       "     2019    2020    2021  \n",
       "0  0.0184  0.0168  0.0297  \n",
       "1  0.0257  0.0259  0.0248  \n",
       "2  0.0189  0.0148  0.0318  \n",
       "3  0.0213  0.0142  0.0299  \n",
       "4  0.0226  0.0192  0.0259  \n",
       "5  0.0196  0.0171  0.0262  \n",
       "6  0.0178  0.0137  0.0448  \n",
       "7  0.0211  0.0175  0.0278  \n",
       "8  0.0213  0.0155  0.0352  \n",
       "9  0.0260  0.0165  0.0337  "
      ]
     },
     "execution_count": 11,
     "metadata": {},
     "output_type": "execute_result"
    }
   ],
   "source": [
    "data_gas_prices_no_household_consumers.head( 10 )"
   ]
  },
  {
   "cell_type": "markdown",
   "id": "816fc333-0986-45bf-b116-d78a8799bb67",
   "metadata": {
    "tags": []
   },
   "source": [
    "### _DATASET III_: Precio de la electricidad doméstica para la franja de 2.500 a 4.999 kWh\n",
    "\n",
    "Obtención de los datos del subdataset del precio de la electricidad doméstica para la franja de 2.500 a 4.999 kWh `data_electricity_prices_household_consumers.csv`\n"
   ]
  },
  {
   "cell_type": "markdown",
   "id": "b260f3e9-e81e-4dae-9a45-acfac1667a65",
   "metadata": {},
   "source": [
    "Importación del subdataframe"
   ]
  },
  {
   "cell_type": "code",
   "execution_count": 12,
   "id": "7eb66b98-ae6f-4be6-ab85-3fa35a4bb8b0",
   "metadata": {},
   "outputs": [],
   "source": [
    "data_electricity_prices_household_consumers = read_subdataframe(\n",
    "    file_name = 'data_electricity_prices_household_consumers'\n",
    ")"
   ]
  },
  {
   "cell_type": "markdown",
   "id": "a00a3802-d878-4f24-8d41-5a7034bc1326",
   "metadata": {},
   "source": [
    "Columnas del dataset:"
   ]
  },
  {
   "cell_type": "code",
   "execution_count": 13,
   "id": "bfe6451b-2738-48fb-92c1-106d929ff8ff",
   "metadata": {},
   "outputs": [
    {
     "data": {
      "text/plain": [
       "country          object\n",
       "country_name     object\n",
       "2012-S2         float64\n",
       "2013-S2         float64\n",
       "2014-S2         float64\n",
       "2015-S2         float64\n",
       "2016-S2         float64\n",
       "2017            float64\n",
       "2018            float64\n",
       "2019            float64\n",
       "2020            float64\n",
       "2021            float64\n",
       "dtype: object"
      ]
     },
     "metadata": {},
     "output_type": "display_data"
    }
   ],
   "source": [
    "display( data_electricity_prices_household_consumers.dtypes )"
   ]
  },
  {
   "cell_type": "markdown",
   "id": "5ad87b51-3aba-46c0-bd1f-2c8235bb7085",
   "metadata": {},
   "source": [
    "Se muestran los 10 primeros valores:"
   ]
  },
  {
   "cell_type": "code",
   "execution_count": 14,
   "id": "5b5acd6e-6fea-4ff1-96ee-fdfda02f1544",
   "metadata": {},
   "outputs": [
    {
     "data": {
      "text/html": [
       "<div>\n",
       "<style scoped>\n",
       "    .dataframe tbody tr th:only-of-type {\n",
       "        vertical-align: middle;\n",
       "    }\n",
       "\n",
       "    .dataframe tbody tr th {\n",
       "        vertical-align: top;\n",
       "    }\n",
       "\n",
       "    .dataframe thead th {\n",
       "        text-align: right;\n",
       "    }\n",
       "</style>\n",
       "<table border=\"1\" class=\"dataframe\">\n",
       "  <thead>\n",
       "    <tr style=\"text-align: right;\">\n",
       "      <th></th>\n",
       "      <th>country</th>\n",
       "      <th>country_name</th>\n",
       "      <th>2012-S2</th>\n",
       "      <th>2013-S2</th>\n",
       "      <th>2014-S2</th>\n",
       "      <th>2015-S2</th>\n",
       "      <th>2016-S2</th>\n",
       "      <th>2017</th>\n",
       "      <th>2018</th>\n",
       "      <th>2019</th>\n",
       "      <th>2020</th>\n",
       "      <th>2021</th>\n",
       "    </tr>\n",
       "  </thead>\n",
       "  <tbody>\n",
       "    <tr>\n",
       "      <th>0</th>\n",
       "      <td>AL</td>\n",
       "      <td>Albania</td>\n",
       "      <td>NaN</td>\n",
       "      <td>NaN</td>\n",
       "      <td>NaN</td>\n",
       "      <td>NaN</td>\n",
       "      <td>NaN</td>\n",
       "      <td>0.0713</td>\n",
       "      <td>0.0759</td>\n",
       "      <td>0.0778</td>\n",
       "      <td>NaN</td>\n",
       "      <td>0.0781</td>\n",
       "    </tr>\n",
       "    <tr>\n",
       "      <th>1</th>\n",
       "      <td>AT</td>\n",
       "      <td>Austria</td>\n",
       "      <td>NaN</td>\n",
       "      <td>NaN</td>\n",
       "      <td>NaN</td>\n",
       "      <td>NaN</td>\n",
       "      <td>NaN</td>\n",
       "      <td>0.0613</td>\n",
       "      <td>0.0623</td>\n",
       "      <td>0.0687</td>\n",
       "      <td>0.0732</td>\n",
       "      <td>0.0745</td>\n",
       "    </tr>\n",
       "    <tr>\n",
       "      <th>2</th>\n",
       "      <td>BA</td>\n",
       "      <td>Bosnia and Herzegovina</td>\n",
       "      <td>NaN</td>\n",
       "      <td>NaN</td>\n",
       "      <td>NaN</td>\n",
       "      <td>NaN</td>\n",
       "      <td>NaN</td>\n",
       "      <td>0.0342</td>\n",
       "      <td>0.0338</td>\n",
       "      <td>0.0361</td>\n",
       "      <td>0.0365</td>\n",
       "      <td>NaN</td>\n",
       "    </tr>\n",
       "    <tr>\n",
       "      <th>3</th>\n",
       "      <td>BE</td>\n",
       "      <td>Belgium</td>\n",
       "      <td>NaN</td>\n",
       "      <td>NaN</td>\n",
       "      <td>NaN</td>\n",
       "      <td>NaN</td>\n",
       "      <td>NaN</td>\n",
       "      <td>0.0735</td>\n",
       "      <td>0.0808</td>\n",
       "      <td>0.0859</td>\n",
       "      <td>0.0786</td>\n",
       "      <td>0.0844</td>\n",
       "    </tr>\n",
       "    <tr>\n",
       "      <th>4</th>\n",
       "      <td>BG</td>\n",
       "      <td>Bulgaria</td>\n",
       "      <td>NaN</td>\n",
       "      <td>NaN</td>\n",
       "      <td>NaN</td>\n",
       "      <td>NaN</td>\n",
       "      <td>NaN</td>\n",
       "      <td>0.0575</td>\n",
       "      <td>0.0585</td>\n",
       "      <td>0.0558</td>\n",
       "      <td>0.0560</td>\n",
       "      <td>0.0608</td>\n",
       "    </tr>\n",
       "    <tr>\n",
       "      <th>5</th>\n",
       "      <td>CY</td>\n",
       "      <td>Cyprus</td>\n",
       "      <td>NaN</td>\n",
       "      <td>NaN</td>\n",
       "      <td>NaN</td>\n",
       "      <td>NaN</td>\n",
       "      <td>NaN</td>\n",
       "      <td>0.1036</td>\n",
       "      <td>0.1157</td>\n",
       "      <td>0.1241</td>\n",
       "      <td>0.1042</td>\n",
       "      <td>0.1094</td>\n",
       "    </tr>\n",
       "    <tr>\n",
       "      <th>6</th>\n",
       "      <td>CZ</td>\n",
       "      <td>Czechia</td>\n",
       "      <td>NaN</td>\n",
       "      <td>NaN</td>\n",
       "      <td>NaN</td>\n",
       "      <td>NaN</td>\n",
       "      <td>NaN</td>\n",
       "      <td>0.0541</td>\n",
       "      <td>0.0570</td>\n",
       "      <td>0.0690</td>\n",
       "      <td>0.0749</td>\n",
       "      <td>0.0979</td>\n",
       "    </tr>\n",
       "    <tr>\n",
       "      <th>7</th>\n",
       "      <td>DE</td>\n",
       "      <td>Germany (until 1990 former territory of the FRG)</td>\n",
       "      <td>NaN</td>\n",
       "      <td>NaN</td>\n",
       "      <td>NaN</td>\n",
       "      <td>NaN</td>\n",
       "      <td>NaN</td>\n",
       "      <td>0.0686</td>\n",
       "      <td>0.0622</td>\n",
       "      <td>0.0581</td>\n",
       "      <td>0.0574</td>\n",
       "      <td>0.0803</td>\n",
       "    </tr>\n",
       "    <tr>\n",
       "      <th>8</th>\n",
       "      <td>DK</td>\n",
       "      <td>Denmark</td>\n",
       "      <td>NaN</td>\n",
       "      <td>NaN</td>\n",
       "      <td>NaN</td>\n",
       "      <td>NaN</td>\n",
       "      <td>NaN</td>\n",
       "      <td>0.0388</td>\n",
       "      <td>0.0503</td>\n",
       "      <td>0.0539</td>\n",
       "      <td>0.0409</td>\n",
       "      <td>0.0747</td>\n",
       "    </tr>\n",
       "    <tr>\n",
       "      <th>9</th>\n",
       "      <td>EA</td>\n",
       "      <td>Euro area (EA11-1999, EA12-2001, EA13-2007, EA...</td>\n",
       "      <td>NaN</td>\n",
       "      <td>NaN</td>\n",
       "      <td>NaN</td>\n",
       "      <td>NaN</td>\n",
       "      <td>NaN</td>\n",
       "      <td>0.0760</td>\n",
       "      <td>0.0801</td>\n",
       "      <td>0.0727</td>\n",
       "      <td>0.0697</td>\n",
       "      <td>0.0898</td>\n",
       "    </tr>\n",
       "  </tbody>\n",
       "</table>\n",
       "</div>"
      ],
      "text/plain": [
       "  country                                       country_name  2012-S2  \\\n",
       "0      AL                                            Albania      NaN   \n",
       "1      AT                                            Austria      NaN   \n",
       "2      BA                             Bosnia and Herzegovina      NaN   \n",
       "3      BE                                            Belgium      NaN   \n",
       "4      BG                                           Bulgaria      NaN   \n",
       "5      CY                                             Cyprus      NaN   \n",
       "6      CZ                                            Czechia      NaN   \n",
       "7      DE   Germany (until 1990 former territory of the FRG)      NaN   \n",
       "8      DK                                            Denmark      NaN   \n",
       "9      EA  Euro area (EA11-1999, EA12-2001, EA13-2007, EA...      NaN   \n",
       "\n",
       "   2013-S2  2014-S2  2015-S2  2016-S2    2017    2018    2019    2020    2021  \n",
       "0      NaN      NaN      NaN      NaN  0.0713  0.0759  0.0778     NaN  0.0781  \n",
       "1      NaN      NaN      NaN      NaN  0.0613  0.0623  0.0687  0.0732  0.0745  \n",
       "2      NaN      NaN      NaN      NaN  0.0342  0.0338  0.0361  0.0365     NaN  \n",
       "3      NaN      NaN      NaN      NaN  0.0735  0.0808  0.0859  0.0786  0.0844  \n",
       "4      NaN      NaN      NaN      NaN  0.0575  0.0585  0.0558  0.0560  0.0608  \n",
       "5      NaN      NaN      NaN      NaN  0.1036  0.1157  0.1241  0.1042  0.1094  \n",
       "6      NaN      NaN      NaN      NaN  0.0541  0.0570  0.0690  0.0749  0.0979  \n",
       "7      NaN      NaN      NaN      NaN  0.0686  0.0622  0.0581  0.0574  0.0803  \n",
       "8      NaN      NaN      NaN      NaN  0.0388  0.0503  0.0539  0.0409  0.0747  \n",
       "9      NaN      NaN      NaN      NaN  0.0760  0.0801  0.0727  0.0697  0.0898  "
      ]
     },
     "execution_count": 14,
     "metadata": {},
     "output_type": "execute_result"
    }
   ],
   "source": [
    "data_electricity_prices_household_consumers.head(10)"
   ]
  },
  {
   "cell_type": "markdown",
   "id": "4e123d2f-31b5-450d-a57a-715180972605",
   "metadata": {
    "tags": []
   },
   "source": [
    "### _DATASET IV_: Precio de la electricidad no doméstica\n",
    "\n",
    "OObtención de los datos del subdataset del precio de la electricidad no doméstica `data_electricity_prices_no_household_consumers.csv`"
   ]
  },
  {
   "cell_type": "markdown",
   "id": "f5183f9e-1f01-4806-adcc-f44642524158",
   "metadata": {},
   "source": [
    "Importación del subdataframe"
   ]
  },
  {
   "cell_type": "code",
   "execution_count": 15,
   "id": "93677943-0c5a-4e32-b48a-ad61537184f8",
   "metadata": {},
   "outputs": [],
   "source": [
    "data_electricity_prices_no_household_consumers = read_subdataframe(\n",
    "    file_name = 'data_electricity_prices_no_household_consumers'\n",
    ")"
   ]
  },
  {
   "cell_type": "markdown",
   "id": "8784320a-4fa6-404f-b954-28f91988646f",
   "metadata": {},
   "source": [
    "Columnas del dataset:"
   ]
  },
  {
   "cell_type": "code",
   "execution_count": 16,
   "id": "0a3ff9cb-bbba-4133-9270-60375f69c9b0",
   "metadata": {},
   "outputs": [
    {
     "data": {
      "text/plain": [
       "country          object\n",
       "country_name     object\n",
       "2007-S2         float64\n",
       "2008-S2         float64\n",
       "2009-S2         float64\n",
       "2010-S2         float64\n",
       "2011-S2         float64\n",
       "2012-S2         float64\n",
       "2013-S2         float64\n",
       "2014-S2         float64\n",
       "2015-S2         float64\n",
       "2016-S2         float64\n",
       "2017            float64\n",
       "2018            float64\n",
       "2019            float64\n",
       "2020            float64\n",
       "2021            float64\n",
       "dtype: object"
      ]
     },
     "metadata": {},
     "output_type": "display_data"
    }
   ],
   "source": [
    "display( data_electricity_prices_no_household_consumers.dtypes )"
   ]
  },
  {
   "cell_type": "markdown",
   "id": "3e008031-51a4-4edb-a7fb-3a2c151446f3",
   "metadata": {},
   "source": [
    "Se muestran los 10 primeros valores:"
   ]
  },
  {
   "cell_type": "code",
   "execution_count": 17,
   "id": "7cf36e9e-5a00-48fc-8f57-1c39de51ec93",
   "metadata": {
    "tags": []
   },
   "outputs": [
    {
     "data": {
      "text/html": [
       "<div>\n",
       "<style scoped>\n",
       "    .dataframe tbody tr th:only-of-type {\n",
       "        vertical-align: middle;\n",
       "    }\n",
       "\n",
       "    .dataframe tbody tr th {\n",
       "        vertical-align: top;\n",
       "    }\n",
       "\n",
       "    .dataframe thead th {\n",
       "        text-align: right;\n",
       "    }\n",
       "</style>\n",
       "<table border=\"1\" class=\"dataframe\">\n",
       "  <thead>\n",
       "    <tr style=\"text-align: right;\">\n",
       "      <th></th>\n",
       "      <th>country</th>\n",
       "      <th>country_name</th>\n",
       "      <th>2007-S2</th>\n",
       "      <th>2008-S2</th>\n",
       "      <th>2009-S2</th>\n",
       "      <th>2010-S2</th>\n",
       "      <th>2011-S2</th>\n",
       "      <th>2012-S2</th>\n",
       "      <th>2013-S2</th>\n",
       "      <th>2014-S2</th>\n",
       "      <th>2015-S2</th>\n",
       "      <th>2016-S2</th>\n",
       "      <th>2017</th>\n",
       "      <th>2018</th>\n",
       "      <th>2019</th>\n",
       "      <th>2020</th>\n",
       "      <th>2021</th>\n",
       "    </tr>\n",
       "  </thead>\n",
       "  <tbody>\n",
       "    <tr>\n",
       "      <th>0</th>\n",
       "      <td>AT</td>\n",
       "      <td>Austria</td>\n",
       "      <td>NaN</td>\n",
       "      <td>NaN</td>\n",
       "      <td>NaN</td>\n",
       "      <td>NaN</td>\n",
       "      <td>NaN</td>\n",
       "      <td>NaN</td>\n",
       "      <td>NaN</td>\n",
       "      <td>NaN</td>\n",
       "      <td>NaN</td>\n",
       "      <td>NaN</td>\n",
       "      <td>0.0598</td>\n",
       "      <td>0.0610</td>\n",
       "      <td>0.0654</td>\n",
       "      <td>0.0702</td>\n",
       "      <td>0.0723</td>\n",
       "    </tr>\n",
       "    <tr>\n",
       "      <th>1</th>\n",
       "      <td>BA</td>\n",
       "      <td>Bosnia and Herzegovina</td>\n",
       "      <td>NaN</td>\n",
       "      <td>NaN</td>\n",
       "      <td>NaN</td>\n",
       "      <td>NaN</td>\n",
       "      <td>NaN</td>\n",
       "      <td>NaN</td>\n",
       "      <td>NaN</td>\n",
       "      <td>NaN</td>\n",
       "      <td>NaN</td>\n",
       "      <td>NaN</td>\n",
       "      <td>0.0649</td>\n",
       "      <td>0.0621</td>\n",
       "      <td>0.0624</td>\n",
       "      <td>0.0648</td>\n",
       "      <td>NaN</td>\n",
       "    </tr>\n",
       "    <tr>\n",
       "      <th>2</th>\n",
       "      <td>BE</td>\n",
       "      <td>Belgium</td>\n",
       "      <td>NaN</td>\n",
       "      <td>NaN</td>\n",
       "      <td>NaN</td>\n",
       "      <td>NaN</td>\n",
       "      <td>NaN</td>\n",
       "      <td>NaN</td>\n",
       "      <td>NaN</td>\n",
       "      <td>NaN</td>\n",
       "      <td>NaN</td>\n",
       "      <td>NaN</td>\n",
       "      <td>0.0672</td>\n",
       "      <td>0.0624</td>\n",
       "      <td>0.0663</td>\n",
       "      <td>0.0745</td>\n",
       "      <td>0.0890</td>\n",
       "    </tr>\n",
       "    <tr>\n",
       "      <th>3</th>\n",
       "      <td>BG</td>\n",
       "      <td>Bulgaria</td>\n",
       "      <td>NaN</td>\n",
       "      <td>NaN</td>\n",
       "      <td>NaN</td>\n",
       "      <td>NaN</td>\n",
       "      <td>NaN</td>\n",
       "      <td>NaN</td>\n",
       "      <td>NaN</td>\n",
       "      <td>NaN</td>\n",
       "      <td>NaN</td>\n",
       "      <td>NaN</td>\n",
       "      <td>0.0817</td>\n",
       "      <td>0.0810</td>\n",
       "      <td>0.0764</td>\n",
       "      <td>0.0730</td>\n",
       "      <td>0.1075</td>\n",
       "    </tr>\n",
       "    <tr>\n",
       "      <th>4</th>\n",
       "      <td>CY</td>\n",
       "      <td>Cyprus</td>\n",
       "      <td>NaN</td>\n",
       "      <td>NaN</td>\n",
       "      <td>NaN</td>\n",
       "      <td>NaN</td>\n",
       "      <td>NaN</td>\n",
       "      <td>NaN</td>\n",
       "      <td>NaN</td>\n",
       "      <td>NaN</td>\n",
       "      <td>NaN</td>\n",
       "      <td>NaN</td>\n",
       "      <td>0.1187</td>\n",
       "      <td>0.1240</td>\n",
       "      <td>0.1271</td>\n",
       "      <td>0.1055</td>\n",
       "      <td>0.1136</td>\n",
       "    </tr>\n",
       "    <tr>\n",
       "      <th>5</th>\n",
       "      <td>CZ</td>\n",
       "      <td>Czechia</td>\n",
       "      <td>NaN</td>\n",
       "      <td>NaN</td>\n",
       "      <td>NaN</td>\n",
       "      <td>NaN</td>\n",
       "      <td>NaN</td>\n",
       "      <td>NaN</td>\n",
       "      <td>NaN</td>\n",
       "      <td>NaN</td>\n",
       "      <td>NaN</td>\n",
       "      <td>NaN</td>\n",
       "      <td>0.0580</td>\n",
       "      <td>0.0602</td>\n",
       "      <td>0.0721</td>\n",
       "      <td>0.0811</td>\n",
       "      <td>0.0848</td>\n",
       "    </tr>\n",
       "    <tr>\n",
       "      <th>6</th>\n",
       "      <td>DE</td>\n",
       "      <td>Germany (until 1990 former territory of the FRG)</td>\n",
       "      <td>NaN</td>\n",
       "      <td>NaN</td>\n",
       "      <td>NaN</td>\n",
       "      <td>NaN</td>\n",
       "      <td>NaN</td>\n",
       "      <td>NaN</td>\n",
       "      <td>NaN</td>\n",
       "      <td>NaN</td>\n",
       "      <td>NaN</td>\n",
       "      <td>NaN</td>\n",
       "      <td>0.0468</td>\n",
       "      <td>0.0612</td>\n",
       "      <td>0.0525</td>\n",
       "      <td>0.0651</td>\n",
       "      <td>0.0707</td>\n",
       "    </tr>\n",
       "    <tr>\n",
       "      <th>7</th>\n",
       "      <td>DK</td>\n",
       "      <td>Denmark</td>\n",
       "      <td>NaN</td>\n",
       "      <td>NaN</td>\n",
       "      <td>NaN</td>\n",
       "      <td>NaN</td>\n",
       "      <td>NaN</td>\n",
       "      <td>NaN</td>\n",
       "      <td>NaN</td>\n",
       "      <td>NaN</td>\n",
       "      <td>NaN</td>\n",
       "      <td>NaN</td>\n",
       "      <td>0.0433</td>\n",
       "      <td>0.0514</td>\n",
       "      <td>0.0517</td>\n",
       "      <td>0.0426</td>\n",
       "      <td>0.0898</td>\n",
       "    </tr>\n",
       "    <tr>\n",
       "      <th>8</th>\n",
       "      <td>EA</td>\n",
       "      <td>Euro area (EA11-1999, EA12-2001, EA13-2007, EA...</td>\n",
       "      <td>NaN</td>\n",
       "      <td>NaN</td>\n",
       "      <td>NaN</td>\n",
       "      <td>NaN</td>\n",
       "      <td>NaN</td>\n",
       "      <td>NaN</td>\n",
       "      <td>NaN</td>\n",
       "      <td>NaN</td>\n",
       "      <td>NaN</td>\n",
       "      <td>NaN</td>\n",
       "      <td>0.0757</td>\n",
       "      <td>0.0837</td>\n",
       "      <td>0.0794</td>\n",
       "      <td>0.0780</td>\n",
       "      <td>0.0893</td>\n",
       "    </tr>\n",
       "    <tr>\n",
       "      <th>9</th>\n",
       "      <td>EE</td>\n",
       "      <td>Estonia</td>\n",
       "      <td>NaN</td>\n",
       "      <td>NaN</td>\n",
       "      <td>NaN</td>\n",
       "      <td>NaN</td>\n",
       "      <td>NaN</td>\n",
       "      <td>NaN</td>\n",
       "      <td>NaN</td>\n",
       "      <td>NaN</td>\n",
       "      <td>NaN</td>\n",
       "      <td>NaN</td>\n",
       "      <td>0.0406</td>\n",
       "      <td>0.0489</td>\n",
       "      <td>0.0516</td>\n",
       "      <td>0.0440</td>\n",
       "      <td>0.0850</td>\n",
       "    </tr>\n",
       "  </tbody>\n",
       "</table>\n",
       "</div>"
      ],
      "text/plain": [
       "  country                                       country_name  2007-S2  \\\n",
       "0      AT                                            Austria      NaN   \n",
       "1      BA                             Bosnia and Herzegovina      NaN   \n",
       "2      BE                                            Belgium      NaN   \n",
       "3      BG                                           Bulgaria      NaN   \n",
       "4      CY                                             Cyprus      NaN   \n",
       "5      CZ                                            Czechia      NaN   \n",
       "6      DE   Germany (until 1990 former territory of the FRG)      NaN   \n",
       "7      DK                                            Denmark      NaN   \n",
       "8      EA  Euro area (EA11-1999, EA12-2001, EA13-2007, EA...      NaN   \n",
       "9      EE                                            Estonia      NaN   \n",
       "\n",
       "   2008-S2  2009-S2  2010-S2  2011-S2  2012-S2  2013-S2  2014-S2  2015-S2  \\\n",
       "0      NaN      NaN      NaN      NaN      NaN      NaN      NaN      NaN   \n",
       "1      NaN      NaN      NaN      NaN      NaN      NaN      NaN      NaN   \n",
       "2      NaN      NaN      NaN      NaN      NaN      NaN      NaN      NaN   \n",
       "3      NaN      NaN      NaN      NaN      NaN      NaN      NaN      NaN   \n",
       "4      NaN      NaN      NaN      NaN      NaN      NaN      NaN      NaN   \n",
       "5      NaN      NaN      NaN      NaN      NaN      NaN      NaN      NaN   \n",
       "6      NaN      NaN      NaN      NaN      NaN      NaN      NaN      NaN   \n",
       "7      NaN      NaN      NaN      NaN      NaN      NaN      NaN      NaN   \n",
       "8      NaN      NaN      NaN      NaN      NaN      NaN      NaN      NaN   \n",
       "9      NaN      NaN      NaN      NaN      NaN      NaN      NaN      NaN   \n",
       "\n",
       "   2016-S2    2017    2018    2019    2020    2021  \n",
       "0      NaN  0.0598  0.0610  0.0654  0.0702  0.0723  \n",
       "1      NaN  0.0649  0.0621  0.0624  0.0648     NaN  \n",
       "2      NaN  0.0672  0.0624  0.0663  0.0745  0.0890  \n",
       "3      NaN  0.0817  0.0810  0.0764  0.0730  0.1075  \n",
       "4      NaN  0.1187  0.1240  0.1271  0.1055  0.1136  \n",
       "5      NaN  0.0580  0.0602  0.0721  0.0811  0.0848  \n",
       "6      NaN  0.0468  0.0612  0.0525  0.0651  0.0707  \n",
       "7      NaN  0.0433  0.0514  0.0517  0.0426  0.0898  \n",
       "8      NaN  0.0757  0.0837  0.0794  0.0780  0.0893  \n",
       "9      NaN  0.0406  0.0489  0.0516  0.0440  0.0850  "
      ]
     },
     "execution_count": 17,
     "metadata": {},
     "output_type": "execute_result"
    }
   ],
   "source": [
    "data_electricity_prices_no_household_consumers.head( 10 )"
   ]
  },
  {
   "cell_type": "markdown",
   "id": "47076baf-3946-46b2-9663-5ab81011712e",
   "metadata": {},
   "source": [
    "## Análisis inicial y procesamiento de los datos"
   ]
  },
  {
   "cell_type": "markdown",
   "id": "3b976006-4905-455c-9f38-6ff7b9c55e0e",
   "metadata": {},
   "source": [
    "### Funciones de utilidad\n",
    "\n",
    "Estimador utilizando la media **`median_estimator`**. Dentro de una columna del dataframe evalúa aquellos valores nulos y lo sustituye por la media de los valores que no lo son"
   ]
  },
  {
   "cell_type": "code",
   "execution_count": 18,
   "id": "61564202-2e97-4559-87dc-b3776ee3543d",
   "metadata": {},
   "outputs": [],
   "source": [
    "def median_estimator( df, column ) :    \n",
    "    median = df.loc[pd.notnull( df[column]), column].median()\n",
    "    df[column].fillna(median,inplace=True)    \n",
    "    return df    \n"
   ]
  },
  {
   "cell_type": "markdown",
   "id": "1b34d482-26da-40f3-898e-fd34837c3a0c",
   "metadata": {},
   "source": [
    "Función **`show_boxplot`** que muestra el diagrama de caja de los valores de un dataframe\n"
   ]
  },
  {
   "cell_type": "code",
   "execution_count": 19,
   "id": "94f9a59e-334c-4944-851c-1cd65c6f1735",
   "metadata": {},
   "outputs": [],
   "source": [
    "def show_boxplot( df ):\n",
    "    sns.set_theme( style = \"whitegrid\" )\n",
    "    ax = sns.boxplot( data = df )\n",
    "    "
   ]
  },
  {
   "cell_type": "markdown",
   "id": "af481f15-0e3d-4ef0-8f60-d43c22aac761",
   "metadata": {},
   "source": [
    "Función **`init_outlier`**. Iializa el Outlier de una columna, inicializa a nulo el valor máximo de la columna"
   ]
  },
  {
   "cell_type": "code",
   "execution_count": 20,
   "id": "27b65c22-3184-43c1-8bc7-bea5ffe6147a",
   "metadata": {},
   "outputs": [],
   "source": [
    "def init_outlier(df, column): \n",
    "    df.loc[\n",
    "        df[column] == df[column].max(),\n",
    "        column \n",
    "    ] = np.nan\n",
    "    return df\n"
   ]
  },
  {
   "cell_type": "markdown",
   "id": "e94f5987-7ffc-4be6-b40c-e251ceb804a0",
   "metadata": {},
   "source": [
    "### Datos de los costes del gas doméstico\n"
   ]
  },
  {
   "cell_type": "markdown",
   "id": "b1469b45-c1fa-45e5-a20e-1c1e774bb86a",
   "metadata": {},
   "source": [
    "Sustituimos NaN values por su media"
   ]
  },
  {
   "cell_type": "code",
   "execution_count": 21,
   "id": "c9aadf9d-c5b4-40a7-aff2-8030838c0f3c",
   "metadata": {},
   "outputs": [],
   "source": [
    "GasPricesHousehold=data_gas_prices_household_consumers\n",
    "\n",
    "GasPricesHousehold = median_estimator( GasPricesHousehold, '2021' )\n",
    "GasPricesHousehold = median_estimator( GasPricesHousehold, '2020' )\n",
    "GasPricesHousehold = median_estimator( GasPricesHousehold, '2019' )\n",
    "GasPricesHousehold = median_estimator( GasPricesHousehold, '2018' )\n",
    "GasPricesHousehold = median_estimator( GasPricesHousehold, '2017' )\n"
   ]
  },
  {
   "cell_type": "markdown",
   "id": "df5201c9-c3c4-4d7d-9010-dc558a68668c",
   "metadata": {},
   "source": [
    "Se muestran los 10 primeros valores:"
   ]
  },
  {
   "cell_type": "code",
   "execution_count": 22,
   "id": "4798e382-ec09-489e-9788-10e0a2d75c58",
   "metadata": {},
   "outputs": [
    {
     "data": {
      "text/html": [
       "<div>\n",
       "<style scoped>\n",
       "    .dataframe tbody tr th:only-of-type {\n",
       "        vertical-align: middle;\n",
       "    }\n",
       "\n",
       "    .dataframe tbody tr th {\n",
       "        vertical-align: top;\n",
       "    }\n",
       "\n",
       "    .dataframe thead th {\n",
       "        text-align: right;\n",
       "    }\n",
       "</style>\n",
       "<table border=\"1\" class=\"dataframe\">\n",
       "  <thead>\n",
       "    <tr style=\"text-align: right;\">\n",
       "      <th></th>\n",
       "      <th>country</th>\n",
       "      <th>country_name</th>\n",
       "      <th>2017</th>\n",
       "      <th>2018</th>\n",
       "      <th>2019</th>\n",
       "      <th>2020</th>\n",
       "      <th>2021</th>\n",
       "    </tr>\n",
       "  </thead>\n",
       "  <tbody>\n",
       "    <tr>\n",
       "      <th>0</th>\n",
       "      <td>AT</td>\n",
       "      <td>Austria</td>\n",
       "      <td>0.0299</td>\n",
       "      <td>0.0304</td>\n",
       "      <td>0.0312</td>\n",
       "      <td>0.0308</td>\n",
       "      <td>0.0316</td>\n",
       "    </tr>\n",
       "    <tr>\n",
       "      <th>1</th>\n",
       "      <td>BA</td>\n",
       "      <td>Bosnia and Herzegovina</td>\n",
       "      <td>0.0240</td>\n",
       "      <td>0.0240</td>\n",
       "      <td>0.0249</td>\n",
       "      <td>0.0258</td>\n",
       "      <td>0.0251</td>\n",
       "    </tr>\n",
       "    <tr>\n",
       "      <th>2</th>\n",
       "      <td>BE</td>\n",
       "      <td>Belgium</td>\n",
       "      <td>0.0283</td>\n",
       "      <td>0.0288</td>\n",
       "      <td>0.0289</td>\n",
       "      <td>0.0252</td>\n",
       "      <td>0.0315</td>\n",
       "    </tr>\n",
       "    <tr>\n",
       "      <th>3</th>\n",
       "      <td>BG</td>\n",
       "      <td>Bulgaria</td>\n",
       "      <td>0.0170</td>\n",
       "      <td>0.0209</td>\n",
       "      <td>0.0240</td>\n",
       "      <td>0.0177</td>\n",
       "      <td>0.0331</td>\n",
       "    </tr>\n",
       "    <tr>\n",
       "      <th>4</th>\n",
       "      <td>CZ</td>\n",
       "      <td>Czechia</td>\n",
       "      <td>0.0360</td>\n",
       "      <td>0.0390</td>\n",
       "      <td>0.0455</td>\n",
       "      <td>0.0431</td>\n",
       "      <td>0.0448</td>\n",
       "    </tr>\n",
       "    <tr>\n",
       "      <th>5</th>\n",
       "      <td>DE</td>\n",
       "      <td>Germany (until 1990 former territory of the FRG)</td>\n",
       "      <td>0.0243</td>\n",
       "      <td>0.0254</td>\n",
       "      <td>0.0278</td>\n",
       "      <td>0.0292</td>\n",
       "      <td>0.0293</td>\n",
       "    </tr>\n",
       "    <tr>\n",
       "      <th>6</th>\n",
       "      <td>DK</td>\n",
       "      <td>Denmark</td>\n",
       "      <td>0.0234</td>\n",
       "      <td>0.0259</td>\n",
       "      <td>0.0209</td>\n",
       "      <td>0.0160</td>\n",
       "      <td>0.0415</td>\n",
       "    </tr>\n",
       "    <tr>\n",
       "      <th>7</th>\n",
       "      <td>EA</td>\n",
       "      <td>Euro area (EA11-1999, EA12-2001, EA13-2007, EA...</td>\n",
       "      <td>0.0295</td>\n",
       "      <td>0.0303</td>\n",
       "      <td>0.0319</td>\n",
       "      <td>0.0302</td>\n",
       "      <td>0.0315</td>\n",
       "    </tr>\n",
       "    <tr>\n",
       "      <th>8</th>\n",
       "      <td>EE</td>\n",
       "      <td>Estonia</td>\n",
       "      <td>0.0234</td>\n",
       "      <td>0.0239</td>\n",
       "      <td>0.0253</td>\n",
       "      <td>0.0240</td>\n",
       "      <td>0.0361</td>\n",
       "    </tr>\n",
       "    <tr>\n",
       "      <th>9</th>\n",
       "      <td>EL</td>\n",
       "      <td>Greece</td>\n",
       "      <td>0.0243</td>\n",
       "      <td>0.0311</td>\n",
       "      <td>0.0338</td>\n",
       "      <td>0.0258</td>\n",
       "      <td>0.0444</td>\n",
       "    </tr>\n",
       "  </tbody>\n",
       "</table>\n",
       "</div>"
      ],
      "text/plain": [
       "  country                                       country_name    2017    2018  \\\n",
       "0      AT                                            Austria  0.0299  0.0304   \n",
       "1      BA                             Bosnia and Herzegovina  0.0240  0.0240   \n",
       "2      BE                                            Belgium  0.0283  0.0288   \n",
       "3      BG                                           Bulgaria  0.0170  0.0209   \n",
       "4      CZ                                            Czechia  0.0360  0.0390   \n",
       "5      DE   Germany (until 1990 former territory of the FRG)  0.0243  0.0254   \n",
       "6      DK                                            Denmark  0.0234  0.0259   \n",
       "7      EA  Euro area (EA11-1999, EA12-2001, EA13-2007, EA...  0.0295  0.0303   \n",
       "8      EE                                            Estonia  0.0234  0.0239   \n",
       "9      EL                                             Greece  0.0243  0.0311   \n",
       "\n",
       "     2019    2020    2021  \n",
       "0  0.0312  0.0308  0.0316  \n",
       "1  0.0249  0.0258  0.0251  \n",
       "2  0.0289  0.0252  0.0315  \n",
       "3  0.0240  0.0177  0.0331  \n",
       "4  0.0455  0.0431  0.0448  \n",
       "5  0.0278  0.0292  0.0293  \n",
       "6  0.0209  0.0160  0.0415  \n",
       "7  0.0319  0.0302  0.0315  \n",
       "8  0.0253  0.0240  0.0361  \n",
       "9  0.0338  0.0258  0.0444  "
      ]
     },
     "metadata": {},
     "output_type": "display_data"
    }
   ],
   "source": [
    "display( GasPricesHousehold.head(10) )"
   ]
  },
  {
   "cell_type": "markdown",
   "id": "57fc1a2a-cf5f-4245-9d48-28f5b269d58e",
   "metadata": {},
   "source": [
    "Diagrama de caja para los diferentes años:"
   ]
  },
  {
   "cell_type": "code",
   "execution_count": 23,
   "id": "bd728867-3de1-472b-9de4-5038a1bfa8e2",
   "metadata": {},
   "outputs": [
    {
     "data": {
      "image/png": "[encoded data removed]",
      "text/plain": [
       "<Figure size 432x288 with 1 Axes>"
      ]
     },
     "metadata": {},
     "output_type": "display_data"
    }
   ],
   "source": [
    "show_boxplot( GasPricesHousehold )"
   ]
  },
  {
   "cell_type": "markdown",
   "id": "db0e18f9-d961-40a0-8378-53251f4c8fa3",
   "metadata": {},
   "source": [
    "### Datos de los costes del gas para empresas\n"
   ]
  },
  {
   "cell_type": "markdown",
   "id": "57518575-4db0-4fc0-94ce-03f0c2488280",
   "metadata": {},
   "source": [
    "Sustituimos NaN values por su media"
   ]
  },
  {
   "cell_type": "code",
   "execution_count": 24,
   "id": "7908bdb9-aa50-4420-93ad-562d05cea4fd",
   "metadata": {},
   "outputs": [],
   "source": [
    "GasPricesNoHousehold = data_gas_prices_no_household_consumers\n",
    "\n",
    "GasPricesNoHousehold = median_estimator( GasPricesNoHousehold, '2021' )\n",
    "GasPricesNoHousehold = median_estimator( GasPricesNoHousehold, '2020' )\n",
    "GasPricesNoHousehold = median_estimator( GasPricesNoHousehold, '2019' )\n",
    "GasPricesNoHousehold = median_estimator( GasPricesNoHousehold, '2018' )\n",
    "GasPricesNoHousehold = median_estimator( GasPricesNoHousehold, '2017' )"
   ]
  },
  {
   "cell_type": "markdown",
   "id": "5ff33e7b-ba3f-4b8e-8d40-47fecd2c10b8",
   "metadata": {},
   "source": [
    "Se muestran los 10 primero valores:"
   ]
  },
  {
   "cell_type": "code",
   "execution_count": 25,
   "id": "d2c6338e-caa3-4e5c-89d6-f984d3c792c7",
   "metadata": {},
   "outputs": [
    {
     "data": {
      "text/html": [
       "<div>\n",
       "<style scoped>\n",
       "    .dataframe tbody tr th:only-of-type {\n",
       "        vertical-align: middle;\n",
       "    }\n",
       "\n",
       "    .dataframe tbody tr th {\n",
       "        vertical-align: top;\n",
       "    }\n",
       "\n",
       "    .dataframe thead th {\n",
       "        text-align: right;\n",
       "    }\n",
       "</style>\n",
       "<table border=\"1\" class=\"dataframe\">\n",
       "  <thead>\n",
       "    <tr style=\"text-align: right;\">\n",
       "      <th></th>\n",
       "      <th>country</th>\n",
       "      <th>country_name</th>\n",
       "      <th>2017</th>\n",
       "      <th>2018</th>\n",
       "      <th>2019</th>\n",
       "      <th>2020</th>\n",
       "      <th>2021</th>\n",
       "    </tr>\n",
       "  </thead>\n",
       "  <tbody>\n",
       "    <tr>\n",
       "      <th>0</th>\n",
       "      <td>AT</td>\n",
       "      <td>Austria</td>\n",
       "      <td>0.0220</td>\n",
       "      <td>0.0240</td>\n",
       "      <td>0.0184</td>\n",
       "      <td>0.0168</td>\n",
       "      <td>0.0297</td>\n",
       "    </tr>\n",
       "    <tr>\n",
       "      <th>1</th>\n",
       "      <td>BA</td>\n",
       "      <td>Bosnia and Herzegovina</td>\n",
       "      <td>0.0220</td>\n",
       "      <td>0.0240</td>\n",
       "      <td>0.0257</td>\n",
       "      <td>0.0259</td>\n",
       "      <td>0.0248</td>\n",
       "    </tr>\n",
       "    <tr>\n",
       "      <th>2</th>\n",
       "      <td>BE</td>\n",
       "      <td>Belgium</td>\n",
       "      <td>0.0220</td>\n",
       "      <td>0.0240</td>\n",
       "      <td>0.0189</td>\n",
       "      <td>0.0148</td>\n",
       "      <td>0.0318</td>\n",
       "    </tr>\n",
       "    <tr>\n",
       "      <th>3</th>\n",
       "      <td>BG</td>\n",
       "      <td>Bulgaria</td>\n",
       "      <td>0.0220</td>\n",
       "      <td>0.0240</td>\n",
       "      <td>0.0213</td>\n",
       "      <td>0.0142</td>\n",
       "      <td>0.0299</td>\n",
       "    </tr>\n",
       "    <tr>\n",
       "      <th>4</th>\n",
       "      <td>CZ</td>\n",
       "      <td>Czechia</td>\n",
       "      <td>0.0220</td>\n",
       "      <td>0.0240</td>\n",
       "      <td>0.0226</td>\n",
       "      <td>0.0192</td>\n",
       "      <td>0.0259</td>\n",
       "    </tr>\n",
       "    <tr>\n",
       "      <th>5</th>\n",
       "      <td>DE</td>\n",
       "      <td>Germany (until 1990 former territory of the FRG)</td>\n",
       "      <td>0.0220</td>\n",
       "      <td>0.0240</td>\n",
       "      <td>0.0196</td>\n",
       "      <td>0.0171</td>\n",
       "      <td>0.0262</td>\n",
       "    </tr>\n",
       "    <tr>\n",
       "      <th>6</th>\n",
       "      <td>DK</td>\n",
       "      <td>Denmark</td>\n",
       "      <td>0.0194</td>\n",
       "      <td>0.0234</td>\n",
       "      <td>0.0178</td>\n",
       "      <td>0.0137</td>\n",
       "      <td>0.0448</td>\n",
       "    </tr>\n",
       "    <tr>\n",
       "      <th>7</th>\n",
       "      <td>EA</td>\n",
       "      <td>Euro area (EA11-1999, EA12-2001, EA13-2007, EA...</td>\n",
       "      <td>0.0220</td>\n",
       "      <td>0.0240</td>\n",
       "      <td>0.0211</td>\n",
       "      <td>0.0175</td>\n",
       "      <td>0.0278</td>\n",
       "    </tr>\n",
       "    <tr>\n",
       "      <th>8</th>\n",
       "      <td>EE</td>\n",
       "      <td>Estonia</td>\n",
       "      <td>0.0220</td>\n",
       "      <td>0.0240</td>\n",
       "      <td>0.0213</td>\n",
       "      <td>0.0155</td>\n",
       "      <td>0.0352</td>\n",
       "    </tr>\n",
       "    <tr>\n",
       "      <th>9</th>\n",
       "      <td>EL</td>\n",
       "      <td>Greece</td>\n",
       "      <td>0.0220</td>\n",
       "      <td>0.0240</td>\n",
       "      <td>0.0260</td>\n",
       "      <td>0.0165</td>\n",
       "      <td>0.0337</td>\n",
       "    </tr>\n",
       "  </tbody>\n",
       "</table>\n",
       "</div>"
      ],
      "text/plain": [
       "  country                                       country_name    2017    2018  \\\n",
       "0      AT                                            Austria  0.0220  0.0240   \n",
       "1      BA                             Bosnia and Herzegovina  0.0220  0.0240   \n",
       "2      BE                                            Belgium  0.0220  0.0240   \n",
       "3      BG                                           Bulgaria  0.0220  0.0240   \n",
       "4      CZ                                            Czechia  0.0220  0.0240   \n",
       "5      DE   Germany (until 1990 former territory of the FRG)  0.0220  0.0240   \n",
       "6      DK                                            Denmark  0.0194  0.0234   \n",
       "7      EA  Euro area (EA11-1999, EA12-2001, EA13-2007, EA...  0.0220  0.0240   \n",
       "8      EE                                            Estonia  0.0220  0.0240   \n",
       "9      EL                                             Greece  0.0220  0.0240   \n",
       "\n",
       "     2019    2020    2021  \n",
       "0  0.0184  0.0168  0.0297  \n",
       "1  0.0257  0.0259  0.0248  \n",
       "2  0.0189  0.0148  0.0318  \n",
       "3  0.0213  0.0142  0.0299  \n",
       "4  0.0226  0.0192  0.0259  \n",
       "5  0.0196  0.0171  0.0262  \n",
       "6  0.0178  0.0137  0.0448  \n",
       "7  0.0211  0.0175  0.0278  \n",
       "8  0.0213  0.0155  0.0352  \n",
       "9  0.0260  0.0165  0.0337  "
      ]
     },
     "metadata": {},
     "output_type": "display_data"
    }
   ],
   "source": [
    "display( GasPricesNoHousehold.head(10) )"
   ]
  },
  {
   "cell_type": "markdown",
   "id": "4896af6c-42b7-404f-aeba-adac41444458",
   "metadata": {},
   "source": [
    "Diagrama de caja para los diferentes años:"
   ]
  },
  {
   "cell_type": "code",
   "execution_count": 26,
   "id": "f2119cd0-3928-44e5-aa25-5f12ffb25bba",
   "metadata": {},
   "outputs": [
    {
     "data": {
      "image/png": "[encoded data removed]",
      "text/plain": [
       "<Figure size 432x288 with 1 Axes>"
      ]
     },
     "metadata": {},
     "output_type": "display_data"
    }
   ],
   "source": [
    "show_boxplot( GasPricesNoHousehold )"
   ]
  },
  {
   "cell_type": "markdown",
   "id": "87f92e93-eb6b-48f1-a85a-653a6c2ceb17",
   "metadata": {},
   "source": [
    "### Datos de los costes de la electricidad doméstica\n"
   ]
  },
  {
   "cell_type": "markdown",
   "id": "27cb7316-82aa-4020-9e48-010cc9cac468",
   "metadata": {},
   "source": [
    "Se eliminan las columnas correspondientes a los valores semestrales de lo años desde el 2012 al 2016 que no contienen datos"
   ]
  },
  {
   "cell_type": "code",
   "execution_count": 27,
   "id": "1ff04625-dda6-409d-a222-a542994dd50f",
   "metadata": {},
   "outputs": [],
   "source": [
    "ElectPricesHouseholds = data_electricity_prices_household_consumers.drop(\n",
    "    [\n",
    "     '2012-S2',\n",
    "     '2013-S2',\n",
    "     '2014-S2',\n",
    "     '2015-S2',\n",
    "     '2016-S2'\n",
    "    ], axis=1\n",
    ")"
   ]
  },
  {
   "cell_type": "markdown",
   "id": "f18a8a06-a167-4c25-9d66-1b79464e975a",
   "metadata": {},
   "source": [
    "Muestra de los 10 primeros valores"
   ]
  },
  {
   "cell_type": "code",
   "execution_count": 28,
   "id": "14732394-69d5-4db9-a9ff-1fdf68cd489d",
   "metadata": {},
   "outputs": [
    {
     "data": {
      "text/html": [
       "<div>\n",
       "<style scoped>\n",
       "    .dataframe tbody tr th:only-of-type {\n",
       "        vertical-align: middle;\n",
       "    }\n",
       "\n",
       "    .dataframe tbody tr th {\n",
       "        vertical-align: top;\n",
       "    }\n",
       "\n",
       "    .dataframe thead th {\n",
       "        text-align: right;\n",
       "    }\n",
       "</style>\n",
       "<table border=\"1\" class=\"dataframe\">\n",
       "  <thead>\n",
       "    <tr style=\"text-align: right;\">\n",
       "      <th></th>\n",
       "      <th>country</th>\n",
       "      <th>country_name</th>\n",
       "      <th>2017</th>\n",
       "      <th>2018</th>\n",
       "      <th>2019</th>\n",
       "      <th>2020</th>\n",
       "      <th>2021</th>\n",
       "    </tr>\n",
       "  </thead>\n",
       "  <tbody>\n",
       "    <tr>\n",
       "      <th>0</th>\n",
       "      <td>AL</td>\n",
       "      <td>Albania</td>\n",
       "      <td>0.0713</td>\n",
       "      <td>0.0759</td>\n",
       "      <td>0.0778</td>\n",
       "      <td>NaN</td>\n",
       "      <td>0.0781</td>\n",
       "    </tr>\n",
       "    <tr>\n",
       "      <th>1</th>\n",
       "      <td>AT</td>\n",
       "      <td>Austria</td>\n",
       "      <td>0.0613</td>\n",
       "      <td>0.0623</td>\n",
       "      <td>0.0687</td>\n",
       "      <td>0.0732</td>\n",
       "      <td>0.0745</td>\n",
       "    </tr>\n",
       "    <tr>\n",
       "      <th>2</th>\n",
       "      <td>BA</td>\n",
       "      <td>Bosnia and Herzegovina</td>\n",
       "      <td>0.0342</td>\n",
       "      <td>0.0338</td>\n",
       "      <td>0.0361</td>\n",
       "      <td>0.0365</td>\n",
       "      <td>NaN</td>\n",
       "    </tr>\n",
       "    <tr>\n",
       "      <th>3</th>\n",
       "      <td>BE</td>\n",
       "      <td>Belgium</td>\n",
       "      <td>0.0735</td>\n",
       "      <td>0.0808</td>\n",
       "      <td>0.0859</td>\n",
       "      <td>0.0786</td>\n",
       "      <td>0.0844</td>\n",
       "    </tr>\n",
       "    <tr>\n",
       "      <th>4</th>\n",
       "      <td>BG</td>\n",
       "      <td>Bulgaria</td>\n",
       "      <td>0.0575</td>\n",
       "      <td>0.0585</td>\n",
       "      <td>0.0558</td>\n",
       "      <td>0.0560</td>\n",
       "      <td>0.0608</td>\n",
       "    </tr>\n",
       "    <tr>\n",
       "      <th>5</th>\n",
       "      <td>CY</td>\n",
       "      <td>Cyprus</td>\n",
       "      <td>0.1036</td>\n",
       "      <td>0.1157</td>\n",
       "      <td>0.1241</td>\n",
       "      <td>0.1042</td>\n",
       "      <td>0.1094</td>\n",
       "    </tr>\n",
       "    <tr>\n",
       "      <th>6</th>\n",
       "      <td>CZ</td>\n",
       "      <td>Czechia</td>\n",
       "      <td>0.0541</td>\n",
       "      <td>0.0570</td>\n",
       "      <td>0.0690</td>\n",
       "      <td>0.0749</td>\n",
       "      <td>0.0979</td>\n",
       "    </tr>\n",
       "    <tr>\n",
       "      <th>7</th>\n",
       "      <td>DE</td>\n",
       "      <td>Germany (until 1990 former territory of the FRG)</td>\n",
       "      <td>0.0686</td>\n",
       "      <td>0.0622</td>\n",
       "      <td>0.0581</td>\n",
       "      <td>0.0574</td>\n",
       "      <td>0.0803</td>\n",
       "    </tr>\n",
       "    <tr>\n",
       "      <th>8</th>\n",
       "      <td>DK</td>\n",
       "      <td>Denmark</td>\n",
       "      <td>0.0388</td>\n",
       "      <td>0.0503</td>\n",
       "      <td>0.0539</td>\n",
       "      <td>0.0409</td>\n",
       "      <td>0.0747</td>\n",
       "    </tr>\n",
       "    <tr>\n",
       "      <th>9</th>\n",
       "      <td>EA</td>\n",
       "      <td>Euro area (EA11-1999, EA12-2001, EA13-2007, EA...</td>\n",
       "      <td>0.0760</td>\n",
       "      <td>0.0801</td>\n",
       "      <td>0.0727</td>\n",
       "      <td>0.0697</td>\n",
       "      <td>0.0898</td>\n",
       "    </tr>\n",
       "  </tbody>\n",
       "</table>\n",
       "</div>"
      ],
      "text/plain": [
       "  country                                       country_name    2017    2018  \\\n",
       "0      AL                                            Albania  0.0713  0.0759   \n",
       "1      AT                                            Austria  0.0613  0.0623   \n",
       "2      BA                             Bosnia and Herzegovina  0.0342  0.0338   \n",
       "3      BE                                            Belgium  0.0735  0.0808   \n",
       "4      BG                                           Bulgaria  0.0575  0.0585   \n",
       "5      CY                                             Cyprus  0.1036  0.1157   \n",
       "6      CZ                                            Czechia  0.0541  0.0570   \n",
       "7      DE   Germany (until 1990 former territory of the FRG)  0.0686  0.0622   \n",
       "8      DK                                            Denmark  0.0388  0.0503   \n",
       "9      EA  Euro area (EA11-1999, EA12-2001, EA13-2007, EA...  0.0760  0.0801   \n",
       "\n",
       "     2019    2020    2021  \n",
       "0  0.0778     NaN  0.0781  \n",
       "1  0.0687  0.0732  0.0745  \n",
       "2  0.0361  0.0365     NaN  \n",
       "3  0.0859  0.0786  0.0844  \n",
       "4  0.0558  0.0560  0.0608  \n",
       "5  0.1241  0.1042  0.1094  \n",
       "6  0.0690  0.0749  0.0979  \n",
       "7  0.0581  0.0574  0.0803  \n",
       "8  0.0539  0.0409  0.0747  \n",
       "9  0.0727  0.0697  0.0898  "
      ]
     },
     "metadata": {},
     "output_type": "display_data"
    }
   ],
   "source": [
    "display( ElectPricesHouseholds.head( 10 ) )"
   ]
  },
  {
   "cell_type": "markdown",
   "id": "bc2bb56a-3810-4a93-9ba6-f9b71507bdef",
   "metadata": {},
   "source": [
    "Se muestra el diagrama de caja"
   ]
  },
  {
   "cell_type": "code",
   "execution_count": 29,
   "id": "1651de0b-71d8-4d56-9269-8e116b73d383",
   "metadata": {},
   "outputs": [
    {
     "data": {
      "image/png": "[encoded data removed]",
      "text/plain": [
       "<Figure size 432x288 with 1 Axes>"
      ]
     },
     "metadata": {},
     "output_type": "display_data"
    }
   ],
   "source": [
    "show_boxplot( ElectPricesHouseholds )"
   ]
  },
  {
   "cell_type": "markdown",
   "id": "15c80287-6296-4dc5-81c8-3daad1df08c4",
   "metadata": {},
   "source": [
    "Detectamos Outlier en el año 2021, inicializamos valor"
   ]
  },
  {
   "cell_type": "code",
   "execution_count": 30,
   "id": "967f0052-e0b9-4c72-b2b2-51d5383f1fbb",
   "metadata": {},
   "outputs": [],
   "source": [
    "ElectPricesHouseholds = init_outlier(ElectPricesHouseholds, '2021')"
   ]
  },
  {
   "cell_type": "markdown",
   "id": "2fa504b3-0b86-43b8-b67f-b1dd79c60f84",
   "metadata": {},
   "source": [
    " Estimamos valores nulos por la media"
   ]
  },
  {
   "cell_type": "code",
   "execution_count": 31,
   "id": "8fa9c4c3-5b35-4262-af62-89cab6064204",
   "metadata": {},
   "outputs": [],
   "source": [
    "ElectPricesHouseholds = median_estimator( ElectPricesHouseholds, '2021' )\n",
    "ElectPricesHouseholds = median_estimator( ElectPricesHouseholds, '2020' )\n",
    "ElectPricesHouseholds = median_estimator( ElectPricesHouseholds, '2019' )\n",
    "ElectPricesHouseholds = median_estimator( ElectPricesHouseholds, '2018' )\n",
    "ElectPricesHouseholds = median_estimator( ElectPricesHouseholds, '2017' )\n"
   ]
  },
  {
   "cell_type": "markdown",
   "id": "4e335fba-e07b-45aa-a149-1d9daf41e7df",
   "metadata": {},
   "source": [
    "Se vuelve a mostrar el diagrama de caja"
   ]
  },
  {
   "cell_type": "code",
   "execution_count": 32,
   "id": "ae00db85-7dc9-43ce-a5b3-35e87c3eb0f7",
   "metadata": {},
   "outputs": [
    {
     "data": {
      "image/png": "[encoded data removed]",
      "text/plain": [
       "<Figure size 432x288 with 1 Axes>"
      ]
     },
     "metadata": {},
     "output_type": "display_data"
    }
   ],
   "source": [
    "show_boxplot( ElectPricesHouseholds )"
   ]
  },
  {
   "cell_type": "markdown",
   "id": "185a2061-7c3a-42e2-86b4-1d9a26be40ad",
   "metadata": {},
   "source": [
    "### Datos de los costes de la electricidad para empresas\n"
   ]
  },
  {
   "cell_type": "markdown",
   "id": "8cfaada4-a631-4347-98b7-1d4c6124542a",
   "metadata": {},
   "source": [
    "Se eliminan las columnas correspondientes a los valores semestrales de lo años desde el 2012 al 2016 que no contienen datos"
   ]
  },
  {
   "cell_type": "code",
   "execution_count": 33,
   "id": "9d869f12-a54e-4272-9d46-4bb81f1c0225",
   "metadata": {},
   "outputs": [],
   "source": [
    "ElectPricesNoHouseholds = data_electricity_prices_no_household_consumers.drop(\n",
    "    [\n",
    "        '2007-S2',\n",
    "        '2008-S2',\n",
    "        '2009-S2',\n",
    "        '2010-S2',\n",
    "        '2011-S2',\n",
    "        '2012-S2',\n",
    "        '2013-S2',\n",
    "        '2014-S2',\n",
    "        '2015-S2',\n",
    "        '2016-S2'\n",
    "    ], axis=1\n",
    ")"
   ]
  },
  {
   "cell_type": "markdown",
   "id": "d7e857ac-e94e-4b93-bee5-f24cb1ed31f3",
   "metadata": {},
   "source": [
    "Se muestra el diagrama de caja"
   ]
  },
  {
   "cell_type": "code",
   "execution_count": 34,
   "id": "4a549354-f9ed-4c79-a763-d91c6b7086f9",
   "metadata": {},
   "outputs": [
    {
     "data": {
      "image/png": "[encoded data removed]",
      "text/plain": [
       "<Figure size 432x288 with 1 Axes>"
      ]
     },
     "metadata": {},
     "output_type": "display_data"
    }
   ],
   "source": [
    "show_boxplot( ElectPricesNoHouseholds )"
   ]
  },
  {
   "cell_type": "markdown",
   "id": "00b8eaf5-0313-444a-a375-bd5c18755385",
   "metadata": {},
   "source": [
    "Muestra de los 10 primeros valores"
   ]
  },
  {
   "cell_type": "code",
   "execution_count": 35,
   "id": "699d3b69-a0af-42f0-ae47-11d0122578e7",
   "metadata": {},
   "outputs": [
    {
     "data": {
      "text/html": [
       "<div>\n",
       "<style scoped>\n",
       "    .dataframe tbody tr th:only-of-type {\n",
       "        vertical-align: middle;\n",
       "    }\n",
       "\n",
       "    .dataframe tbody tr th {\n",
       "        vertical-align: top;\n",
       "    }\n",
       "\n",
       "    .dataframe thead th {\n",
       "        text-align: right;\n",
       "    }\n",
       "</style>\n",
       "<table border=\"1\" class=\"dataframe\">\n",
       "  <thead>\n",
       "    <tr style=\"text-align: right;\">\n",
       "      <th></th>\n",
       "      <th>country</th>\n",
       "      <th>country_name</th>\n",
       "      <th>2017</th>\n",
       "      <th>2018</th>\n",
       "      <th>2019</th>\n",
       "      <th>2020</th>\n",
       "      <th>2021</th>\n",
       "    </tr>\n",
       "  </thead>\n",
       "  <tbody>\n",
       "    <tr>\n",
       "      <th>0</th>\n",
       "      <td>AT</td>\n",
       "      <td>Austria</td>\n",
       "      <td>0.0598</td>\n",
       "      <td>0.0610</td>\n",
       "      <td>0.0654</td>\n",
       "      <td>0.0702</td>\n",
       "      <td>0.0723</td>\n",
       "    </tr>\n",
       "    <tr>\n",
       "      <th>1</th>\n",
       "      <td>BA</td>\n",
       "      <td>Bosnia and Herzegovina</td>\n",
       "      <td>0.0649</td>\n",
       "      <td>0.0621</td>\n",
       "      <td>0.0624</td>\n",
       "      <td>0.0648</td>\n",
       "      <td>NaN</td>\n",
       "    </tr>\n",
       "    <tr>\n",
       "      <th>2</th>\n",
       "      <td>BE</td>\n",
       "      <td>Belgium</td>\n",
       "      <td>0.0672</td>\n",
       "      <td>0.0624</td>\n",
       "      <td>0.0663</td>\n",
       "      <td>0.0745</td>\n",
       "      <td>0.0890</td>\n",
       "    </tr>\n",
       "    <tr>\n",
       "      <th>3</th>\n",
       "      <td>BG</td>\n",
       "      <td>Bulgaria</td>\n",
       "      <td>0.0817</td>\n",
       "      <td>0.0810</td>\n",
       "      <td>0.0764</td>\n",
       "      <td>0.0730</td>\n",
       "      <td>0.1075</td>\n",
       "    </tr>\n",
       "    <tr>\n",
       "      <th>4</th>\n",
       "      <td>CY</td>\n",
       "      <td>Cyprus</td>\n",
       "      <td>0.1187</td>\n",
       "      <td>0.1240</td>\n",
       "      <td>0.1271</td>\n",
       "      <td>0.1055</td>\n",
       "      <td>0.1136</td>\n",
       "    </tr>\n",
       "    <tr>\n",
       "      <th>5</th>\n",
       "      <td>CZ</td>\n",
       "      <td>Czechia</td>\n",
       "      <td>0.0580</td>\n",
       "      <td>0.0602</td>\n",
       "      <td>0.0721</td>\n",
       "      <td>0.0811</td>\n",
       "      <td>0.0848</td>\n",
       "    </tr>\n",
       "    <tr>\n",
       "      <th>6</th>\n",
       "      <td>DE</td>\n",
       "      <td>Germany (until 1990 former territory of the FRG)</td>\n",
       "      <td>0.0468</td>\n",
       "      <td>0.0612</td>\n",
       "      <td>0.0525</td>\n",
       "      <td>0.0651</td>\n",
       "      <td>0.0707</td>\n",
       "    </tr>\n",
       "    <tr>\n",
       "      <th>7</th>\n",
       "      <td>DK</td>\n",
       "      <td>Denmark</td>\n",
       "      <td>0.0433</td>\n",
       "      <td>0.0514</td>\n",
       "      <td>0.0517</td>\n",
       "      <td>0.0426</td>\n",
       "      <td>0.0898</td>\n",
       "    </tr>\n",
       "    <tr>\n",
       "      <th>8</th>\n",
       "      <td>EA</td>\n",
       "      <td>Euro area (EA11-1999, EA12-2001, EA13-2007, EA...</td>\n",
       "      <td>0.0757</td>\n",
       "      <td>0.0837</td>\n",
       "      <td>0.0794</td>\n",
       "      <td>0.0780</td>\n",
       "      <td>0.0893</td>\n",
       "    </tr>\n",
       "    <tr>\n",
       "      <th>9</th>\n",
       "      <td>EE</td>\n",
       "      <td>Estonia</td>\n",
       "      <td>0.0406</td>\n",
       "      <td>0.0489</td>\n",
       "      <td>0.0516</td>\n",
       "      <td>0.0440</td>\n",
       "      <td>0.0850</td>\n",
       "    </tr>\n",
       "  </tbody>\n",
       "</table>\n",
       "</div>"
      ],
      "text/plain": [
       "  country                                       country_name    2017    2018  \\\n",
       "0      AT                                            Austria  0.0598  0.0610   \n",
       "1      BA                             Bosnia and Herzegovina  0.0649  0.0621   \n",
       "2      BE                                            Belgium  0.0672  0.0624   \n",
       "3      BG                                           Bulgaria  0.0817  0.0810   \n",
       "4      CY                                             Cyprus  0.1187  0.1240   \n",
       "5      CZ                                            Czechia  0.0580  0.0602   \n",
       "6      DE   Germany (until 1990 former territory of the FRG)  0.0468  0.0612   \n",
       "7      DK                                            Denmark  0.0433  0.0514   \n",
       "8      EA  Euro area (EA11-1999, EA12-2001, EA13-2007, EA...  0.0757  0.0837   \n",
       "9      EE                                            Estonia  0.0406  0.0489   \n",
       "\n",
       "     2019    2020    2021  \n",
       "0  0.0654  0.0702  0.0723  \n",
       "1  0.0624  0.0648     NaN  \n",
       "2  0.0663  0.0745  0.0890  \n",
       "3  0.0764  0.0730  0.1075  \n",
       "4  0.1271  0.1055  0.1136  \n",
       "5  0.0721  0.0811  0.0848  \n",
       "6  0.0525  0.0651  0.0707  \n",
       "7  0.0517  0.0426  0.0898  \n",
       "8  0.0794  0.0780  0.0893  \n",
       "9  0.0516  0.0440  0.0850  "
      ]
     },
     "metadata": {},
     "output_type": "display_data"
    }
   ],
   "source": [
    "display( ElectPricesNoHouseholds.head( 10 ) )"
   ]
  },
  {
   "cell_type": "markdown",
   "id": "8c871e1c-2769-421e-84b0-3086f2aacb1b",
   "metadata": {},
   "source": [
    "Detectamos Outlier en los valores del 2021 y lo inicializamos "
   ]
  },
  {
   "cell_type": "code",
   "execution_count": 36,
   "id": "15cca0b1-5544-42e2-be94-becefd3d966e",
   "metadata": {},
   "outputs": [],
   "source": [
    "ElectPricesHouseholds = init_outlier(ElectPricesNoHouseholds, '2021')"
   ]
  },
  {
   "cell_type": "markdown",
   "id": "9c9b09ee-b1f6-48ad-9674-42335293e4b9",
   "metadata": {},
   "source": [
    "Se evaluan con el estimador de la media los valores nulos"
   ]
  },
  {
   "cell_type": "code",
   "execution_count": 37,
   "id": "76208d3a-c00a-42ab-8482-0bcb483a5ce9",
   "metadata": {},
   "outputs": [],
   "source": [
    "ElectPricesNoHouseholds = median_estimator( ElectPricesNoHouseholds, '2021' )\n",
    "ElectPricesNoHouseholds = median_estimator( ElectPricesNoHouseholds, '2020' )\n",
    "ElectPricesNoHouseholds = median_estimator( ElectPricesNoHouseholds, '2019' )\n",
    "ElectPricesNoHouseholds = median_estimator( ElectPricesNoHouseholds, '2018' )\n",
    "ElectPricesNoHouseholds = median_estimator( ElectPricesNoHouseholds, '2017' )\n"
   ]
  },
  {
   "cell_type": "markdown",
   "id": "83c331e9-dcba-45cd-8bf4-0271380e1de1",
   "metadata": {},
   "source": [
    "Se vuelve a mostrar el diagrama de caja"
   ]
  },
  {
   "cell_type": "code",
   "execution_count": 38,
   "id": "57b8ba7d-d898-40b2-8d98-f0127059140c",
   "metadata": {},
   "outputs": [
    {
     "data": {
      "image/png": "[encoded data removed]",
      "text/plain": [
       "<Figure size 432x288 with 1 Axes>"
      ]
     },
     "metadata": {},
     "output_type": "display_data"
    }
   ],
   "source": [
    "show_boxplot( ElectPricesNoHouseholds )"
   ]
  },
  {
   "cell_type": "markdown",
   "id": "8a753b1c-69a0-461e-85c3-9342bafd5b5b",
   "metadata": {},
   "source": [
    "### _Conclusión de análisis inicial de datos:_\n",
    "\n",
    "Descartamos continuar el análisis del \"Gas\" en el caso de los precios de los consumos de las empresas, ya que los datos obtenidos son una muestra demasiado pequeña, en concreto en los años 2017 y 2018 (ver dataset [data_gas_prices_no_household_consumers.csv](subdataset/data_gas_prices_no_household_consumers.csv))."
   ]
  },
  {
   "cell_type": "markdown",
   "id": "88c7dfbe-0464-4ebc-b20a-7eb23c59daac",
   "metadata": {
    "tags": []
   },
   "source": [
    "data_electricity_prices_household_consumers# Generación del dataset Final de trabajo"
   ]
  },
  {
   "cell_type": "markdown",
   "id": "e0ecb1a2-9a36-429a-b6f0-69bfc001e1e4",
   "metadata": {},
   "source": [
    "Generamos El Dataset final a exportar, con los datos posibles "
   ]
  },
  {
   "cell_type": "code",
   "execution_count": 39,
   "id": "47ac9f1e-077c-4596-8d87-2338760cac13",
   "metadata": {},
   "outputs": [],
   "source": [
    "dElectCol = pd.merge(\n",
    "    ElectPricesHouseholds, \n",
    "    ElectPricesNoHouseholds.drop(['country_name'], axis=1), \n",
    "    on='country',\n",
    "    suffixes=('_ElectHouse', '_ElectNoHouse')\n",
    ")\n",
    "\n",
    "dGasCol = pd.merge(\n",
    "    GasPricesHousehold.drop(['country_name'], axis=1), \n",
    "    GasPricesNoHousehold.drop(['country_name'], axis=1), \n",
    "    on='country',\n",
    "    suffixes=('_GasHouse', '_GasNoHouse')\n",
    ")\n",
    "\n",
    "dEnergyCol = pd.merge(\n",
    "    dElectCol, \n",
    "    dGasCol, \n",
    "    on='country'\n",
    ")\n",
    "\n"
   ]
  },
  {
   "cell_type": "markdown",
   "id": "a056f117-8d88-48c9-91a6-57040c9e1aca",
   "metadata": {},
   "source": [
    "Mostramos el dataset final a publicar:"
   ]
  },
  {
   "cell_type": "code",
   "execution_count": 40,
   "id": "33d248e6-b8d7-4eec-8cd9-4d8fff44825c",
   "metadata": {},
   "outputs": [
    {
     "data": {
      "text/html": [
       "<div>\n",
       "<style scoped>\n",
       "    .dataframe tbody tr th:only-of-type {\n",
       "        vertical-align: middle;\n",
       "    }\n",
       "\n",
       "    .dataframe tbody tr th {\n",
       "        vertical-align: top;\n",
       "    }\n",
       "\n",
       "    .dataframe thead th {\n",
       "        text-align: right;\n",
       "    }\n",
       "</style>\n",
       "<table border=\"1\" class=\"dataframe\">\n",
       "  <thead>\n",
       "    <tr style=\"text-align: right;\">\n",
       "      <th></th>\n",
       "      <th>country</th>\n",
       "      <th>country_name</th>\n",
       "      <th>2017_ElectHouse</th>\n",
       "      <th>2018_ElectHouse</th>\n",
       "      <th>2019_ElectHouse</th>\n",
       "      <th>2020_ElectHouse</th>\n",
       "      <th>2021_ElectHouse</th>\n",
       "      <th>2017_ElectNoHouse</th>\n",
       "      <th>2018_ElectNoHouse</th>\n",
       "      <th>2019_ElectNoHouse</th>\n",
       "      <th>...</th>\n",
       "      <th>2017_GasHouse</th>\n",
       "      <th>2018_GasHouse</th>\n",
       "      <th>2019_GasHouse</th>\n",
       "      <th>2020_GasHouse</th>\n",
       "      <th>2021_GasHouse</th>\n",
       "      <th>2017_GasNoHouse</th>\n",
       "      <th>2018_GasNoHouse</th>\n",
       "      <th>2019_GasNoHouse</th>\n",
       "      <th>2020_GasNoHouse</th>\n",
       "      <th>2021_GasNoHouse</th>\n",
       "    </tr>\n",
       "  </thead>\n",
       "  <tbody>\n",
       "    <tr>\n",
       "      <th>0</th>\n",
       "      <td>AT</td>\n",
       "      <td>Austria</td>\n",
       "      <td>0.0598</td>\n",
       "      <td>0.0610</td>\n",
       "      <td>0.0654</td>\n",
       "      <td>0.0702</td>\n",
       "      <td>0.0723</td>\n",
       "      <td>0.0598</td>\n",
       "      <td>0.0610</td>\n",
       "      <td>0.0654</td>\n",
       "      <td>...</td>\n",
       "      <td>0.0299</td>\n",
       "      <td>0.0304</td>\n",
       "      <td>0.0312</td>\n",
       "      <td>0.0308</td>\n",
       "      <td>0.0316</td>\n",
       "      <td>0.022</td>\n",
       "      <td>0.024</td>\n",
       "      <td>0.0184</td>\n",
       "      <td>0.0168</td>\n",
       "      <td>0.0297</td>\n",
       "    </tr>\n",
       "    <tr>\n",
       "      <th>1</th>\n",
       "      <td>BA</td>\n",
       "      <td>Bosnia and Herzegovina</td>\n",
       "      <td>0.0649</td>\n",
       "      <td>0.0621</td>\n",
       "      <td>0.0624</td>\n",
       "      <td>0.0648</td>\n",
       "      <td>0.0793</td>\n",
       "      <td>0.0649</td>\n",
       "      <td>0.0621</td>\n",
       "      <td>0.0624</td>\n",
       "      <td>...</td>\n",
       "      <td>0.0240</td>\n",
       "      <td>0.0240</td>\n",
       "      <td>0.0249</td>\n",
       "      <td>0.0258</td>\n",
       "      <td>0.0251</td>\n",
       "      <td>0.022</td>\n",
       "      <td>0.024</td>\n",
       "      <td>0.0257</td>\n",
       "      <td>0.0259</td>\n",
       "      <td>0.0248</td>\n",
       "    </tr>\n",
       "    <tr>\n",
       "      <th>2</th>\n",
       "      <td>BE</td>\n",
       "      <td>Belgium</td>\n",
       "      <td>0.0672</td>\n",
       "      <td>0.0624</td>\n",
       "      <td>0.0663</td>\n",
       "      <td>0.0745</td>\n",
       "      <td>0.0890</td>\n",
       "      <td>0.0672</td>\n",
       "      <td>0.0624</td>\n",
       "      <td>0.0663</td>\n",
       "      <td>...</td>\n",
       "      <td>0.0283</td>\n",
       "      <td>0.0288</td>\n",
       "      <td>0.0289</td>\n",
       "      <td>0.0252</td>\n",
       "      <td>0.0315</td>\n",
       "      <td>0.022</td>\n",
       "      <td>0.024</td>\n",
       "      <td>0.0189</td>\n",
       "      <td>0.0148</td>\n",
       "      <td>0.0318</td>\n",
       "    </tr>\n",
       "    <tr>\n",
       "      <th>3</th>\n",
       "      <td>BG</td>\n",
       "      <td>Bulgaria</td>\n",
       "      <td>0.0817</td>\n",
       "      <td>0.0810</td>\n",
       "      <td>0.0764</td>\n",
       "      <td>0.0730</td>\n",
       "      <td>0.1075</td>\n",
       "      <td>0.0817</td>\n",
       "      <td>0.0810</td>\n",
       "      <td>0.0764</td>\n",
       "      <td>...</td>\n",
       "      <td>0.0170</td>\n",
       "      <td>0.0209</td>\n",
       "      <td>0.0240</td>\n",
       "      <td>0.0177</td>\n",
       "      <td>0.0331</td>\n",
       "      <td>0.022</td>\n",
       "      <td>0.024</td>\n",
       "      <td>0.0213</td>\n",
       "      <td>0.0142</td>\n",
       "      <td>0.0299</td>\n",
       "    </tr>\n",
       "    <tr>\n",
       "      <th>4</th>\n",
       "      <td>CZ</td>\n",
       "      <td>Czechia</td>\n",
       "      <td>0.0580</td>\n",
       "      <td>0.0602</td>\n",
       "      <td>0.0721</td>\n",
       "      <td>0.0811</td>\n",
       "      <td>0.0848</td>\n",
       "      <td>0.0580</td>\n",
       "      <td>0.0602</td>\n",
       "      <td>0.0721</td>\n",
       "      <td>...</td>\n",
       "      <td>0.0360</td>\n",
       "      <td>0.0390</td>\n",
       "      <td>0.0455</td>\n",
       "      <td>0.0431</td>\n",
       "      <td>0.0448</td>\n",
       "      <td>0.022</td>\n",
       "      <td>0.024</td>\n",
       "      <td>0.0226</td>\n",
       "      <td>0.0192</td>\n",
       "      <td>0.0259</td>\n",
       "    </tr>\n",
       "  </tbody>\n",
       "</table>\n",
       "<p>5 rows × 22 columns</p>\n",
       "</div>"
      ],
      "text/plain": [
       "  country            country_name  2017_ElectHouse  2018_ElectHouse  \\\n",
       "0      AT                 Austria           0.0598           0.0610   \n",
       "1      BA  Bosnia and Herzegovina           0.0649           0.0621   \n",
       "2      BE                 Belgium           0.0672           0.0624   \n",
       "3      BG                Bulgaria           0.0817           0.0810   \n",
       "4      CZ                 Czechia           0.0580           0.0602   \n",
       "\n",
       "   2019_ElectHouse  2020_ElectHouse  2021_ElectHouse  2017_ElectNoHouse  \\\n",
       "0           0.0654           0.0702           0.0723             0.0598   \n",
       "1           0.0624           0.0648           0.0793             0.0649   \n",
       "2           0.0663           0.0745           0.0890             0.0672   \n",
       "3           0.0764           0.0730           0.1075             0.0817   \n",
       "4           0.0721           0.0811           0.0848             0.0580   \n",
       "\n",
       "   2018_ElectNoHouse  2019_ElectNoHouse  ...  2017_GasHouse  2018_GasHouse  \\\n",
       "0             0.0610             0.0654  ...         0.0299         0.0304   \n",
       "1             0.0621             0.0624  ...         0.0240         0.0240   \n",
       "2             0.0624             0.0663  ...         0.0283         0.0288   \n",
       "3             0.0810             0.0764  ...         0.0170         0.0209   \n",
       "4             0.0602             0.0721  ...         0.0360         0.0390   \n",
       "\n",
       "   2019_GasHouse  2020_GasHouse  2021_GasHouse  2017_GasNoHouse  \\\n",
       "0         0.0312         0.0308         0.0316            0.022   \n",
       "1         0.0249         0.0258         0.0251            0.022   \n",
       "2         0.0289         0.0252         0.0315            0.022   \n",
       "3         0.0240         0.0177         0.0331            0.022   \n",
       "4         0.0455         0.0431         0.0448            0.022   \n",
       "\n",
       "   2018_GasNoHouse  2019_GasNoHouse  2020_GasNoHouse  2021_GasNoHouse  \n",
       "0            0.024           0.0184           0.0168           0.0297  \n",
       "1            0.024           0.0257           0.0259           0.0248  \n",
       "2            0.024           0.0189           0.0148           0.0318  \n",
       "3            0.024           0.0213           0.0142           0.0299  \n",
       "4            0.024           0.0226           0.0192           0.0259  \n",
       "\n",
       "[5 rows x 22 columns]"
      ]
     },
     "execution_count": 40,
     "metadata": {},
     "output_type": "execute_result"
    }
   ],
   "source": [
    "dEnergyCol.head()"
   ]
  },
  {
   "cell_type": "markdown",
   "id": "95d81764-f02a-4892-96d5-5a8588cdbd9c",
   "metadata": {},
   "source": [
    "Columnas del dataset a Publicar:"
   ]
  },
  {
   "cell_type": "code",
   "execution_count": 41,
   "id": "39720a6d-faa7-4a6b-9e27-546c0ff129af",
   "metadata": {},
   "outputs": [
    {
     "data": {
      "text/plain": [
       "country               object\n",
       "country_name          object\n",
       "2017_ElectHouse      float64\n",
       "2018_ElectHouse      float64\n",
       "2019_ElectHouse      float64\n",
       "2020_ElectHouse      float64\n",
       "2021_ElectHouse      float64\n",
       "2017_ElectNoHouse    float64\n",
       "2018_ElectNoHouse    float64\n",
       "2019_ElectNoHouse    float64\n",
       "2020_ElectNoHouse    float64\n",
       "2021_ElectNoHouse    float64\n",
       "2017_GasHouse        float64\n",
       "2018_GasHouse        float64\n",
       "2019_GasHouse        float64\n",
       "2020_GasHouse        float64\n",
       "2021_GasHouse        float64\n",
       "2017_GasNoHouse      float64\n",
       "2018_GasNoHouse      float64\n",
       "2019_GasNoHouse      float64\n",
       "2020_GasNoHouse      float64\n",
       "2021_GasNoHouse      float64\n",
       "dtype: object"
      ]
     },
     "metadata": {},
     "output_type": "display_data"
    }
   ],
   "source": [
    "display( dEnergyCol.dtypes )"
   ]
  },
  {
   "cell_type": "markdown",
   "id": "a080e08e-0b4f-4b6b-b0ae-f2d7776c432d",
   "metadata": {
    "tags": []
   },
   "source": [
    "## Exportación dataset Final en formato CSV"
   ]
  },
  {
   "cell_type": "code",
   "execution_count": 42,
   "id": "b50edf1d-0e4f-4268-af59-9dd2f80beab1",
   "metadata": {},
   "outputs": [],
   "source": [
    "export_dataframe( \n",
    "    df = dEnergyCol, \n",
    "    file_name = 'energy_price_dataset', \n",
    "    directory = 'dataset' \n",
    ") "
   ]
  },
  {
   "cell_type": "markdown",
   "id": "c64f39b1-08da-481c-b799-a89788a4d0b3",
   "metadata": {
    "tags": []
   },
   "source": [
    "# Dataset a analizar a partir del dataset publicado"
   ]
  },
  {
   "cell_type": "markdown",
   "id": "986cb579-fc97-48d3-abfc-b75a12cf7f1f",
   "metadata": {},
   "source": [
    "De las conclusiones del anterior estudio vemos que no hay suficientes datos en los datos relativos al precio del gas de las empresas para poder hacer un análisis. Decimos entonces continuar sólo con los datos que hacen referencia a los precios del gas y de la electricidad relativos a entornos domésticos.\n",
    "\n",
    "Costruimos un dataset filtrando solo estos datos, eliminando los datos relativos al precio del gas y a la electricidad de las empresas en el dataset original y también se eliminan los datos acumulados relativos a la Unión Europea:"
   ]
  },
  {
   "cell_type": "code",
   "execution_count": 43,
   "id": "25122476-34b8-4c01-b2e0-460eea40af9f",
   "metadata": {},
   "outputs": [],
   "source": [
    "dEnergyHouseCol = dEnergyCol.loc[\n",
    "                  : ,~dEnergyCol.columns.str.endswith('NoHouse')\n",
    "                ].loc[\n",
    "                  (dEnergyCol[\"country\"] != \"EU27_2020\" )\n",
    "                ].loc[\n",
    "                  (dEnergyCol[\"country\"] != \"EA\" )\n",
    "                ]"
   ]
  },
  {
   "cell_type": "markdown",
   "id": "9413d524-9165-48f3-90c1-6bbd72c061cc",
   "metadata": {},
   "source": [
    "Columnas del dataset a Analizar:"
   ]
  },
  {
   "cell_type": "code",
   "execution_count": 44,
   "id": "e6ff838b-33ad-4b6f-bf3b-5bc28ae07c85",
   "metadata": {},
   "outputs": [
    {
     "data": {
      "text/plain": [
       "country             object\n",
       "country_name        object\n",
       "2017_ElectHouse    float64\n",
       "2018_ElectHouse    float64\n",
       "2019_ElectHouse    float64\n",
       "2020_ElectHouse    float64\n",
       "2021_ElectHouse    float64\n",
       "2017_GasHouse      float64\n",
       "2018_GasHouse      float64\n",
       "2019_GasHouse      float64\n",
       "2020_GasHouse      float64\n",
       "2021_GasHouse      float64\n",
       "dtype: object"
      ]
     },
     "metadata": {},
     "output_type": "display_data"
    }
   ],
   "source": [
    "display( dEnergyHouseCol.dtypes )"
   ]
  },
  {
   "cell_type": "markdown",
   "id": "5963730a-af46-4309-adf0-2015914e3a25",
   "metadata": {},
   "source": [
    "Se presenta una muestra del dataset filtrando sólamente los datos domésticos"
   ]
  },
  {
   "cell_type": "code",
   "execution_count": 45,
   "id": "0b9e1199-fc65-4cf1-967b-7492460ddee7",
   "metadata": {},
   "outputs": [
    {
     "data": {
      "text/html": [
       "<div>\n",
       "<style scoped>\n",
       "    .dataframe tbody tr th:only-of-type {\n",
       "        vertical-align: middle;\n",
       "    }\n",
       "\n",
       "    .dataframe tbody tr th {\n",
       "        vertical-align: top;\n",
       "    }\n",
       "\n",
       "    .dataframe thead th {\n",
       "        text-align: right;\n",
       "    }\n",
       "</style>\n",
       "<table border=\"1\" class=\"dataframe\">\n",
       "  <thead>\n",
       "    <tr style=\"text-align: right;\">\n",
       "      <th></th>\n",
       "      <th>country</th>\n",
       "      <th>country_name</th>\n",
       "      <th>2017_ElectHouse</th>\n",
       "      <th>2018_ElectHouse</th>\n",
       "      <th>2019_ElectHouse</th>\n",
       "      <th>2020_ElectHouse</th>\n",
       "      <th>2021_ElectHouse</th>\n",
       "      <th>2017_GasHouse</th>\n",
       "      <th>2018_GasHouse</th>\n",
       "      <th>2019_GasHouse</th>\n",
       "      <th>2020_GasHouse</th>\n",
       "      <th>2021_GasHouse</th>\n",
       "    </tr>\n",
       "  </thead>\n",
       "  <tbody>\n",
       "    <tr>\n",
       "      <th>0</th>\n",
       "      <td>AT</td>\n",
       "      <td>Austria</td>\n",
       "      <td>0.0598</td>\n",
       "      <td>0.0610</td>\n",
       "      <td>0.0654</td>\n",
       "      <td>0.0702</td>\n",
       "      <td>0.0723</td>\n",
       "      <td>0.0299</td>\n",
       "      <td>0.0304</td>\n",
       "      <td>0.0312</td>\n",
       "      <td>0.0308</td>\n",
       "      <td>0.0316</td>\n",
       "    </tr>\n",
       "    <tr>\n",
       "      <th>1</th>\n",
       "      <td>BA</td>\n",
       "      <td>Bosnia and Herzegovina</td>\n",
       "      <td>0.0649</td>\n",
       "      <td>0.0621</td>\n",
       "      <td>0.0624</td>\n",
       "      <td>0.0648</td>\n",
       "      <td>0.0793</td>\n",
       "      <td>0.0240</td>\n",
       "      <td>0.0240</td>\n",
       "      <td>0.0249</td>\n",
       "      <td>0.0258</td>\n",
       "      <td>0.0251</td>\n",
       "    </tr>\n",
       "    <tr>\n",
       "      <th>2</th>\n",
       "      <td>BE</td>\n",
       "      <td>Belgium</td>\n",
       "      <td>0.0672</td>\n",
       "      <td>0.0624</td>\n",
       "      <td>0.0663</td>\n",
       "      <td>0.0745</td>\n",
       "      <td>0.0890</td>\n",
       "      <td>0.0283</td>\n",
       "      <td>0.0288</td>\n",
       "      <td>0.0289</td>\n",
       "      <td>0.0252</td>\n",
       "      <td>0.0315</td>\n",
       "    </tr>\n",
       "    <tr>\n",
       "      <th>3</th>\n",
       "      <td>BG</td>\n",
       "      <td>Bulgaria</td>\n",
       "      <td>0.0817</td>\n",
       "      <td>0.0810</td>\n",
       "      <td>0.0764</td>\n",
       "      <td>0.0730</td>\n",
       "      <td>0.1075</td>\n",
       "      <td>0.0170</td>\n",
       "      <td>0.0209</td>\n",
       "      <td>0.0240</td>\n",
       "      <td>0.0177</td>\n",
       "      <td>0.0331</td>\n",
       "    </tr>\n",
       "    <tr>\n",
       "      <th>4</th>\n",
       "      <td>CZ</td>\n",
       "      <td>Czechia</td>\n",
       "      <td>0.0580</td>\n",
       "      <td>0.0602</td>\n",
       "      <td>0.0721</td>\n",
       "      <td>0.0811</td>\n",
       "      <td>0.0848</td>\n",
       "      <td>0.0360</td>\n",
       "      <td>0.0390</td>\n",
       "      <td>0.0455</td>\n",
       "      <td>0.0431</td>\n",
       "      <td>0.0448</td>\n",
       "    </tr>\n",
       "  </tbody>\n",
       "</table>\n",
       "</div>"
      ],
      "text/plain": [
       "  country            country_name  2017_ElectHouse  2018_ElectHouse  \\\n",
       "0      AT                 Austria           0.0598           0.0610   \n",
       "1      BA  Bosnia and Herzegovina           0.0649           0.0621   \n",
       "2      BE                 Belgium           0.0672           0.0624   \n",
       "3      BG                Bulgaria           0.0817           0.0810   \n",
       "4      CZ                 Czechia           0.0580           0.0602   \n",
       "\n",
       "   2019_ElectHouse  2020_ElectHouse  2021_ElectHouse  2017_GasHouse  \\\n",
       "0           0.0654           0.0702           0.0723         0.0299   \n",
       "1           0.0624           0.0648           0.0793         0.0240   \n",
       "2           0.0663           0.0745           0.0890         0.0283   \n",
       "3           0.0764           0.0730           0.1075         0.0170   \n",
       "4           0.0721           0.0811           0.0848         0.0360   \n",
       "\n",
       "   2018_GasHouse  2019_GasHouse  2020_GasHouse  2021_GasHouse  \n",
       "0         0.0304         0.0312         0.0308         0.0316  \n",
       "1         0.0240         0.0249         0.0258         0.0251  \n",
       "2         0.0288         0.0289         0.0252         0.0315  \n",
       "3         0.0209         0.0240         0.0177         0.0331  \n",
       "4         0.0390         0.0455         0.0431         0.0448  "
      ]
     },
     "metadata": {},
     "output_type": "display_data"
    }
   ],
   "source": [
    "display( dEnergyHouseCol.head() )"
   ]
  },
  {
   "cell_type": "markdown",
   "id": "088be955-de76-4969-8bde-42253cfac20e",
   "metadata": {},
   "source": [
    "# Análisis de los datos"
   ]
  },
  {
   "cell_type": "markdown",
   "id": "bdee6e72-164b-4edc-ae9d-0d83b61c236e",
   "metadata": {},
   "source": [
    "## Selección del grupo de datos\n",
    "\n",
    "Teniendo por un lado un histórico de los precios de la electricidad y por otro los precios del gas por cada país. Se pretende hacer un estudio de la relación que existe entre ambos precios.\n",
    "\n",
    "Para ello se procesa el dataset de los datos de precios de la energia doméstico para que cada registro tenga la información del país, del año y ambos precios"
   ]
  },
  {
   "cell_type": "markdown",
   "id": "edb07d26-f505-4f8d-b559-dcb19dd82bb4",
   "metadata": {
    "tags": []
   },
   "source": [
    "### Crear el dataset de trabajo"
   ]
  },
  {
   "cell_type": "markdown",
   "id": "42032da7-f22d-41b1-a37b-b1264133e076",
   "metadata": {},
   "source": [
    "Primero se crea una función`reduce_dataset` que permite añadir los precios de la electricidad y del gas. Cada registro tendrá la información del país, del año que se pasa como argumento, al que se refieren los precios, y las columnas del precio del gas y la electricidad. "
   ]
  },
  {
   "cell_type": "code",
   "execution_count": 46,
   "id": "7d746c31-9c55-4a6f-bad5-1fa1edd118dc",
   "metadata": {},
   "outputs": [],
   "source": [
    "def reduce_dataset( original_df, year ):\n",
    "    # Nombre de las columnas de la electricidad y gas del año pasado por argumento\n",
    "    column_name_electricity =  '%s_ElectHouse' % year\n",
    "    column_name_gas =  '%s_GasHouse' % year \n",
    "    # Se obtiene las columnas relacionas con el país, el precio de la electricidad y el gas\n",
    "    df =  original_df.loc[:,['country', column_name_electricity , column_name_gas]]\n",
    "    # Se añade la columna del año\n",
    "    df['Year'] = year    \n",
    "    # Se renombran las columnas de electricidad y gas por precio de electricidad y gas respectivamente\n",
    "    return df.rename(\n",
    "        columns= { \n",
    "                    column_name_electricity: \"ElectricityPrice\", \n",
    "                    column_name_gas        : \"GasPrice\"  \n",
    "                 }\n",
    "    )"
   ]
  },
  {
   "cell_type": "markdown",
   "id": "8e2bdd9d-76ea-4d72-8810-6a892438f4e5",
   "metadata": {},
   "source": [
    "Se concatenan todos los años para crear el dataset de trabajo. También se resetea el índice del dataframe creado."
   ]
  },
  {
   "cell_type": "code",
   "execution_count": 47,
   "id": "b3ffca94-f83d-497f-bcdb-0a39ac3c07e4",
   "metadata": {
    "tags": []
   },
   "outputs": [],
   "source": [
    "df_work = pd.concat(    \n",
    "    [\n",
    "        reduce_dataset( dEnergyHouseCol, 2017 ),\n",
    "        reduce_dataset( dEnergyHouseCol, 2018 ),\n",
    "        reduce_dataset( dEnergyHouseCol, 2019 ),\n",
    "        reduce_dataset( dEnergyHouseCol, 2020 ),\n",
    "        reduce_dataset( dEnergyHouseCol, 2021 )\n",
    "    ]\n",
    ")\n",
    "\n",
    "df_work.reset_index(drop=True, inplace=True)"
   ]
  },
  {
   "cell_type": "markdown",
   "id": "4bf3a4cd-09eb-4741-ae52-fa243d07032d",
   "metadata": {},
   "source": [
    "Se muestra los tipos de las columnas del dataset"
   ]
  },
  {
   "cell_type": "code",
   "execution_count": 48,
   "id": "9c1c9eb0-7652-478d-bc0c-ae6ac0fc5f00",
   "metadata": {},
   "outputs": [
    {
     "data": {
      "text/plain": [
       "country              object\n",
       "ElectricityPrice    float64\n",
       "GasPrice            float64\n",
       "Year                  int64\n",
       "dtype: object"
      ]
     },
     "metadata": {},
     "output_type": "display_data"
    }
   ],
   "source": [
    "display( df_work.dtypes )"
   ]
  },
  {
   "cell_type": "markdown",
   "id": "9c247cdb-0885-4d00-8e15-ff063494f52f",
   "metadata": {},
   "source": [
    "Se muestra un ejemplo de los datos del dataset de trabajo que consta de 160 registros"
   ]
  },
  {
   "cell_type": "code",
   "execution_count": 49,
   "id": "009927a6-db22-4181-af68-58fe349f315c",
   "metadata": {},
   "outputs": [
    {
     "data": {
      "text/html": [
       "<div>\n",
       "<style scoped>\n",
       "    .dataframe tbody tr th:only-of-type {\n",
       "        vertical-align: middle;\n",
       "    }\n",
       "\n",
       "    .dataframe tbody tr th {\n",
       "        vertical-align: top;\n",
       "    }\n",
       "\n",
       "    .dataframe thead th {\n",
       "        text-align: right;\n",
       "    }\n",
       "</style>\n",
       "<table border=\"1\" class=\"dataframe\">\n",
       "  <thead>\n",
       "    <tr style=\"text-align: right;\">\n",
       "      <th></th>\n",
       "      <th>country</th>\n",
       "      <th>ElectricityPrice</th>\n",
       "      <th>GasPrice</th>\n",
       "      <th>Year</th>\n",
       "    </tr>\n",
       "  </thead>\n",
       "  <tbody>\n",
       "    <tr>\n",
       "      <th>0</th>\n",
       "      <td>AT</td>\n",
       "      <td>0.0598</td>\n",
       "      <td>0.0299</td>\n",
       "      <td>2017</td>\n",
       "    </tr>\n",
       "    <tr>\n",
       "      <th>1</th>\n",
       "      <td>BA</td>\n",
       "      <td>0.0649</td>\n",
       "      <td>0.0240</td>\n",
       "      <td>2017</td>\n",
       "    </tr>\n",
       "    <tr>\n",
       "      <th>2</th>\n",
       "      <td>BE</td>\n",
       "      <td>0.0672</td>\n",
       "      <td>0.0283</td>\n",
       "      <td>2017</td>\n",
       "    </tr>\n",
       "    <tr>\n",
       "      <th>3</th>\n",
       "      <td>BG</td>\n",
       "      <td>0.0817</td>\n",
       "      <td>0.0170</td>\n",
       "      <td>2017</td>\n",
       "    </tr>\n",
       "    <tr>\n",
       "      <th>4</th>\n",
       "      <td>CZ</td>\n",
       "      <td>0.0580</td>\n",
       "      <td>0.0360</td>\n",
       "      <td>2017</td>\n",
       "    </tr>\n",
       "    <tr>\n",
       "      <th>...</th>\n",
       "      <td>...</td>\n",
       "      <td>...</td>\n",
       "      <td>...</td>\n",
       "      <td>...</td>\n",
       "    </tr>\n",
       "    <tr>\n",
       "      <th>155</th>\n",
       "      <td>SI</td>\n",
       "      <td>0.0641</td>\n",
       "      <td>0.0264</td>\n",
       "      <td>2021</td>\n",
       "    </tr>\n",
       "    <tr>\n",
       "      <th>156</th>\n",
       "      <td>SK</td>\n",
       "      <td>0.0725</td>\n",
       "      <td>0.0195</td>\n",
       "      <td>2021</td>\n",
       "    </tr>\n",
       "    <tr>\n",
       "      <th>157</th>\n",
       "      <td>TR</td>\n",
       "      <td>0.0518</td>\n",
       "      <td>0.0110</td>\n",
       "      <td>2021</td>\n",
       "    </tr>\n",
       "    <tr>\n",
       "      <th>158</th>\n",
       "      <td>UA</td>\n",
       "      <td>0.0793</td>\n",
       "      <td>0.0306</td>\n",
       "      <td>2021</td>\n",
       "    </tr>\n",
       "    <tr>\n",
       "      <th>159</th>\n",
       "      <td>UK</td>\n",
       "      <td>0.0793</td>\n",
       "      <td>0.0306</td>\n",
       "      <td>2021</td>\n",
       "    </tr>\n",
       "  </tbody>\n",
       "</table>\n",
       "<p>160 rows × 4 columns</p>\n",
       "</div>"
      ],
      "text/plain": [
       "    country  ElectricityPrice  GasPrice  Year\n",
       "0        AT            0.0598    0.0299  2017\n",
       "1        BA            0.0649    0.0240  2017\n",
       "2        BE            0.0672    0.0283  2017\n",
       "3        BG            0.0817    0.0170  2017\n",
       "4        CZ            0.0580    0.0360  2017\n",
       "..      ...               ...       ...   ...\n",
       "155      SI            0.0641    0.0264  2021\n",
       "156      SK            0.0725    0.0195  2021\n",
       "157      TR            0.0518    0.0110  2021\n",
       "158      UA            0.0793    0.0306  2021\n",
       "159      UK            0.0793    0.0306  2021\n",
       "\n",
       "[160 rows x 4 columns]"
      ]
     },
     "metadata": {},
     "output_type": "display_data"
    }
   ],
   "source": [
    "display( df_work )"
   ]
  },
  {
   "cell_type": "markdown",
   "id": "58a06241-ceb8-4ae2-bab9-a3378956a46b",
   "metadata": {},
   "source": [
    "#### Diagrama de dispersión entre los precios de la electricidad y del gas \n",
    "\n",
    "Para comprobar la dependencia y la correlación entre los precios de la electricidad y el gas de manera gráfica, se muestra el diagrama  de dispersión"
   ]
  },
  {
   "cell_type": "code",
   "execution_count": 50,
   "id": "ab69ec45-3245-4cc9-889d-77d53b8d86be",
   "metadata": {},
   "outputs": [
    {
     "data": {
      "image/png": "[encoded data removed]",
      "text/plain": [
       "<Figure size 432x288 with 1 Axes>"
      ]
     },
     "metadata": {},
     "output_type": "display_data"
    }
   ],
   "source": [
    "df_work.plot(kind='scatter', x = \"ElectricityPrice\", y =\"GasPrice\", color = \"blue\")\n",
    "\n",
    "plt.show()"
   ]
  },
  {
   "cell_type": "markdown",
   "id": "1b64ebd6-399a-480f-807a-f04e011e6007",
   "metadata": {},
   "source": [
    "#### Valores de los precios de la electricidad\n",
    "\n",
    "Se obtienen los valores del precio de la electricidad que se usarán en apartados posteriores:"
   ]
  },
  {
   "cell_type": "code",
   "execution_count": 51,
   "id": "fed6ccb8-9a4d-4d29-82cd-ab440da9c044",
   "metadata": {},
   "outputs": [
    {
     "data": {
      "text/plain": [
       "array([0.0598 , 0.0649 , 0.0672 , 0.0817 , 0.058  , 0.0468 , 0.0433 ,\n",
       "       0.0406 , 0.081  , 0.1541 , 0.0641 , 0.05895, 0.0574 , 0.0536 ,\n",
       "       0.0959 , 0.0949 , 0.0461 , 0.0581 , 0.0515 , 0.0675 , 0.0517 ,\n",
       "       0.05895, 0.0629 , 0.0599 , 0.0468 , 0.0364 , 0.0348 , 0.044  ,\n",
       "       0.0464 , 0.0533 , 0.05895, 0.0871 , 0.061  , 0.0621 , 0.0624 ,\n",
       "       0.081  , 0.0602 , 0.0612 , 0.0514 , 0.0489 , 0.0876 , 0.1877 ,\n",
       "       0.0636 , 0.0364 , 0.0613 , 0.0573 , 0.1091 , 0.1022 , 0.0488 ,\n",
       "       0.058  , 0.054  , 0.0646 , 0.0505 , 0.0602 , 0.0609 , 0.0593 ,\n",
       "       0.0539 , 0.0389 , 0.0434 , 0.051  , 0.0526 , 0.0446 , 0.0602 ,\n",
       "       0.1015 , 0.0654 , 0.0624 , 0.0663 , 0.0764 , 0.0721 , 0.0525 ,\n",
       "       0.0517 , 0.0516 , 0.0912 , 0.1242 , 0.0685 , 0.0363 , 0.0756 ,\n",
       "       0.0695 , 0.1236 , 0.1112 , 0.0542 , 0.0615 , 0.0597 , 0.0609 ,\n",
       "       0.0515 , 0.0636 , 0.0602 , 0.0674 , 0.0636 , 0.0395 , 0.0462 ,\n",
       "       0.0577 , 0.0633 , 0.066  , 0.0636 , 0.0912 , 0.0702 , 0.0648 ,\n",
       "       0.0745 , 0.073  , 0.0811 , 0.0651 , 0.0426 , 0.044  , 0.0933 ,\n",
       "       0.0854 , 0.0757 , 0.0413 , 0.0728 , 0.068  , 0.1189 , 0.1067 ,\n",
       "       0.0473 , 0.0607 , 0.0567 , 0.0637 , 0.054  , 0.067  , 0.067  ,\n",
       "       0.0806 , 0.0711 , 0.0393 , 0.0373 , 0.0639 , 0.0721 , 0.0516 ,\n",
       "       0.0599 , 0.067  , 0.0723 , 0.0793 , 0.089  , 0.1075 , 0.0848 ,\n",
       "       0.0707 , 0.0898 , 0.085  , 0.1444 , 0.0901 , 0.0793 , 0.0634 ,\n",
       "       0.0818 , 0.0762 , 0.1571 , 0.1353 , 0.0809 , 0.072  , 0.0787 ,\n",
       "       0.0542 , 0.0996 , 0.0793 , 0.0651 , 0.0744 , 0.0801 , 0.0379 ,\n",
       "       0.0692 , 0.0641 , 0.0725 , 0.0518 , 0.0793 , 0.0793 ])"
      ]
     },
     "metadata": {},
     "output_type": "display_data"
    }
   ],
   "source": [
    "electricityPriceValues = df_work.loc[:, \"ElectricityPrice\"].to_numpy() \n",
    "\n",
    "display( electricityPriceValues )"
   ]
  },
  {
   "cell_type": "markdown",
   "id": "3913ca75-1a48-467a-b7bc-035a34daae04",
   "metadata": {},
   "source": [
    "#### Valores de los precios del gas\n",
    "\n",
    "Se obtienen los valores del precio de la gas que se usarńa en apartados posteriores:"
   ]
  },
  {
   "cell_type": "code",
   "execution_count": 52,
   "id": "c9c97dd2-484a-4a98-94a8-5b0b5a6ab691",
   "metadata": {},
   "outputs": [
    {
     "data": {
      "text/plain": [
       "array([0.0299 , 0.024  , 0.0283 , 0.017  , 0.036  , 0.0243 , 0.0234 ,\n",
       "       0.0234 , 0.0243 , 0.0243 , 0.031  , 0.0243 , 0.0206 , 0.019  ,\n",
       "       0.0302 , 0.0243 , 0.0174 , 0.0216 , 0.0207 , 0.0234 , 0.0371 ,\n",
       "       0.0293 , 0.0237 , 0.0333 , 0.0168 , 0.0264 , 0.0314 , 0.0243 ,\n",
       "       0.0213 , 0.0159 , 0.0243 , 0.0308 , 0.0304 , 0.024  , 0.0288 ,\n",
       "       0.0209 , 0.039  , 0.0254 , 0.0259 , 0.0239 , 0.0311 , 0.0254 ,\n",
       "       0.0317 , 0.008  , 0.0212 , 0.0183 , 0.0304 , 0.0254 , 0.0216 ,\n",
       "       0.0245 , 0.023  , 0.0186 , 0.0357 , 0.0305 , 0.0246 , 0.0326 ,\n",
       "       0.0197 , 0.0266 , 0.0405 , 0.0255 , 0.0218 , 0.0118 , 0.     ,\n",
       "       0.0329 , 0.0312 , 0.0249 , 0.0289 , 0.024  , 0.0455 , 0.0278 ,\n",
       "       0.0209 , 0.0253 , 0.0338 , 0.0318 , 0.0342 , 0.0075 , 0.0229 ,\n",
       "       0.0184 , 0.0351 , 0.0366 , 0.0238 , 0.0258 , 0.0227 , 0.021  ,\n",
       "       0.0454 , 0.0339 , 0.0274 , 0.0347 , 0.0204 , 0.0267 , 0.0405 ,\n",
       "       0.0267 , 0.0234 , 0.0142 , 0.     , 0.0346 , 0.0308 , 0.0258 ,\n",
       "       0.0252 , 0.0177 , 0.0431 , 0.0292 , 0.016  , 0.024  , 0.0258 ,\n",
       "       0.0277 , 0.031  , 0.0059 , 0.0234 , 0.0156 , 0.0325 , 0.0327 ,\n",
       "       0.0183 , 0.0212 , 0.0133 , 0.0194 , 0.038  , 0.0316 , 0.0243 ,\n",
       "       0.0357 , 0.0192 , 0.0265 , 0.045  , 0.0254 , 0.024  , 0.0126 ,\n",
       "       0.0183 , 0.02555, 0.0316 , 0.0251 , 0.0315 , 0.0331 , 0.0448 ,\n",
       "       0.0293 , 0.0415 , 0.0361 , 0.0444 , 0.0313 , 0.0325 , 0.0058 ,\n",
       "       0.0221 , 0.0164 , 0.0328 , 0.0354 , 0.0182 , 0.0291 , 0.0184 ,\n",
       "       0.0232 , 0.0396 , 0.03   , 0.0236 , 0.0341 , 0.0237 , 0.0263 ,\n",
       "       0.0817 , 0.0264 , 0.0195 , 0.011  , 0.0306 , 0.0306 ])"
      ]
     },
     "metadata": {},
     "output_type": "display_data"
    }
   ],
   "source": [
    "gasPriceValues = df_work.loc[:, \"GasPrice\"].to_numpy() \n",
    "\n",
    "display( gasPriceValues )"
   ]
  },
  {
   "cell_type": "markdown",
   "id": "3d62531e-8a6a-4a69-8a2f-4e9adb9b8575",
   "metadata": {},
   "source": [
    "## Análisis de la normalidad y homogeneidad de la varianza"
   ]
  },
  {
   "cell_type": "markdown",
   "id": "c1aaa80c-8122-41f6-aa1a-686527115a65",
   "metadata": {},
   "source": [
    "### Normalidad"
   ]
  },
  {
   "cell_type": "markdown",
   "id": "4ca77546-2b81-46d4-a03d-f2017d6e0cbb",
   "metadata": {},
   "source": [
    "#### Análisis gráfico\n",
    "\n",
    "Se crean los gráficos cuartil-cuartil para ver cuanto se aproximan a la normalidad ambas distribuciones"
   ]
  },
  {
   "cell_type": "markdown",
   "id": "295ebb13-9b89-41a3-a761-ba86b7096b97",
   "metadata": {},
   "source": [
    "##### **Precios de la electricidad**"
   ]
  },
  {
   "cell_type": "code",
   "execution_count": 53,
   "id": "a2c5af35-d24e-49be-ac7e-696bd6523c32",
   "metadata": {},
   "outputs": [
    {
     "data": {
      "image/png": "[encoded data removed]",
      "text/plain": [
       "<Figure size 432x288 with 1 Axes>"
      ]
     },
     "metadata": {},
     "output_type": "display_data"
    }
   ],
   "source": [
    "sm.qqplot( electricityPriceValues, line='q' )\n",
    "\n",
    "plt.show()"
   ]
  },
  {
   "cell_type": "markdown",
   "id": "d27b419d-46a0-4173-8859-2a206205b980",
   "metadata": {
    "tags": []
   },
   "source": [
    "Se puede ver que en los valores centrales si que se ajusta a una distribución normal pero no en el resto de la curva."
   ]
  },
  {
   "cell_type": "markdown",
   "id": "3cd57b9c-72c2-4c94-bdb7-8aeaa6d73bb3",
   "metadata": {
    "tags": []
   },
   "source": [
    "##### **Precios del gas**"
   ]
  },
  {
   "cell_type": "code",
   "execution_count": 54,
   "id": "4eb69d09-5cd9-4c13-b4e4-8d10c45a273b",
   "metadata": {},
   "outputs": [
    {
     "data": {
      "image/png": "[encoded data removed]",
      "text/plain": [
       "<Figure size 432x288 with 1 Axes>"
      ]
     },
     "metadata": {},
     "output_type": "display_data"
    }
   ],
   "source": [
    "fig2 = sm.qqplot( gasPriceValues, line='q' )\n",
    "plt.show()"
   ]
  },
  {
   "cell_type": "markdown",
   "id": "8e18fed3-4616-4ba5-9d22-83cba56def83",
   "metadata": {
    "tags": []
   },
   "source": [
    "Aunque menos acusado que el caso de los precios de la electricidad, también se puede ver que en los valores centrales si que se ajusta a una distribución normal pero no en el resto de la curva."
   ]
  },
  {
   "cell_type": "markdown",
   "id": "c44fe9bf-2ef5-464d-bb06-2f6cad5e9cd7",
   "metadata": {
    "tags": []
   },
   "source": [
    "#### Test de Shapiro-Wilk\n",
    "\n",
    "Los valores de los precios de la electricidad son valores continuos por lo que primeros se comprobará la normalidad de ambas muestras gracias al test de  Shapiro-Wilk.\n",
    "\n",
    "El test de Shapiro-Will:\n",
    "\n",
    "> **Hipótesis nula** `H_0`: _La muestra proviene de una población normalmente distribuida_.   \n",
    "  **Hipótesis alternativa** `H_1`: _La muestra **no** proviene de una población normalmente distribuida_\n"
   ]
  },
  {
   "cell_type": "markdown",
   "id": "94aff376-a148-4e20-b0ff-f9e9f0a5392d",
   "metadata": {
    "tags": []
   },
   "source": [
    "##### **Precios de la electricidad**"
   ]
  },
  {
   "cell_type": "code",
   "execution_count": 55,
   "id": "5397a106-19d3-44ee-8825-8948b3fd35d6",
   "metadata": {},
   "outputs": [
    {
     "data": {
      "text/plain": [
       "ShapiroResult(statistic=0.8568865656852722, pvalue=3.429784928288271e-11)"
      ]
     },
     "execution_count": 55,
     "metadata": {},
     "output_type": "execute_result"
    }
   ],
   "source": [
    "stats.shapiro( electricityPriceValues )"
   ]
  },
  {
   "cell_type": "markdown",
   "id": "fc3daa21-e205-42a3-a885-4d6b0212e46f",
   "metadata": {},
   "source": [
    "Al ser el valor `p-value` menor que el nivel de significación `α = 0,05`, podemos **rechazar la hipétesis nula** y concluir que la distribución de los precios de la electricidad doméstica **no** sigue una distribución normal."
   ]
  },
  {
   "cell_type": "markdown",
   "id": "e701e18f-7e19-4b39-89b6-91b0ad906880",
   "metadata": {
    "tags": []
   },
   "source": [
    "##### **Precios del gas**"
   ]
  },
  {
   "cell_type": "code",
   "execution_count": 56,
   "id": "cdb6dd12-9cba-451f-867c-3e3758f913e3",
   "metadata": {},
   "outputs": [
    {
     "data": {
      "text/plain": [
       "ShapiroResult(statistic=0.9196622967720032, pvalue=9.427189695543348e-08)"
      ]
     },
     "execution_count": 56,
     "metadata": {},
     "output_type": "execute_result"
    }
   ],
   "source": [
    "stats.shapiro( gasPriceValues )"
   ]
  },
  {
   "cell_type": "markdown",
   "id": "e295b26c-583f-4c23-a423-dc92ae5aabf8",
   "metadata": {},
   "source": [
    "Igual que en el caso de la electricidad el p-value es menor que el nivel de significación \n",
    "\n",
    "    p-value = 9,427e-08 < α, α = 0,05\n",
    "    \n",
    "por lo que se puede deducir que los precios los precios del gas doméstico **no** siguen un distribución normal."
   ]
  },
  {
   "cell_type": "markdown",
   "id": "5ad025b9-7dec-4e5a-a5e3-89ba81d78edc",
   "metadata": {
    "tags": []
   },
   "source": [
    "### Aplicación Teorema del límite central\n",
    "\n",
    "Este teorema establece que el contraste de hipótesis sobre la media de una muestra se aproxima a una distribución normal aunque la población original no siga una distribución normal, siempre que el tamaño de la muestra n sea suficientemente grande. Por suficientemente grande, se suele contemplar superior a 30 elementos, `n > 30`.\n",
    "\n",
    "Ya que el número de registros es 160 podemos aplicar el teorema del límite central y considerar que la distribución de valores, tanto de la electricidad como del gas doméstico que si **se aproximan a una distribución normal**, aunque por el test de Shapiro no cumplan la normalidad."
   ]
  },
  {
   "cell_type": "markdown",
   "id": "b966740f-995c-46b7-ac62-26bc5c2b1f3d",
   "metadata": {},
   "source": [
    "### Homogeniedad de la varianza"
   ]
  },
  {
   "cell_type": "markdown",
   "id": "984c7f02-eea2-493f-a6ff-a73df408c2fe",
   "metadata": {},
   "source": [
    "Ya que se ambas distribuciones se aproximan a una distribución normal, se utiliza el test de _Levene_ en el que:\n",
    "\n",
    "> **Hipótesis nula**, `H_0`: _Las varianzas de las poblaciones son la mismas._   \n",
    "   **Hipótesis alternativa** `H_1`: _Las varianzas de las poblaciones **no** son la mismas._\n",
    "\n",
    "Un valor por debajo del valor significativo (`α = 0,05`) hace que se rechaze la hipótesis nula y se llege a la conclusión a la conclusión de que existe una diferencia en la varianza de las poblaciones"
   ]
  },
  {
   "cell_type": "code",
   "execution_count": 57,
   "id": "d5bd86b3-9e3c-4eb8-a04e-f0d62b303acc",
   "metadata": {},
   "outputs": [
    {
     "data": {
      "text/plain": [
       "LeveneResult(statistic=36.758905069565806, pvalue=3.7856980926583945e-09)"
      ]
     },
     "execution_count": 57,
     "metadata": {},
     "output_type": "execute_result"
    }
   ],
   "source": [
    "stats.levene( electricityPriceValues, gasPriceValues )"
   ]
  },
  {
   "cell_type": "markdown",
   "id": "0b1b6ad1-bfe6-429e-90bd-1bc985ac05fd",
   "metadata": {
    "tags": []
   },
   "source": [
    "A la vista de los resultados del test de Levene (`pvalue = 1,847e-10`), se rechaza la condición de homocedasticidad, llegando a la conclusión que **las varianzas** entre los precios de la electricidad y gas domesticos **no son las mismas**. Por lo tanto presenta **Heterocedasticidad**."
   ]
  },
  {
   "cell_type": "markdown",
   "id": "c631ea79-4af5-47b5-a355-703db03aac9d",
   "metadata": {},
   "source": [
    "## Aplicación de pruebas estadísticas"
   ]
  },
  {
   "cell_type": "markdown",
   "id": "81b157a7-6689-444f-9517-c6469f1710f2",
   "metadata": {},
   "source": [
    "### Contraste de hipótesis\n",
    "\n",
    "Como contraste de hipótesis se va a comprobar que las distribuciones de los datos de los precios domésticos de la electricidad y el gas son las mismas. Además se tienen los siguientes hechos.\n",
    "\n",
    " - Ambas poblaciones se aproximan a una distribución normal por el teoréma del límite central.\n",
    " - No cumplen la condición de homocedasticidad.\n",
    " - Como se puede deducir del diagrama de dispersión ambas variables son independientes (visualmente los\n",
    "   datos no se ajustan a ningua función).\n",
    " \n",
    "Con estas tres premisas, se realiza un test de Mann-Whitney para comprobar si ambas distribuciones de los datos son la misma.\n",
    " "
   ]
  },
  {
   "cell_type": "markdown",
   "id": "a2def008-d16a-4a6a-8099-1ba3548777fe",
   "metadata": {},
   "source": [
    "#### Test de Mann-Whitney\n",
    "\n",
    "Hipótesis en el test de Mann-Whitney: \n",
    "\n",
    "> **Hipótesis nula**, `H_0`: _Las distribuciones de los precios de la electricidad y del gas doméstico son iguales._   \n",
    "  **Hipótesis alternativa** `H_1`:  _Las distribuciones de los precios de la electricidad y del gas doméstico **no**\n",
    "  son iguales_.\n",
    "  \n",
    "Se ejecuta la función del test con los datos de los precios de la electricidad y del gas"
   ]
  },
  {
   "cell_type": "code",
   "execution_count": 58,
   "id": "d50795e2-5f64-4eed-a6b6-5dfe2e3e839d",
   "metadata": {},
   "outputs": [
    {
     "data": {
      "text/plain": [
       "MannwhitneyuResult(statistic=25308.5, pvalue=1.285091235944736e-51)"
      ]
     },
     "execution_count": 58,
     "metadata": {},
     "output_type": "execute_result"
    }
   ],
   "source": [
    "stats.mannwhitneyu( electricityPriceValues, gasPriceValues )"
   ]
  },
  {
   "cell_type": "markdown",
   "id": "311badcf-f0e6-4d73-9b70-10b1c19a7345",
   "metadata": {},
   "source": [
    "El valor de `p-value` (`1.285e-51` ) **es menor** que el valor de significación `α = 0,05` por lo que se debe rechazar la hipótesis nula y llegar a la conclusión que las distribuciones de los precios de la electricidad y del gas doméstico **no son la misma**"
   ]
  },
  {
   "cell_type": "markdown",
   "id": "1f162565-00bc-4545-9e04-907b1e6ed1d4",
   "metadata": {},
   "source": [
    "### Estudio de la correlación"
   ]
  },
  {
   "cell_type": "markdown",
   "id": "fbbd39c9-8103-4032-80a8-aa093c8f2b42",
   "metadata": {},
   "source": [
    "### Estudio de la regresión"
   ]
  },
  {
   "cell_type": "markdown",
   "id": "0446408d-d645-4c5b-a275-c8e8edc366cb",
   "metadata": {},
   "source": [
    "# Conclusiones\n"
   ]
  }
 ],
 "metadata": {
  "kernelspec": {
   "display_name": "Python 3 (ipykernel)",
   "language": "python",
   "name": "python3"
  },
  "language_info": {
   "codemirror_mode": {
    "name": "ipython",
    "version": 3
   },
   "file_extension": ".py",
   "mimetype": "text/x-python",
   "name": "python",
   "nbconvert_exporter": "python",
   "pygments_lexer": "ipython3",
   "version": "3.9.10"
  }
 },
 "nbformat": 4,
 "nbformat_minor": 5
}
