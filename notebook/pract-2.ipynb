{
 "cells": [
  {
   "cell_type": "markdown",
   "id": "aa302e3a-a1d3-4363-b430-e5ad96c3014b",
   "metadata": {},
   "source": [
    "# [1.] Práctica II\n",
    "\n",
    "Elaborar un caso práctico orientado a aprender a identificar los datos relevantes para un proyecto analítico y usar las herramientas de integración, limpieza, validación y análisis de las mismas.\n"
   ]
  },
  {
   "cell_type": "markdown",
   "id": "86d1008e-ce8c-46ea-8351-2e8669dd0e7c",
   "metadata": {},
   "source": [
    "# [2.] Obtención de los datos"
   ]
  },
  {
   "cell_type": "markdown",
   "id": "dde5d0aa-fc8a-474a-be3b-d43f880afe4a",
   "metadata": {},
   "source": [
    "## [2.1.] Funciones de utilidad"
   ]
  },
  {
   "cell_type": "markdown",
   "id": "88cea510-ac50-4a57-98e4-fdce03b2a053",
   "metadata": {},
   "source": [
    "Importación de las librerías necesarias"
   ]
  },
  {
   "cell_type": "code",
   "execution_count": 1,
   "id": "97025d38-7a40-41c9-8c2e-d25f6db1de07",
   "metadata": {},
   "outputs": [],
   "source": [
    "import seaborn as sns\n",
    "import pandas as pd\n",
    "import numpy as np\n",
    "from scipy import stats\n",
    "from scipy.stats import bartlett\n",
    "from scipy.stats import pearsonr\n",
    "from scipy.stats import levene\n",
    "import matplotlib.pyplot as plt\n",
    "import statsmodels.api as sm"
   ]
  },
  {
   "cell_type": "markdown",
   "id": "e1de4a5f-b120-4b14-92a2-3e34118a11a1",
   "metadata": {},
   "source": [
    "Definición de la ruta base donde se lleerán, escribirán los ficheros."
   ]
  },
  {
   "cell_type": "code",
   "execution_count": 2,
   "id": "54bdbcbd-3660-4ca5-b71c-fd8f5f95697b",
   "metadata": {},
   "outputs": [],
   "source": [
    "def root_path( directory, file_name ):\n",
    "    return '/home/jovyan/work/%s/%s.csv' % (directory, file_name )\n",
    "    "
   ]
  },
  {
   "cell_type": "markdown",
   "id": "9fd56f0c-108e-495b-a7f6-b3a2da3edd46",
   "metadata": {},
   "source": [
    "Función **`export_dataframe`** que permite exportar el dataframe a fichero CSV"
   ]
  },
  {
   "cell_type": "code",
   "execution_count": 3,
   "id": "8a20600f-56ee-47fa-a370-d0e4ba47088b",
   "metadata": {},
   "outputs": [],
   "source": [
    "def export_dataframe( df, file_name, directory ):\n",
    "    file = root_path( directory, file_name )\n",
    "    return df.to_csv( file )\n",
    "    "
   ]
  },
  {
   "cell_type": "markdown",
   "id": "982c3ea7-867e-40cb-ae14-255d5313cac0",
   "metadata": {},
   "source": [
    "Funciones para leer los ficheros que contienen los dataset"
   ]
  },
  {
   "cell_type": "code",
   "execution_count": 4,
   "id": "8857c47c-974f-4625-96a9-f679943da11f",
   "metadata": {},
   "outputs": [],
   "source": [
    "def read_dataframe( file_name, directory ):\n",
    "    file = root_path( directory, file_name )\n",
    "    return pd.read_csv(file )\n",
    "    "
   ]
  },
  {
   "cell_type": "code",
   "execution_count": 5,
   "id": "6cfaaaa5-5082-4c04-aec9-93352e73ae7b",
   "metadata": {},
   "outputs": [],
   "source": [
    "def read_subdataframe( file_name ):\n",
    "    return read_dataframe( \n",
    "        file_name = file_name,\n",
    "        directory = 'subdataset' \n",
    "    ).iloc[ : , 1:]"
   ]
  },
  {
   "cell_type": "markdown",
   "id": "f3b8df46-a6e4-4b22-9b6f-a7f4da8a6b1c",
   "metadata": {
    "tags": []
   },
   "source": [
    "## [2.2.] _DATASET I_: Precio de Gas doméstico en € por kw/h\n",
    "\n",
    "Obtención de los datos del subdataset de los precios del gas doméstico: `data_gas_prices_household_consumers.csv`"
   ]
  },
  {
   "cell_type": "markdown",
   "id": "f83c4c56-3467-46a9-91a4-4e04d839e358",
   "metadata": {},
   "source": [
    "Importación del subdataframe"
   ]
  },
  {
   "cell_type": "code",
   "execution_count": 6,
   "id": "4d987e1b-f6ad-407a-856d-ad63cd68ab15",
   "metadata": {},
   "outputs": [],
   "source": [
    "data_gas_prices_household_consumers = read_subdataframe(\n",
    "    file_name = 'data_gas_prices_household_consumers'\n",
    ")"
   ]
  },
  {
   "cell_type": "markdown",
   "id": "5a350de2-4df0-4e1b-8447-9227bc66c5ce",
   "metadata": {},
   "source": [
    "Columnas del dataset:"
   ]
  },
  {
   "cell_type": "code",
   "execution_count": 7,
   "id": "ad8f65ca-56fa-43c3-9f4c-2929e2088f98",
   "metadata": {},
   "outputs": [
    {
     "data": {
      "text/plain": [
       "country          object\n",
       "country_name     object\n",
       "2017            float64\n",
       "2018            float64\n",
       "2019            float64\n",
       "2020            float64\n",
       "2021            float64\n",
       "dtype: object"
      ]
     },
     "metadata": {},
     "output_type": "display_data"
    }
   ],
   "source": [
    "display( data_gas_prices_household_consumers.dtypes )"
   ]
  },
  {
   "cell_type": "markdown",
   "id": "47339e34-646d-4454-8b89-cf15125dacde",
   "metadata": {},
   "source": [
    "Se muestran los 10 primeros valores:"
   ]
  },
  {
   "cell_type": "code",
   "execution_count": 8,
   "id": "220ae3c9-c4bc-41b2-a279-da9784849327",
   "metadata": {},
   "outputs": [
    {
     "data": {
      "text/html": [
       "<div>\n",
       "<style scoped>\n",
       "    .dataframe tbody tr th:only-of-type {\n",
       "        vertical-align: middle;\n",
       "    }\n",
       "\n",
       "    .dataframe tbody tr th {\n",
       "        vertical-align: top;\n",
       "    }\n",
       "\n",
       "    .dataframe thead th {\n",
       "        text-align: right;\n",
       "    }\n",
       "</style>\n",
       "<table border=\"1\" class=\"dataframe\">\n",
       "  <thead>\n",
       "    <tr style=\"text-align: right;\">\n",
       "      <th></th>\n",
       "      <th>country</th>\n",
       "      <th>country_name</th>\n",
       "      <th>2017</th>\n",
       "      <th>2018</th>\n",
       "      <th>2019</th>\n",
       "      <th>2020</th>\n",
       "      <th>2021</th>\n",
       "    </tr>\n",
       "  </thead>\n",
       "  <tbody>\n",
       "    <tr>\n",
       "      <th>0</th>\n",
       "      <td>AT</td>\n",
       "      <td>Austria</td>\n",
       "      <td>0.0299</td>\n",
       "      <td>0.0304</td>\n",
       "      <td>0.0312</td>\n",
       "      <td>0.0308</td>\n",
       "      <td>0.0316</td>\n",
       "    </tr>\n",
       "    <tr>\n",
       "      <th>1</th>\n",
       "      <td>BA</td>\n",
       "      <td>Bosnia and Herzegovina</td>\n",
       "      <td>0.0240</td>\n",
       "      <td>0.0240</td>\n",
       "      <td>0.0249</td>\n",
       "      <td>0.0258</td>\n",
       "      <td>0.0251</td>\n",
       "    </tr>\n",
       "    <tr>\n",
       "      <th>2</th>\n",
       "      <td>BE</td>\n",
       "      <td>Belgium</td>\n",
       "      <td>0.0283</td>\n",
       "      <td>0.0288</td>\n",
       "      <td>0.0289</td>\n",
       "      <td>0.0252</td>\n",
       "      <td>0.0315</td>\n",
       "    </tr>\n",
       "    <tr>\n",
       "      <th>3</th>\n",
       "      <td>BG</td>\n",
       "      <td>Bulgaria</td>\n",
       "      <td>0.0170</td>\n",
       "      <td>0.0209</td>\n",
       "      <td>0.0240</td>\n",
       "      <td>0.0177</td>\n",
       "      <td>0.0331</td>\n",
       "    </tr>\n",
       "    <tr>\n",
       "      <th>4</th>\n",
       "      <td>CZ</td>\n",
       "      <td>Czechia</td>\n",
       "      <td>0.0360</td>\n",
       "      <td>0.0390</td>\n",
       "      <td>0.0455</td>\n",
       "      <td>0.0431</td>\n",
       "      <td>0.0448</td>\n",
       "    </tr>\n",
       "    <tr>\n",
       "      <th>5</th>\n",
       "      <td>DE</td>\n",
       "      <td>Germany (until 1990 former territory of the FRG)</td>\n",
       "      <td>NaN</td>\n",
       "      <td>NaN</td>\n",
       "      <td>0.0278</td>\n",
       "      <td>0.0292</td>\n",
       "      <td>0.0293</td>\n",
       "    </tr>\n",
       "    <tr>\n",
       "      <th>6</th>\n",
       "      <td>DK</td>\n",
       "      <td>Denmark</td>\n",
       "      <td>0.0234</td>\n",
       "      <td>0.0259</td>\n",
       "      <td>0.0209</td>\n",
       "      <td>0.0160</td>\n",
       "      <td>0.0415</td>\n",
       "    </tr>\n",
       "    <tr>\n",
       "      <th>7</th>\n",
       "      <td>EA</td>\n",
       "      <td>Euro area (EA11-1999, EA12-2001, EA13-2007, EA...</td>\n",
       "      <td>0.0295</td>\n",
       "      <td>0.0303</td>\n",
       "      <td>0.0319</td>\n",
       "      <td>0.0302</td>\n",
       "      <td>0.0315</td>\n",
       "    </tr>\n",
       "    <tr>\n",
       "      <th>8</th>\n",
       "      <td>EE</td>\n",
       "      <td>Estonia</td>\n",
       "      <td>0.0234</td>\n",
       "      <td>0.0239</td>\n",
       "      <td>0.0253</td>\n",
       "      <td>0.0240</td>\n",
       "      <td>0.0361</td>\n",
       "    </tr>\n",
       "    <tr>\n",
       "      <th>9</th>\n",
       "      <td>EL</td>\n",
       "      <td>Greece</td>\n",
       "      <td>NaN</td>\n",
       "      <td>0.0311</td>\n",
       "      <td>0.0338</td>\n",
       "      <td>0.0258</td>\n",
       "      <td>0.0444</td>\n",
       "    </tr>\n",
       "  </tbody>\n",
       "</table>\n",
       "</div>"
      ],
      "text/plain": [
       "  country                                       country_name    2017    2018  \\\n",
       "0      AT                                            Austria  0.0299  0.0304   \n",
       "1      BA                             Bosnia and Herzegovina  0.0240  0.0240   \n",
       "2      BE                                            Belgium  0.0283  0.0288   \n",
       "3      BG                                           Bulgaria  0.0170  0.0209   \n",
       "4      CZ                                            Czechia  0.0360  0.0390   \n",
       "5      DE   Germany (until 1990 former territory of the FRG)     NaN     NaN   \n",
       "6      DK                                            Denmark  0.0234  0.0259   \n",
       "7      EA  Euro area (EA11-1999, EA12-2001, EA13-2007, EA...  0.0295  0.0303   \n",
       "8      EE                                            Estonia  0.0234  0.0239   \n",
       "9      EL                                             Greece     NaN  0.0311   \n",
       "\n",
       "     2019    2020    2021  \n",
       "0  0.0312  0.0308  0.0316  \n",
       "1  0.0249  0.0258  0.0251  \n",
       "2  0.0289  0.0252  0.0315  \n",
       "3  0.0240  0.0177  0.0331  \n",
       "4  0.0455  0.0431  0.0448  \n",
       "5  0.0278  0.0292  0.0293  \n",
       "6  0.0209  0.0160  0.0415  \n",
       "7  0.0319  0.0302  0.0315  \n",
       "8  0.0253  0.0240  0.0361  \n",
       "9  0.0338  0.0258  0.0444  "
      ]
     },
     "execution_count": 8,
     "metadata": {},
     "output_type": "execute_result"
    }
   ],
   "source": [
    "data_gas_prices_household_consumers.head( 10 )"
   ]
  },
  {
   "cell_type": "markdown",
   "id": "1d3f844c-14b1-415a-9244-223d4380ebfd",
   "metadata": {
    "tags": []
   },
   "source": [
    "## [2.3.] _DATASET II_: Precio de Gas no doméstico en € por kw/h\n",
    "\n",
    "Obtención de los datos del subdataset de los precios del gas no doméstico: `data_gas_prices_no_household_consumers.csv`"
   ]
  },
  {
   "cell_type": "markdown",
   "id": "85d344f4-d047-4848-b4f1-9550f7070a81",
   "metadata": {},
   "source": [
    "Importación del subdataframe"
   ]
  },
  {
   "cell_type": "code",
   "execution_count": 9,
   "id": "f8916245-7df8-4420-a7e8-15658dcd3ea2",
   "metadata": {},
   "outputs": [],
   "source": [
    "data_gas_prices_no_household_consumers = read_subdataframe(\n",
    "    file_name = 'data_gas_prices_no_household_consumers'\n",
    ")"
   ]
  },
  {
   "cell_type": "markdown",
   "id": "2e54d790-40a9-4dcc-a27f-79e7a4d9fd86",
   "metadata": {},
   "source": [
    "Columnas del dataset:"
   ]
  },
  {
   "cell_type": "code",
   "execution_count": 10,
   "id": "30899333-ecca-46fb-aca4-e80635f19792",
   "metadata": {},
   "outputs": [
    {
     "data": {
      "text/plain": [
       "country          object\n",
       "country_name     object\n",
       "2017            float64\n",
       "2018            float64\n",
       "2019            float64\n",
       "2020            float64\n",
       "2021            float64\n",
       "dtype: object"
      ]
     },
     "metadata": {},
     "output_type": "display_data"
    }
   ],
   "source": [
    "display( data_gas_prices_no_household_consumers.dtypes )"
   ]
  },
  {
   "cell_type": "markdown",
   "id": "aaf54e7e-37a1-4605-9822-36edcd0619c3",
   "metadata": {},
   "source": [
    "Se muestran los 10 primeros valores:"
   ]
  },
  {
   "cell_type": "code",
   "execution_count": 11,
   "id": "8866b95c-3630-4882-bbb0-670c78068f11",
   "metadata": {
    "tags": []
   },
   "outputs": [
    {
     "data": {
      "text/html": [
       "<div>\n",
       "<style scoped>\n",
       "    .dataframe tbody tr th:only-of-type {\n",
       "        vertical-align: middle;\n",
       "    }\n",
       "\n",
       "    .dataframe tbody tr th {\n",
       "        vertical-align: top;\n",
       "    }\n",
       "\n",
       "    .dataframe thead th {\n",
       "        text-align: right;\n",
       "    }\n",
       "</style>\n",
       "<table border=\"1\" class=\"dataframe\">\n",
       "  <thead>\n",
       "    <tr style=\"text-align: right;\">\n",
       "      <th></th>\n",
       "      <th>country</th>\n",
       "      <th>country_name</th>\n",
       "      <th>2017</th>\n",
       "      <th>2018</th>\n",
       "      <th>2019</th>\n",
       "      <th>2020</th>\n",
       "      <th>2021</th>\n",
       "    </tr>\n",
       "  </thead>\n",
       "  <tbody>\n",
       "    <tr>\n",
       "      <th>0</th>\n",
       "      <td>AT</td>\n",
       "      <td>Austria</td>\n",
       "      <td>NaN</td>\n",
       "      <td>NaN</td>\n",
       "      <td>0.0184</td>\n",
       "      <td>0.0168</td>\n",
       "      <td>0.0297</td>\n",
       "    </tr>\n",
       "    <tr>\n",
       "      <th>1</th>\n",
       "      <td>BA</td>\n",
       "      <td>Bosnia and Herzegovina</td>\n",
       "      <td>NaN</td>\n",
       "      <td>NaN</td>\n",
       "      <td>0.0257</td>\n",
       "      <td>0.0259</td>\n",
       "      <td>0.0248</td>\n",
       "    </tr>\n",
       "    <tr>\n",
       "      <th>2</th>\n",
       "      <td>BE</td>\n",
       "      <td>Belgium</td>\n",
       "      <td>NaN</td>\n",
       "      <td>NaN</td>\n",
       "      <td>0.0189</td>\n",
       "      <td>0.0148</td>\n",
       "      <td>0.0318</td>\n",
       "    </tr>\n",
       "    <tr>\n",
       "      <th>3</th>\n",
       "      <td>BG</td>\n",
       "      <td>Bulgaria</td>\n",
       "      <td>NaN</td>\n",
       "      <td>NaN</td>\n",
       "      <td>0.0213</td>\n",
       "      <td>0.0142</td>\n",
       "      <td>0.0299</td>\n",
       "    </tr>\n",
       "    <tr>\n",
       "      <th>4</th>\n",
       "      <td>CZ</td>\n",
       "      <td>Czechia</td>\n",
       "      <td>NaN</td>\n",
       "      <td>NaN</td>\n",
       "      <td>0.0226</td>\n",
       "      <td>0.0192</td>\n",
       "      <td>0.0259</td>\n",
       "    </tr>\n",
       "    <tr>\n",
       "      <th>5</th>\n",
       "      <td>DE</td>\n",
       "      <td>Germany (until 1990 former territory of the FRG)</td>\n",
       "      <td>NaN</td>\n",
       "      <td>NaN</td>\n",
       "      <td>0.0196</td>\n",
       "      <td>0.0171</td>\n",
       "      <td>0.0262</td>\n",
       "    </tr>\n",
       "    <tr>\n",
       "      <th>6</th>\n",
       "      <td>DK</td>\n",
       "      <td>Denmark</td>\n",
       "      <td>0.0194</td>\n",
       "      <td>0.0234</td>\n",
       "      <td>0.0178</td>\n",
       "      <td>0.0137</td>\n",
       "      <td>0.0448</td>\n",
       "    </tr>\n",
       "    <tr>\n",
       "      <th>7</th>\n",
       "      <td>EA</td>\n",
       "      <td>Euro area (EA11-1999, EA12-2001, EA13-2007, EA...</td>\n",
       "      <td>0.0220</td>\n",
       "      <td>0.0240</td>\n",
       "      <td>0.0211</td>\n",
       "      <td>0.0175</td>\n",
       "      <td>0.0278</td>\n",
       "    </tr>\n",
       "    <tr>\n",
       "      <th>8</th>\n",
       "      <td>EE</td>\n",
       "      <td>Estonia</td>\n",
       "      <td>NaN</td>\n",
       "      <td>NaN</td>\n",
       "      <td>0.0213</td>\n",
       "      <td>0.0155</td>\n",
       "      <td>0.0352</td>\n",
       "    </tr>\n",
       "    <tr>\n",
       "      <th>9</th>\n",
       "      <td>EL</td>\n",
       "      <td>Greece</td>\n",
       "      <td>NaN</td>\n",
       "      <td>NaN</td>\n",
       "      <td>0.0260</td>\n",
       "      <td>0.0165</td>\n",
       "      <td>0.0337</td>\n",
       "    </tr>\n",
       "  </tbody>\n",
       "</table>\n",
       "</div>"
      ],
      "text/plain": [
       "  country                                       country_name    2017    2018  \\\n",
       "0      AT                                            Austria     NaN     NaN   \n",
       "1      BA                             Bosnia and Herzegovina     NaN     NaN   \n",
       "2      BE                                            Belgium     NaN     NaN   \n",
       "3      BG                                           Bulgaria     NaN     NaN   \n",
       "4      CZ                                            Czechia     NaN     NaN   \n",
       "5      DE   Germany (until 1990 former territory of the FRG)     NaN     NaN   \n",
       "6      DK                                            Denmark  0.0194  0.0234   \n",
       "7      EA  Euro area (EA11-1999, EA12-2001, EA13-2007, EA...  0.0220  0.0240   \n",
       "8      EE                                            Estonia     NaN     NaN   \n",
       "9      EL                                             Greece     NaN     NaN   \n",
       "\n",
       "     2019    2020    2021  \n",
       "0  0.0184  0.0168  0.0297  \n",
       "1  0.0257  0.0259  0.0248  \n",
       "2  0.0189  0.0148  0.0318  \n",
       "3  0.0213  0.0142  0.0299  \n",
       "4  0.0226  0.0192  0.0259  \n",
       "5  0.0196  0.0171  0.0262  \n",
       "6  0.0178  0.0137  0.0448  \n",
       "7  0.0211  0.0175  0.0278  \n",
       "8  0.0213  0.0155  0.0352  \n",
       "9  0.0260  0.0165  0.0337  "
      ]
     },
     "execution_count": 11,
     "metadata": {},
     "output_type": "execute_result"
    }
   ],
   "source": [
    "data_gas_prices_no_household_consumers.head( 10 )"
   ]
  },
  {
   "cell_type": "markdown",
   "id": "816fc333-0986-45bf-b116-d78a8799bb67",
   "metadata": {
    "tags": []
   },
   "source": [
    "## [2.4.] _DATASET III_: Precio de la electricidad doméstica para la franja de 2.500 a 4.999 kWh\n",
    "\n",
    "Obtención de los datos del subdataset del precio de la electricidad doméstica para la franja de 2.500 a 4.999 kWh `data_electricity_prices_household_consumers.csv`\n"
   ]
  },
  {
   "cell_type": "markdown",
   "id": "b260f3e9-e81e-4dae-9a45-acfac1667a65",
   "metadata": {},
   "source": [
    "Importación del subdataframe"
   ]
  },
  {
   "cell_type": "code",
   "execution_count": 12,
   "id": "7eb66b98-ae6f-4be6-ab85-3fa35a4bb8b0",
   "metadata": {},
   "outputs": [],
   "source": [
    "data_electricity_prices_household_consumers = read_subdataframe(\n",
    "    file_name = 'data_electricity_prices_household_consumers'\n",
    ")"
   ]
  },
  {
   "cell_type": "markdown",
   "id": "a00a3802-d878-4f24-8d41-5a7034bc1326",
   "metadata": {},
   "source": [
    "Columnas del dataset:"
   ]
  },
  {
   "cell_type": "code",
   "execution_count": 13,
   "id": "bfe6451b-2738-48fb-92c1-106d929ff8ff",
   "metadata": {},
   "outputs": [
    {
     "data": {
      "text/plain": [
       "country          object\n",
       "country_name     object\n",
       "2012-S2         float64\n",
       "2013-S2         float64\n",
       "2014-S2         float64\n",
       "2015-S2         float64\n",
       "2016-S2         float64\n",
       "2017            float64\n",
       "2018            float64\n",
       "2019            float64\n",
       "2020            float64\n",
       "2021            float64\n",
       "dtype: object"
      ]
     },
     "metadata": {},
     "output_type": "display_data"
    }
   ],
   "source": [
    "display( data_electricity_prices_household_consumers.dtypes )"
   ]
  },
  {
   "cell_type": "markdown",
   "id": "5ad87b51-3aba-46c0-bd1f-2c8235bb7085",
   "metadata": {},
   "source": [
    "Se muestran los 10 primeros valores:"
   ]
  },
  {
   "cell_type": "code",
   "execution_count": 14,
   "id": "5b5acd6e-6fea-4ff1-96ee-fdfda02f1544",
   "metadata": {},
   "outputs": [
    {
     "data": {
      "text/html": [
       "<div>\n",
       "<style scoped>\n",
       "    .dataframe tbody tr th:only-of-type {\n",
       "        vertical-align: middle;\n",
       "    }\n",
       "\n",
       "    .dataframe tbody tr th {\n",
       "        vertical-align: top;\n",
       "    }\n",
       "\n",
       "    .dataframe thead th {\n",
       "        text-align: right;\n",
       "    }\n",
       "</style>\n",
       "<table border=\"1\" class=\"dataframe\">\n",
       "  <thead>\n",
       "    <tr style=\"text-align: right;\">\n",
       "      <th></th>\n",
       "      <th>country</th>\n",
       "      <th>country_name</th>\n",
       "      <th>2012-S2</th>\n",
       "      <th>2013-S2</th>\n",
       "      <th>2014-S2</th>\n",
       "      <th>2015-S2</th>\n",
       "      <th>2016-S2</th>\n",
       "      <th>2017</th>\n",
       "      <th>2018</th>\n",
       "      <th>2019</th>\n",
       "      <th>2020</th>\n",
       "      <th>2021</th>\n",
       "    </tr>\n",
       "  </thead>\n",
       "  <tbody>\n",
       "    <tr>\n",
       "      <th>0</th>\n",
       "      <td>AL</td>\n",
       "      <td>Albania</td>\n",
       "      <td>NaN</td>\n",
       "      <td>NaN</td>\n",
       "      <td>NaN</td>\n",
       "      <td>NaN</td>\n",
       "      <td>NaN</td>\n",
       "      <td>0.0713</td>\n",
       "      <td>0.0759</td>\n",
       "      <td>0.0778</td>\n",
       "      <td>NaN</td>\n",
       "      <td>0.0781</td>\n",
       "    </tr>\n",
       "    <tr>\n",
       "      <th>1</th>\n",
       "      <td>AT</td>\n",
       "      <td>Austria</td>\n",
       "      <td>NaN</td>\n",
       "      <td>NaN</td>\n",
       "      <td>NaN</td>\n",
       "      <td>NaN</td>\n",
       "      <td>NaN</td>\n",
       "      <td>0.0613</td>\n",
       "      <td>0.0623</td>\n",
       "      <td>0.0687</td>\n",
       "      <td>0.0732</td>\n",
       "      <td>0.0745</td>\n",
       "    </tr>\n",
       "    <tr>\n",
       "      <th>2</th>\n",
       "      <td>BA</td>\n",
       "      <td>Bosnia and Herzegovina</td>\n",
       "      <td>NaN</td>\n",
       "      <td>NaN</td>\n",
       "      <td>NaN</td>\n",
       "      <td>NaN</td>\n",
       "      <td>NaN</td>\n",
       "      <td>0.0342</td>\n",
       "      <td>0.0338</td>\n",
       "      <td>0.0361</td>\n",
       "      <td>0.0365</td>\n",
       "      <td>NaN</td>\n",
       "    </tr>\n",
       "    <tr>\n",
       "      <th>3</th>\n",
       "      <td>BE</td>\n",
       "      <td>Belgium</td>\n",
       "      <td>NaN</td>\n",
       "      <td>NaN</td>\n",
       "      <td>NaN</td>\n",
       "      <td>NaN</td>\n",
       "      <td>NaN</td>\n",
       "      <td>0.0735</td>\n",
       "      <td>0.0808</td>\n",
       "      <td>0.0859</td>\n",
       "      <td>0.0786</td>\n",
       "      <td>0.0844</td>\n",
       "    </tr>\n",
       "    <tr>\n",
       "      <th>4</th>\n",
       "      <td>BG</td>\n",
       "      <td>Bulgaria</td>\n",
       "      <td>NaN</td>\n",
       "      <td>NaN</td>\n",
       "      <td>NaN</td>\n",
       "      <td>NaN</td>\n",
       "      <td>NaN</td>\n",
       "      <td>0.0575</td>\n",
       "      <td>0.0585</td>\n",
       "      <td>0.0558</td>\n",
       "      <td>0.0560</td>\n",
       "      <td>0.0608</td>\n",
       "    </tr>\n",
       "    <tr>\n",
       "      <th>5</th>\n",
       "      <td>CY</td>\n",
       "      <td>Cyprus</td>\n",
       "      <td>NaN</td>\n",
       "      <td>NaN</td>\n",
       "      <td>NaN</td>\n",
       "      <td>NaN</td>\n",
       "      <td>NaN</td>\n",
       "      <td>0.1036</td>\n",
       "      <td>0.1157</td>\n",
       "      <td>0.1241</td>\n",
       "      <td>0.1042</td>\n",
       "      <td>0.1094</td>\n",
       "    </tr>\n",
       "    <tr>\n",
       "      <th>6</th>\n",
       "      <td>CZ</td>\n",
       "      <td>Czechia</td>\n",
       "      <td>NaN</td>\n",
       "      <td>NaN</td>\n",
       "      <td>NaN</td>\n",
       "      <td>NaN</td>\n",
       "      <td>NaN</td>\n",
       "      <td>0.0541</td>\n",
       "      <td>0.0570</td>\n",
       "      <td>0.0690</td>\n",
       "      <td>0.0749</td>\n",
       "      <td>0.0979</td>\n",
       "    </tr>\n",
       "    <tr>\n",
       "      <th>7</th>\n",
       "      <td>DE</td>\n",
       "      <td>Germany (until 1990 former territory of the FRG)</td>\n",
       "      <td>NaN</td>\n",
       "      <td>NaN</td>\n",
       "      <td>NaN</td>\n",
       "      <td>NaN</td>\n",
       "      <td>NaN</td>\n",
       "      <td>0.0686</td>\n",
       "      <td>0.0622</td>\n",
       "      <td>0.0581</td>\n",
       "      <td>0.0574</td>\n",
       "      <td>0.0803</td>\n",
       "    </tr>\n",
       "    <tr>\n",
       "      <th>8</th>\n",
       "      <td>DK</td>\n",
       "      <td>Denmark</td>\n",
       "      <td>NaN</td>\n",
       "      <td>NaN</td>\n",
       "      <td>NaN</td>\n",
       "      <td>NaN</td>\n",
       "      <td>NaN</td>\n",
       "      <td>0.0388</td>\n",
       "      <td>0.0503</td>\n",
       "      <td>0.0539</td>\n",
       "      <td>0.0409</td>\n",
       "      <td>0.0747</td>\n",
       "    </tr>\n",
       "    <tr>\n",
       "      <th>9</th>\n",
       "      <td>EA</td>\n",
       "      <td>Euro area (EA11-1999, EA12-2001, EA13-2007, EA...</td>\n",
       "      <td>NaN</td>\n",
       "      <td>NaN</td>\n",
       "      <td>NaN</td>\n",
       "      <td>NaN</td>\n",
       "      <td>NaN</td>\n",
       "      <td>0.0760</td>\n",
       "      <td>0.0801</td>\n",
       "      <td>0.0727</td>\n",
       "      <td>0.0697</td>\n",
       "      <td>0.0898</td>\n",
       "    </tr>\n",
       "  </tbody>\n",
       "</table>\n",
       "</div>"
      ],
      "text/plain": [
       "  country                                       country_name  2012-S2  \\\n",
       "0      AL                                            Albania      NaN   \n",
       "1      AT                                            Austria      NaN   \n",
       "2      BA                             Bosnia and Herzegovina      NaN   \n",
       "3      BE                                            Belgium      NaN   \n",
       "4      BG                                           Bulgaria      NaN   \n",
       "5      CY                                             Cyprus      NaN   \n",
       "6      CZ                                            Czechia      NaN   \n",
       "7      DE   Germany (until 1990 former territory of the FRG)      NaN   \n",
       "8      DK                                            Denmark      NaN   \n",
       "9      EA  Euro area (EA11-1999, EA12-2001, EA13-2007, EA...      NaN   \n",
       "\n",
       "   2013-S2  2014-S2  2015-S2  2016-S2    2017    2018    2019    2020    2021  \n",
       "0      NaN      NaN      NaN      NaN  0.0713  0.0759  0.0778     NaN  0.0781  \n",
       "1      NaN      NaN      NaN      NaN  0.0613  0.0623  0.0687  0.0732  0.0745  \n",
       "2      NaN      NaN      NaN      NaN  0.0342  0.0338  0.0361  0.0365     NaN  \n",
       "3      NaN      NaN      NaN      NaN  0.0735  0.0808  0.0859  0.0786  0.0844  \n",
       "4      NaN      NaN      NaN      NaN  0.0575  0.0585  0.0558  0.0560  0.0608  \n",
       "5      NaN      NaN      NaN      NaN  0.1036  0.1157  0.1241  0.1042  0.1094  \n",
       "6      NaN      NaN      NaN      NaN  0.0541  0.0570  0.0690  0.0749  0.0979  \n",
       "7      NaN      NaN      NaN      NaN  0.0686  0.0622  0.0581  0.0574  0.0803  \n",
       "8      NaN      NaN      NaN      NaN  0.0388  0.0503  0.0539  0.0409  0.0747  \n",
       "9      NaN      NaN      NaN      NaN  0.0760  0.0801  0.0727  0.0697  0.0898  "
      ]
     },
     "execution_count": 14,
     "metadata": {},
     "output_type": "execute_result"
    }
   ],
   "source": [
    "data_electricity_prices_household_consumers.head(10)"
   ]
  },
  {
   "cell_type": "markdown",
   "id": "4e123d2f-31b5-450d-a57a-715180972605",
   "metadata": {
    "tags": []
   },
   "source": [
    "## [2.5.] _DATASET IV_: Precio de la electricidad no doméstica\n",
    "\n",
    "OObtención de los datos del subdataset del precio de la electricidad no doméstica `data_electricity_prices_no_household_consumers.csv`"
   ]
  },
  {
   "cell_type": "markdown",
   "id": "f5183f9e-1f01-4806-adcc-f44642524158",
   "metadata": {},
   "source": [
    "Importación del subdataframe"
   ]
  },
  {
   "cell_type": "code",
   "execution_count": 15,
   "id": "93677943-0c5a-4e32-b48a-ad61537184f8",
   "metadata": {},
   "outputs": [],
   "source": [
    "data_electricity_prices_no_household_consumers = read_subdataframe(\n",
    "    file_name = 'data_electricity_prices_no_household_consumers'\n",
    ")"
   ]
  },
  {
   "cell_type": "markdown",
   "id": "8784320a-4fa6-404f-b954-28f91988646f",
   "metadata": {},
   "source": [
    "Columnas del dataset:"
   ]
  },
  {
   "cell_type": "code",
   "execution_count": 16,
   "id": "0a3ff9cb-bbba-4133-9270-60375f69c9b0",
   "metadata": {},
   "outputs": [
    {
     "data": {
      "text/plain": [
       "country          object\n",
       "country_name     object\n",
       "2007-S2         float64\n",
       "2008-S2         float64\n",
       "2009-S2         float64\n",
       "2010-S2         float64\n",
       "2011-S2         float64\n",
       "2012-S2         float64\n",
       "2013-S2         float64\n",
       "2014-S2         float64\n",
       "2015-S2         float64\n",
       "2016-S2         float64\n",
       "2017            float64\n",
       "2018            float64\n",
       "2019            float64\n",
       "2020            float64\n",
       "2021            float64\n",
       "dtype: object"
      ]
     },
     "metadata": {},
     "output_type": "display_data"
    }
   ],
   "source": [
    "display( data_electricity_prices_no_household_consumers.dtypes )"
   ]
  },
  {
   "cell_type": "markdown",
   "id": "3e008031-51a4-4edb-a7fb-3a2c151446f3",
   "metadata": {},
   "source": [
    "Se muestran los 10 primeros valores:"
   ]
  },
  {
   "cell_type": "code",
   "execution_count": 17,
   "id": "7cf36e9e-5a00-48fc-8f57-1c39de51ec93",
   "metadata": {
    "tags": []
   },
   "outputs": [
    {
     "data": {
      "text/html": [
       "<div>\n",
       "<style scoped>\n",
       "    .dataframe tbody tr th:only-of-type {\n",
       "        vertical-align: middle;\n",
       "    }\n",
       "\n",
       "    .dataframe tbody tr th {\n",
       "        vertical-align: top;\n",
       "    }\n",
       "\n",
       "    .dataframe thead th {\n",
       "        text-align: right;\n",
       "    }\n",
       "</style>\n",
       "<table border=\"1\" class=\"dataframe\">\n",
       "  <thead>\n",
       "    <tr style=\"text-align: right;\">\n",
       "      <th></th>\n",
       "      <th>country</th>\n",
       "      <th>country_name</th>\n",
       "      <th>2007-S2</th>\n",
       "      <th>2008-S2</th>\n",
       "      <th>2009-S2</th>\n",
       "      <th>2010-S2</th>\n",
       "      <th>2011-S2</th>\n",
       "      <th>2012-S2</th>\n",
       "      <th>2013-S2</th>\n",
       "      <th>2014-S2</th>\n",
       "      <th>2015-S2</th>\n",
       "      <th>2016-S2</th>\n",
       "      <th>2017</th>\n",
       "      <th>2018</th>\n",
       "      <th>2019</th>\n",
       "      <th>2020</th>\n",
       "      <th>2021</th>\n",
       "    </tr>\n",
       "  </thead>\n",
       "  <tbody>\n",
       "    <tr>\n",
       "      <th>0</th>\n",
       "      <td>AT</td>\n",
       "      <td>Austria</td>\n",
       "      <td>NaN</td>\n",
       "      <td>NaN</td>\n",
       "      <td>NaN</td>\n",
       "      <td>NaN</td>\n",
       "      <td>NaN</td>\n",
       "      <td>NaN</td>\n",
       "      <td>NaN</td>\n",
       "      <td>NaN</td>\n",
       "      <td>NaN</td>\n",
       "      <td>NaN</td>\n",
       "      <td>0.0598</td>\n",
       "      <td>0.0610</td>\n",
       "      <td>0.0654</td>\n",
       "      <td>0.0702</td>\n",
       "      <td>0.0723</td>\n",
       "    </tr>\n",
       "    <tr>\n",
       "      <th>1</th>\n",
       "      <td>BA</td>\n",
       "      <td>Bosnia and Herzegovina</td>\n",
       "      <td>NaN</td>\n",
       "      <td>NaN</td>\n",
       "      <td>NaN</td>\n",
       "      <td>NaN</td>\n",
       "      <td>NaN</td>\n",
       "      <td>NaN</td>\n",
       "      <td>NaN</td>\n",
       "      <td>NaN</td>\n",
       "      <td>NaN</td>\n",
       "      <td>NaN</td>\n",
       "      <td>0.0649</td>\n",
       "      <td>0.0621</td>\n",
       "      <td>0.0624</td>\n",
       "      <td>0.0648</td>\n",
       "      <td>NaN</td>\n",
       "    </tr>\n",
       "    <tr>\n",
       "      <th>2</th>\n",
       "      <td>BE</td>\n",
       "      <td>Belgium</td>\n",
       "      <td>NaN</td>\n",
       "      <td>NaN</td>\n",
       "      <td>NaN</td>\n",
       "      <td>NaN</td>\n",
       "      <td>NaN</td>\n",
       "      <td>NaN</td>\n",
       "      <td>NaN</td>\n",
       "      <td>NaN</td>\n",
       "      <td>NaN</td>\n",
       "      <td>NaN</td>\n",
       "      <td>0.0672</td>\n",
       "      <td>0.0624</td>\n",
       "      <td>0.0663</td>\n",
       "      <td>0.0745</td>\n",
       "      <td>0.0890</td>\n",
       "    </tr>\n",
       "    <tr>\n",
       "      <th>3</th>\n",
       "      <td>BG</td>\n",
       "      <td>Bulgaria</td>\n",
       "      <td>NaN</td>\n",
       "      <td>NaN</td>\n",
       "      <td>NaN</td>\n",
       "      <td>NaN</td>\n",
       "      <td>NaN</td>\n",
       "      <td>NaN</td>\n",
       "      <td>NaN</td>\n",
       "      <td>NaN</td>\n",
       "      <td>NaN</td>\n",
       "      <td>NaN</td>\n",
       "      <td>0.0817</td>\n",
       "      <td>0.0810</td>\n",
       "      <td>0.0764</td>\n",
       "      <td>0.0730</td>\n",
       "      <td>0.1075</td>\n",
       "    </tr>\n",
       "    <tr>\n",
       "      <th>4</th>\n",
       "      <td>CY</td>\n",
       "      <td>Cyprus</td>\n",
       "      <td>NaN</td>\n",
       "      <td>NaN</td>\n",
       "      <td>NaN</td>\n",
       "      <td>NaN</td>\n",
       "      <td>NaN</td>\n",
       "      <td>NaN</td>\n",
       "      <td>NaN</td>\n",
       "      <td>NaN</td>\n",
       "      <td>NaN</td>\n",
       "      <td>NaN</td>\n",
       "      <td>0.1187</td>\n",
       "      <td>0.1240</td>\n",
       "      <td>0.1271</td>\n",
       "      <td>0.1055</td>\n",
       "      <td>0.1136</td>\n",
       "    </tr>\n",
       "    <tr>\n",
       "      <th>5</th>\n",
       "      <td>CZ</td>\n",
       "      <td>Czechia</td>\n",
       "      <td>NaN</td>\n",
       "      <td>NaN</td>\n",
       "      <td>NaN</td>\n",
       "      <td>NaN</td>\n",
       "      <td>NaN</td>\n",
       "      <td>NaN</td>\n",
       "      <td>NaN</td>\n",
       "      <td>NaN</td>\n",
       "      <td>NaN</td>\n",
       "      <td>NaN</td>\n",
       "      <td>0.0580</td>\n",
       "      <td>0.0602</td>\n",
       "      <td>0.0721</td>\n",
       "      <td>0.0811</td>\n",
       "      <td>0.0848</td>\n",
       "    </tr>\n",
       "    <tr>\n",
       "      <th>6</th>\n",
       "      <td>DE</td>\n",
       "      <td>Germany (until 1990 former territory of the FRG)</td>\n",
       "      <td>NaN</td>\n",
       "      <td>NaN</td>\n",
       "      <td>NaN</td>\n",
       "      <td>NaN</td>\n",
       "      <td>NaN</td>\n",
       "      <td>NaN</td>\n",
       "      <td>NaN</td>\n",
       "      <td>NaN</td>\n",
       "      <td>NaN</td>\n",
       "      <td>NaN</td>\n",
       "      <td>0.0468</td>\n",
       "      <td>0.0612</td>\n",
       "      <td>0.0525</td>\n",
       "      <td>0.0651</td>\n",
       "      <td>0.0707</td>\n",
       "    </tr>\n",
       "    <tr>\n",
       "      <th>7</th>\n",
       "      <td>DK</td>\n",
       "      <td>Denmark</td>\n",
       "      <td>NaN</td>\n",
       "      <td>NaN</td>\n",
       "      <td>NaN</td>\n",
       "      <td>NaN</td>\n",
       "      <td>NaN</td>\n",
       "      <td>NaN</td>\n",
       "      <td>NaN</td>\n",
       "      <td>NaN</td>\n",
       "      <td>NaN</td>\n",
       "      <td>NaN</td>\n",
       "      <td>0.0433</td>\n",
       "      <td>0.0514</td>\n",
       "      <td>0.0517</td>\n",
       "      <td>0.0426</td>\n",
       "      <td>0.0898</td>\n",
       "    </tr>\n",
       "    <tr>\n",
       "      <th>8</th>\n",
       "      <td>EA</td>\n",
       "      <td>Euro area (EA11-1999, EA12-2001, EA13-2007, EA...</td>\n",
       "      <td>NaN</td>\n",
       "      <td>NaN</td>\n",
       "      <td>NaN</td>\n",
       "      <td>NaN</td>\n",
       "      <td>NaN</td>\n",
       "      <td>NaN</td>\n",
       "      <td>NaN</td>\n",
       "      <td>NaN</td>\n",
       "      <td>NaN</td>\n",
       "      <td>NaN</td>\n",
       "      <td>0.0757</td>\n",
       "      <td>0.0837</td>\n",
       "      <td>0.0794</td>\n",
       "      <td>0.0780</td>\n",
       "      <td>0.0893</td>\n",
       "    </tr>\n",
       "    <tr>\n",
       "      <th>9</th>\n",
       "      <td>EE</td>\n",
       "      <td>Estonia</td>\n",
       "      <td>NaN</td>\n",
       "      <td>NaN</td>\n",
       "      <td>NaN</td>\n",
       "      <td>NaN</td>\n",
       "      <td>NaN</td>\n",
       "      <td>NaN</td>\n",
       "      <td>NaN</td>\n",
       "      <td>NaN</td>\n",
       "      <td>NaN</td>\n",
       "      <td>NaN</td>\n",
       "      <td>0.0406</td>\n",
       "      <td>0.0489</td>\n",
       "      <td>0.0516</td>\n",
       "      <td>0.0440</td>\n",
       "      <td>0.0850</td>\n",
       "    </tr>\n",
       "  </tbody>\n",
       "</table>\n",
       "</div>"
      ],
      "text/plain": [
       "  country                                       country_name  2007-S2  \\\n",
       "0      AT                                            Austria      NaN   \n",
       "1      BA                             Bosnia and Herzegovina      NaN   \n",
       "2      BE                                            Belgium      NaN   \n",
       "3      BG                                           Bulgaria      NaN   \n",
       "4      CY                                             Cyprus      NaN   \n",
       "5      CZ                                            Czechia      NaN   \n",
       "6      DE   Germany (until 1990 former territory of the FRG)      NaN   \n",
       "7      DK                                            Denmark      NaN   \n",
       "8      EA  Euro area (EA11-1999, EA12-2001, EA13-2007, EA...      NaN   \n",
       "9      EE                                            Estonia      NaN   \n",
       "\n",
       "   2008-S2  2009-S2  2010-S2  2011-S2  2012-S2  2013-S2  2014-S2  2015-S2  \\\n",
       "0      NaN      NaN      NaN      NaN      NaN      NaN      NaN      NaN   \n",
       "1      NaN      NaN      NaN      NaN      NaN      NaN      NaN      NaN   \n",
       "2      NaN      NaN      NaN      NaN      NaN      NaN      NaN      NaN   \n",
       "3      NaN      NaN      NaN      NaN      NaN      NaN      NaN      NaN   \n",
       "4      NaN      NaN      NaN      NaN      NaN      NaN      NaN      NaN   \n",
       "5      NaN      NaN      NaN      NaN      NaN      NaN      NaN      NaN   \n",
       "6      NaN      NaN      NaN      NaN      NaN      NaN      NaN      NaN   \n",
       "7      NaN      NaN      NaN      NaN      NaN      NaN      NaN      NaN   \n",
       "8      NaN      NaN      NaN      NaN      NaN      NaN      NaN      NaN   \n",
       "9      NaN      NaN      NaN      NaN      NaN      NaN      NaN      NaN   \n",
       "\n",
       "   2016-S2    2017    2018    2019    2020    2021  \n",
       "0      NaN  0.0598  0.0610  0.0654  0.0702  0.0723  \n",
       "1      NaN  0.0649  0.0621  0.0624  0.0648     NaN  \n",
       "2      NaN  0.0672  0.0624  0.0663  0.0745  0.0890  \n",
       "3      NaN  0.0817  0.0810  0.0764  0.0730  0.1075  \n",
       "4      NaN  0.1187  0.1240  0.1271  0.1055  0.1136  \n",
       "5      NaN  0.0580  0.0602  0.0721  0.0811  0.0848  \n",
       "6      NaN  0.0468  0.0612  0.0525  0.0651  0.0707  \n",
       "7      NaN  0.0433  0.0514  0.0517  0.0426  0.0898  \n",
       "8      NaN  0.0757  0.0837  0.0794  0.0780  0.0893  \n",
       "9      NaN  0.0406  0.0489  0.0516  0.0440  0.0850  "
      ]
     },
     "execution_count": 17,
     "metadata": {},
     "output_type": "execute_result"
    }
   ],
   "source": [
    "data_electricity_prices_no_household_consumers.head( 10 )"
   ]
  },
  {
   "cell_type": "markdown",
   "id": "47076baf-3946-46b2-9663-5ab81011712e",
   "metadata": {},
   "source": [
    "## [2.6.] Análisis inicial y procesamiento de los datos"
   ]
  },
  {
   "cell_type": "markdown",
   "id": "3b976006-4905-455c-9f38-6ff7b9c55e0e",
   "metadata": {},
   "source": [
    "### [2.6.1] Funciones de utilidad\n",
    "\n",
    "Estimador utilizando la media **`median_estimator`**. Dentro de una columna del dataframe evalúa aquellos valores nulos y lo sustituye por la media de los valores que no lo son"
   ]
  },
  {
   "cell_type": "code",
   "execution_count": 18,
   "id": "61564202-2e97-4559-87dc-b3776ee3543d",
   "metadata": {},
   "outputs": [],
   "source": [
    "def median_estimator( df, column ) :    \n",
    "    median = df.loc[pd.notnull( df[column]), column].median()\n",
    "    df[column].fillna(median,inplace=True)    \n",
    "    return df    \n"
   ]
  },
  {
   "cell_type": "markdown",
   "id": "1b34d482-26da-40f3-898e-fd34837c3a0c",
   "metadata": {},
   "source": [
    "Función **`show_boxplot`** que muestra el diagrama de caja de los valores de un dataframe\n"
   ]
  },
  {
   "cell_type": "code",
   "execution_count": 19,
   "id": "94f9a59e-334c-4944-851c-1cd65c6f1735",
   "metadata": {},
   "outputs": [],
   "source": [
    "def show_boxplot( df ):\n",
    "    sns.set_theme( style = \"whitegrid\" )\n",
    "    ax = sns.boxplot( data = df )\n",
    "    "
   ]
  },
  {
   "cell_type": "markdown",
   "id": "af481f15-0e3d-4ef0-8f60-d43c22aac761",
   "metadata": {},
   "source": [
    "Función **`init_outlier_max`**. Inializa el Outlier de una columna, inicializa a nulo el valor máximo de la columna"
   ]
  },
  {
   "cell_type": "code",
   "execution_count": 20,
   "id": "27b65c22-3184-43c1-8bc7-bea5ffe6147a",
   "metadata": {},
   "outputs": [],
   "source": [
    "def init_outlier_max(df, column): \n",
    "    df.loc[\n",
    "        df[column] == df[column].max(),\n",
    "        column \n",
    "    ] = np.nan\n",
    "    return df\n"
   ]
  },
  {
   "cell_type": "markdown",
   "id": "cd0fd04d-c51b-4b7a-a2bd-43119f15c2fc",
   "metadata": {},
   "source": [
    "Función **`init_outlier_min`**. Ininit_outlier_maxializa el Outlier de una columna, inicializa a nulo el valor mínnimo de la columna"
   ]
  },
  {
   "cell_type": "code",
   "execution_count": 21,
   "id": "174f38aa-d567-46e4-b658-335d3b178fb3",
   "metadata": {},
   "outputs": [],
   "source": [
    "def init_outlier_min(df, column): \n",
    "    df.loc[\n",
    "        df[column] == df[column].min(),\n",
    "        column \n",
    "    ] = np.nan\n",
    "    return df\n"
   ]
  },
  {
   "cell_type": "markdown",
   "id": "e94f5987-7ffc-4be6-b40c-e251ceb804a0",
   "metadata": {},
   "source": [
    "### [2.6.2] Datos de los costes del gas doméstico"
   ]
  },
  {
   "cell_type": "markdown",
   "id": "b2229e16-28ed-4bf6-a134-c76229640fdf",
   "metadata": {},
   "source": [
    "Diagrama de caja para los diferentes años:"
   ]
  },
  {
   "cell_type": "code",
   "execution_count": 22,
   "id": "55accc87-378e-4057-9cbc-886d1ac06f2f",
   "metadata": {},
   "outputs": [
    {
     "data": {
      "image/png": "[encoded data removed]",
      "text/plain": [
       "<Figure size 432x288 with 1 Axes>"
      ]
     },
     "metadata": {},
     "output_type": "display_data"
    }
   ],
   "source": [
    "GasPricesHousehold = data_gas_prices_household_consumers\n",
    "\n",
    "show_boxplot( GasPricesHousehold )"
   ]
  },
  {
   "cell_type": "markdown",
   "id": "7ea00d9f-7441-46d1-990a-b1c707184b97",
   "metadata": {},
   "source": [
    "Detectamos valores extremos en los años 2018, 2019 y 2021, inicializamos valor"
   ]
  },
  {
   "cell_type": "code",
   "execution_count": 23,
   "id": "ea41b9ab-a678-41a4-8850-64b02a5ec18b",
   "metadata": {
    "tags": []
   },
   "outputs": [],
   "source": [
    "GasPricesHousehold = init_outlier_min(GasPricesHousehold, '2018')\n",
    "GasPricesHousehold = init_outlier_min(GasPricesHousehold, '2019')\n",
    "GasPricesHousehold = init_outlier_max(GasPricesHousehold, '2021')"
   ]
  },
  {
   "cell_type": "markdown",
   "id": "b1469b45-c1fa-45e5-a20e-1c1e774bb86a",
   "metadata": {},
   "source": [
    "Sustituimos NaN values por su media"
   ]
  },
  {
   "cell_type": "code",
   "execution_count": 24,
   "id": "c9aadf9d-c5b4-40a7-aff2-8030838c0f3c",
   "metadata": {},
   "outputs": [],
   "source": [
    "\n",
    "GasPricesHousehold = median_estimator( GasPricesHousehold, '2021' )\n",
    "GasPricesHousehold = median_estimator( GasPricesHousehold, '2020' )\n",
    "GasPricesHousehold = median_estimator( GasPricesHousehold, '2019' )\n",
    "GasPricesHousehold = median_estimator( GasPricesHousehold, '2018' )\n",
    "GasPricesHousehold = median_estimator( GasPricesHousehold, '2017' )\n"
   ]
  },
  {
   "cell_type": "markdown",
   "id": "df5201c9-c3c4-4d7d-9010-dc558a68668c",
   "metadata": {},
   "source": [
    "Se muestran los 10 primeros valores:"
   ]
  },
  {
   "cell_type": "code",
   "execution_count": 25,
   "id": "4798e382-ec09-489e-9788-10e0a2d75c58",
   "metadata": {},
   "outputs": [
    {
     "data": {
      "text/html": [
       "<div>\n",
       "<style scoped>\n",
       "    .dataframe tbody tr th:only-of-type {\n",
       "        vertical-align: middle;\n",
       "    }\n",
       "\n",
       "    .dataframe tbody tr th {\n",
       "        vertical-align: top;\n",
       "    }\n",
       "\n",
       "    .dataframe thead th {\n",
       "        text-align: right;\n",
       "    }\n",
       "</style>\n",
       "<table border=\"1\" class=\"dataframe\">\n",
       "  <thead>\n",
       "    <tr style=\"text-align: right;\">\n",
       "      <th></th>\n",
       "      <th>country</th>\n",
       "      <th>country_name</th>\n",
       "      <th>2017</th>\n",
       "      <th>2018</th>\n",
       "      <th>2019</th>\n",
       "      <th>2020</th>\n",
       "      <th>2021</th>\n",
       "    </tr>\n",
       "  </thead>\n",
       "  <tbody>\n",
       "    <tr>\n",
       "      <th>0</th>\n",
       "      <td>AT</td>\n",
       "      <td>Austria</td>\n",
       "      <td>0.0299</td>\n",
       "      <td>0.0304</td>\n",
       "      <td>0.0312</td>\n",
       "      <td>0.0308</td>\n",
       "      <td>0.0316</td>\n",
       "    </tr>\n",
       "    <tr>\n",
       "      <th>1</th>\n",
       "      <td>BA</td>\n",
       "      <td>Bosnia and Herzegovina</td>\n",
       "      <td>0.0240</td>\n",
       "      <td>0.0240</td>\n",
       "      <td>0.0249</td>\n",
       "      <td>0.0258</td>\n",
       "      <td>0.0251</td>\n",
       "    </tr>\n",
       "    <tr>\n",
       "      <th>2</th>\n",
       "      <td>BE</td>\n",
       "      <td>Belgium</td>\n",
       "      <td>0.0283</td>\n",
       "      <td>0.0288</td>\n",
       "      <td>0.0289</td>\n",
       "      <td>0.0252</td>\n",
       "      <td>0.0315</td>\n",
       "    </tr>\n",
       "    <tr>\n",
       "      <th>3</th>\n",
       "      <td>BG</td>\n",
       "      <td>Bulgaria</td>\n",
       "      <td>0.0170</td>\n",
       "      <td>0.0209</td>\n",
       "      <td>0.0240</td>\n",
       "      <td>0.0177</td>\n",
       "      <td>0.0331</td>\n",
       "    </tr>\n",
       "    <tr>\n",
       "      <th>4</th>\n",
       "      <td>CZ</td>\n",
       "      <td>Czechia</td>\n",
       "      <td>0.0360</td>\n",
       "      <td>0.0390</td>\n",
       "      <td>0.0455</td>\n",
       "      <td>0.0431</td>\n",
       "      <td>0.0448</td>\n",
       "    </tr>\n",
       "    <tr>\n",
       "      <th>5</th>\n",
       "      <td>DE</td>\n",
       "      <td>Germany (until 1990 former territory of the FRG)</td>\n",
       "      <td>0.0243</td>\n",
       "      <td>0.0255</td>\n",
       "      <td>0.0278</td>\n",
       "      <td>0.0292</td>\n",
       "      <td>0.0293</td>\n",
       "    </tr>\n",
       "    <tr>\n",
       "      <th>6</th>\n",
       "      <td>DK</td>\n",
       "      <td>Denmark</td>\n",
       "      <td>0.0234</td>\n",
       "      <td>0.0259</td>\n",
       "      <td>0.0209</td>\n",
       "      <td>0.0160</td>\n",
       "      <td>0.0415</td>\n",
       "    </tr>\n",
       "    <tr>\n",
       "      <th>7</th>\n",
       "      <td>EA</td>\n",
       "      <td>Euro area (EA11-1999, EA12-2001, EA13-2007, EA...</td>\n",
       "      <td>0.0295</td>\n",
       "      <td>0.0303</td>\n",
       "      <td>0.0319</td>\n",
       "      <td>0.0302</td>\n",
       "      <td>0.0315</td>\n",
       "    </tr>\n",
       "    <tr>\n",
       "      <th>8</th>\n",
       "      <td>EE</td>\n",
       "      <td>Estonia</td>\n",
       "      <td>0.0234</td>\n",
       "      <td>0.0239</td>\n",
       "      <td>0.0253</td>\n",
       "      <td>0.0240</td>\n",
       "      <td>0.0361</td>\n",
       "    </tr>\n",
       "    <tr>\n",
       "      <th>9</th>\n",
       "      <td>EL</td>\n",
       "      <td>Greece</td>\n",
       "      <td>0.0243</td>\n",
       "      <td>0.0311</td>\n",
       "      <td>0.0338</td>\n",
       "      <td>0.0258</td>\n",
       "      <td>0.0444</td>\n",
       "    </tr>\n",
       "  </tbody>\n",
       "</table>\n",
       "</div>"
      ],
      "text/plain": [
       "  country                                       country_name    2017    2018  \\\n",
       "0      AT                                            Austria  0.0299  0.0304   \n",
       "1      BA                             Bosnia and Herzegovina  0.0240  0.0240   \n",
       "2      BE                                            Belgium  0.0283  0.0288   \n",
       "3      BG                                           Bulgaria  0.0170  0.0209   \n",
       "4      CZ                                            Czechia  0.0360  0.0390   \n",
       "5      DE   Germany (until 1990 former territory of the FRG)  0.0243  0.0255   \n",
       "6      DK                                            Denmark  0.0234  0.0259   \n",
       "7      EA  Euro area (EA11-1999, EA12-2001, EA13-2007, EA...  0.0295  0.0303   \n",
       "8      EE                                            Estonia  0.0234  0.0239   \n",
       "9      EL                                             Greece  0.0243  0.0311   \n",
       "\n",
       "     2019    2020    2021  \n",
       "0  0.0312  0.0308  0.0316  \n",
       "1  0.0249  0.0258  0.0251  \n",
       "2  0.0289  0.0252  0.0315  \n",
       "3  0.0240  0.0177  0.0331  \n",
       "4  0.0455  0.0431  0.0448  \n",
       "5  0.0278  0.0292  0.0293  \n",
       "6  0.0209  0.0160  0.0415  \n",
       "7  0.0319  0.0302  0.0315  \n",
       "8  0.0253  0.0240  0.0361  \n",
       "9  0.0338  0.0258  0.0444  "
      ]
     },
     "metadata": {},
     "output_type": "display_data"
    }
   ],
   "source": [
    "display( GasPricesHousehold.head(10) )"
   ]
  },
  {
   "cell_type": "markdown",
   "id": "57fc1a2a-cf5f-4245-9d48-28f5b269d58e",
   "metadata": {},
   "source": [
    "Diagrama de caja para los diferentes años:"
   ]
  },
  {
   "cell_type": "code",
   "execution_count": 26,
   "id": "bd728867-3de1-472b-9de4-5038a1bfa8e2",
   "metadata": {},
   "outputs": [
    {
     "data": {
      "image/png": "[encoded data removed]",
      "text/plain": [
       "<Figure size 432x288 with 1 Axes>"
      ]
     },
     "metadata": {},
     "output_type": "display_data"
    }
   ],
   "source": [
    "show_boxplot( GasPricesHousehold )"
   ]
  },
  {
   "cell_type": "markdown",
   "id": "db0e18f9-d961-40a0-8378-53251f4c8fa3",
   "metadata": {},
   "source": [
    "### [2.6.3] Datos de los costes del gas para empresas\n"
   ]
  },
  {
   "cell_type": "markdown",
   "id": "16776c73-7cd5-48ce-bc5c-1e22990e04fb",
   "metadata": {},
   "source": [
    "Diagrama de caja para los diferentes años:"
   ]
  },
  {
   "cell_type": "code",
   "execution_count": 27,
   "id": "7a28a548-4eba-4176-a0ce-41a1937d3e78",
   "metadata": {},
   "outputs": [
    {
     "data": {
      "image/png": "[encoded data removed]",
      "text/plain": [
       "<Figure size 432x288 with 1 Axes>"
      ]
     },
     "metadata": {},
     "output_type": "display_data"
    }
   ],
   "source": [
    "GasPricesNoHousehold = data_gas_prices_no_household_consumers\n",
    "\n",
    "show_boxplot( GasPricesNoHousehold )"
   ]
  },
  {
   "cell_type": "markdown",
   "id": "5b5e10ba-33cc-4b58-bd04-4e70460d270c",
   "metadata": {},
   "source": [
    "Detectamos valores extremos en los años 2019 y 2021, inicializamos valor"
   ]
  },
  {
   "cell_type": "code",
   "execution_count": 28,
   "id": "82a543e3-8842-470f-a595-3e5b2e0fd77f",
   "metadata": {
    "tags": []
   },
   "outputs": [],
   "source": [
    "GasPricesNoHousehold = init_outlier_min(GasPricesNoHousehold, '2019')\n",
    "GasPricesNoHousehold = init_outlier_max(GasPricesNoHousehold, '2021')"
   ]
  },
  {
   "cell_type": "markdown",
   "id": "57518575-4db0-4fc0-94ce-03f0c2488280",
   "metadata": {},
   "source": [
    "Sustituimos NaN values por su media"
   ]
  },
  {
   "cell_type": "code",
   "execution_count": 29,
   "id": "7908bdb9-aa50-4420-93ad-562d05cea4fd",
   "metadata": {},
   "outputs": [],
   "source": [
    "GasPricesNoHousehold = data_gas_prices_no_household_consumers\n",
    "\n",
    "GasPricesNoHousehold = median_estimator( GasPricesNoHousehold, '2021' )\n",
    "GasPricesNoHousehold = median_estimator( GasPricesNoHousehold, '2020' )\n",
    "GasPricesNoHousehold = median_estimator( GasPricesNoHousehold, '2019' )\n",
    "GasPricesNoHousehold = median_estimator( GasPricesNoHousehold, '2018' )\n",
    "GasPricesNoHousehold = median_estimator( GasPricesNoHousehold, '2017' )"
   ]
  },
  {
   "cell_type": "markdown",
   "id": "5ff33e7b-ba3f-4b8e-8d40-47fecd2c10b8",
   "metadata": {},
   "source": [
    "Se muestran los 10 primero valores:"
   ]
  },
  {
   "cell_type": "code",
   "execution_count": 30,
   "id": "d2c6338e-caa3-4e5c-89d6-f984d3c792c7",
   "metadata": {},
   "outputs": [
    {
     "data": {
      "text/html": [
       "<div>\n",
       "<style scoped>\n",
       "    .dataframe tbody tr th:only-of-type {\n",
       "        vertical-align: middle;\n",
       "    }\n",
       "\n",
       "    .dataframe tbody tr th {\n",
       "        vertical-align: top;\n",
       "    }\n",
       "\n",
       "    .dataframe thead th {\n",
       "        text-align: right;\n",
       "    }\n",
       "</style>\n",
       "<table border=\"1\" class=\"dataframe\">\n",
       "  <thead>\n",
       "    <tr style=\"text-align: right;\">\n",
       "      <th></th>\n",
       "      <th>country</th>\n",
       "      <th>country_name</th>\n",
       "      <th>2017</th>\n",
       "      <th>2018</th>\n",
       "      <th>2019</th>\n",
       "      <th>2020</th>\n",
       "      <th>2021</th>\n",
       "    </tr>\n",
       "  </thead>\n",
       "  <tbody>\n",
       "    <tr>\n",
       "      <th>0</th>\n",
       "      <td>AT</td>\n",
       "      <td>Austria</td>\n",
       "      <td>0.0220</td>\n",
       "      <td>0.0240</td>\n",
       "      <td>0.0184</td>\n",
       "      <td>0.0168</td>\n",
       "      <td>0.02970</td>\n",
       "    </tr>\n",
       "    <tr>\n",
       "      <th>1</th>\n",
       "      <td>BA</td>\n",
       "      <td>Bosnia and Herzegovina</td>\n",
       "      <td>0.0220</td>\n",
       "      <td>0.0240</td>\n",
       "      <td>0.0257</td>\n",
       "      <td>0.0259</td>\n",
       "      <td>0.02480</td>\n",
       "    </tr>\n",
       "    <tr>\n",
       "      <th>2</th>\n",
       "      <td>BE</td>\n",
       "      <td>Belgium</td>\n",
       "      <td>0.0220</td>\n",
       "      <td>0.0240</td>\n",
       "      <td>0.0189</td>\n",
       "      <td>0.0148</td>\n",
       "      <td>0.03180</td>\n",
       "    </tr>\n",
       "    <tr>\n",
       "      <th>3</th>\n",
       "      <td>BG</td>\n",
       "      <td>Bulgaria</td>\n",
       "      <td>0.0220</td>\n",
       "      <td>0.0240</td>\n",
       "      <td>0.0213</td>\n",
       "      <td>0.0142</td>\n",
       "      <td>0.02990</td>\n",
       "    </tr>\n",
       "    <tr>\n",
       "      <th>4</th>\n",
       "      <td>CZ</td>\n",
       "      <td>Czechia</td>\n",
       "      <td>0.0220</td>\n",
       "      <td>0.0240</td>\n",
       "      <td>0.0226</td>\n",
       "      <td>0.0192</td>\n",
       "      <td>0.02590</td>\n",
       "    </tr>\n",
       "    <tr>\n",
       "      <th>5</th>\n",
       "      <td>DE</td>\n",
       "      <td>Germany (until 1990 former territory of the FRG)</td>\n",
       "      <td>0.0220</td>\n",
       "      <td>0.0240</td>\n",
       "      <td>0.0196</td>\n",
       "      <td>0.0171</td>\n",
       "      <td>0.02620</td>\n",
       "    </tr>\n",
       "    <tr>\n",
       "      <th>6</th>\n",
       "      <td>DK</td>\n",
       "      <td>Denmark</td>\n",
       "      <td>0.0194</td>\n",
       "      <td>0.0234</td>\n",
       "      <td>0.0178</td>\n",
       "      <td>0.0137</td>\n",
       "      <td>0.02795</td>\n",
       "    </tr>\n",
       "    <tr>\n",
       "      <th>7</th>\n",
       "      <td>EA</td>\n",
       "      <td>Euro area (EA11-1999, EA12-2001, EA13-2007, EA...</td>\n",
       "      <td>0.0220</td>\n",
       "      <td>0.0240</td>\n",
       "      <td>0.0211</td>\n",
       "      <td>0.0175</td>\n",
       "      <td>0.02780</td>\n",
       "    </tr>\n",
       "    <tr>\n",
       "      <th>8</th>\n",
       "      <td>EE</td>\n",
       "      <td>Estonia</td>\n",
       "      <td>0.0220</td>\n",
       "      <td>0.0240</td>\n",
       "      <td>0.0213</td>\n",
       "      <td>0.0155</td>\n",
       "      <td>0.03520</td>\n",
       "    </tr>\n",
       "    <tr>\n",
       "      <th>9</th>\n",
       "      <td>EL</td>\n",
       "      <td>Greece</td>\n",
       "      <td>0.0220</td>\n",
       "      <td>0.0240</td>\n",
       "      <td>0.0260</td>\n",
       "      <td>0.0165</td>\n",
       "      <td>0.03370</td>\n",
       "    </tr>\n",
       "  </tbody>\n",
       "</table>\n",
       "</div>"
      ],
      "text/plain": [
       "  country                                       country_name    2017    2018  \\\n",
       "0      AT                                            Austria  0.0220  0.0240   \n",
       "1      BA                             Bosnia and Herzegovina  0.0220  0.0240   \n",
       "2      BE                                            Belgium  0.0220  0.0240   \n",
       "3      BG                                           Bulgaria  0.0220  0.0240   \n",
       "4      CZ                                            Czechia  0.0220  0.0240   \n",
       "5      DE   Germany (until 1990 former territory of the FRG)  0.0220  0.0240   \n",
       "6      DK                                            Denmark  0.0194  0.0234   \n",
       "7      EA  Euro area (EA11-1999, EA12-2001, EA13-2007, EA...  0.0220  0.0240   \n",
       "8      EE                                            Estonia  0.0220  0.0240   \n",
       "9      EL                                             Greece  0.0220  0.0240   \n",
       "\n",
       "     2019    2020     2021  \n",
       "0  0.0184  0.0168  0.02970  \n",
       "1  0.0257  0.0259  0.02480  \n",
       "2  0.0189  0.0148  0.03180  \n",
       "3  0.0213  0.0142  0.02990  \n",
       "4  0.0226  0.0192  0.02590  \n",
       "5  0.0196  0.0171  0.02620  \n",
       "6  0.0178  0.0137  0.02795  \n",
       "7  0.0211  0.0175  0.02780  \n",
       "8  0.0213  0.0155  0.03520  \n",
       "9  0.0260  0.0165  0.03370  "
      ]
     },
     "metadata": {},
     "output_type": "display_data"
    }
   ],
   "source": [
    "display( GasPricesNoHousehold.head(10) )"
   ]
  },
  {
   "cell_type": "markdown",
   "id": "4896af6c-42b7-404f-aeba-adac41444458",
   "metadata": {},
   "source": [
    "Se vuelve a mostrar el diagrama de caja para los diferentes años:"
   ]
  },
  {
   "cell_type": "code",
   "execution_count": 31,
   "id": "f2119cd0-3928-44e5-aa25-5f12ffb25bba",
   "metadata": {},
   "outputs": [
    {
     "data": {
      "image/png": "[encoded data removed]",
      "text/plain": [
       "<Figure size 432x288 with 1 Axes>"
      ]
     },
     "metadata": {},
     "output_type": "display_data"
    }
   ],
   "source": [
    "show_boxplot( GasPricesNoHousehold )"
   ]
  },
  {
   "cell_type": "markdown",
   "id": "87f92e93-eb6b-48f1-a85a-653a6c2ceb17",
   "metadata": {},
   "source": [
    "### [2.6.4] Datos de los costes de la electricidad doméstica\n"
   ]
  },
  {
   "cell_type": "markdown",
   "id": "27cb7316-82aa-4020-9e48-010cc9cac468",
   "metadata": {},
   "source": [
    "Se eliminan las columnas correspondientes a los valores semestrales de lo años desde el 2012 al 2016 que no contienen datos"
   ]
  },
  {
   "cell_type": "code",
   "execution_count": 32,
   "id": "1ff04625-dda6-409d-a222-a542994dd50f",
   "metadata": {},
   "outputs": [],
   "source": [
    "ElectPricesHouseholds = data_electricity_prices_household_consumers.drop(\n",
    "    [\n",
    "     '2012-S2',\n",
    "     '2013-S2',\n",
    "     '2014-S2',\n",
    "     '2015-S2',\n",
    "     '2016-S2'\n",
    "    ], axis=1\n",
    ")"
   ]
  },
  {
   "cell_type": "markdown",
   "id": "f18a8a06-a167-4c25-9d66-1b79464e975a",
   "metadata": {},
   "source": [
    "Muestra de los 10 primeros valores"
   ]
  },
  {
   "cell_type": "code",
   "execution_count": 33,
   "id": "14732394-69d5-4db9-a9ff-1fdf68cd489d",
   "metadata": {},
   "outputs": [
    {
     "data": {
      "text/html": [
       "<div>\n",
       "<style scoped>\n",
       "    .dataframe tbody tr th:only-of-type {\n",
       "        vertical-align: middle;\n",
       "    }\n",
       "\n",
       "    .dataframe tbody tr th {\n",
       "        vertical-align: top;\n",
       "    }\n",
       "\n",
       "    .dataframe thead th {\n",
       "        text-align: right;\n",
       "    }\n",
       "</style>\n",
       "<table border=\"1\" class=\"dataframe\">\n",
       "  <thead>\n",
       "    <tr style=\"text-align: right;\">\n",
       "      <th></th>\n",
       "      <th>country</th>\n",
       "      <th>country_name</th>\n",
       "      <th>2017</th>\n",
       "      <th>2018</th>\n",
       "      <th>2019</th>\n",
       "      <th>2020</th>\n",
       "      <th>2021</th>\n",
       "    </tr>\n",
       "  </thead>\n",
       "  <tbody>\n",
       "    <tr>\n",
       "      <th>0</th>\n",
       "      <td>AL</td>\n",
       "      <td>Albania</td>\n",
       "      <td>0.0713</td>\n",
       "      <td>0.0759</td>\n",
       "      <td>0.0778</td>\n",
       "      <td>NaN</td>\n",
       "      <td>0.0781</td>\n",
       "    </tr>\n",
       "    <tr>\n",
       "      <th>1</th>\n",
       "      <td>AT</td>\n",
       "      <td>Austria</td>\n",
       "      <td>0.0613</td>\n",
       "      <td>0.0623</td>\n",
       "      <td>0.0687</td>\n",
       "      <td>0.0732</td>\n",
       "      <td>0.0745</td>\n",
       "    </tr>\n",
       "    <tr>\n",
       "      <th>2</th>\n",
       "      <td>BA</td>\n",
       "      <td>Bosnia and Herzegovina</td>\n",
       "      <td>0.0342</td>\n",
       "      <td>0.0338</td>\n",
       "      <td>0.0361</td>\n",
       "      <td>0.0365</td>\n",
       "      <td>NaN</td>\n",
       "    </tr>\n",
       "    <tr>\n",
       "      <th>3</th>\n",
       "      <td>BE</td>\n",
       "      <td>Belgium</td>\n",
       "      <td>0.0735</td>\n",
       "      <td>0.0808</td>\n",
       "      <td>0.0859</td>\n",
       "      <td>0.0786</td>\n",
       "      <td>0.0844</td>\n",
       "    </tr>\n",
       "    <tr>\n",
       "      <th>4</th>\n",
       "      <td>BG</td>\n",
       "      <td>Bulgaria</td>\n",
       "      <td>0.0575</td>\n",
       "      <td>0.0585</td>\n",
       "      <td>0.0558</td>\n",
       "      <td>0.0560</td>\n",
       "      <td>0.0608</td>\n",
       "    </tr>\n",
       "    <tr>\n",
       "      <th>5</th>\n",
       "      <td>CY</td>\n",
       "      <td>Cyprus</td>\n",
       "      <td>0.1036</td>\n",
       "      <td>0.1157</td>\n",
       "      <td>0.1241</td>\n",
       "      <td>0.1042</td>\n",
       "      <td>0.1094</td>\n",
       "    </tr>\n",
       "    <tr>\n",
       "      <th>6</th>\n",
       "      <td>CZ</td>\n",
       "      <td>Czechia</td>\n",
       "      <td>0.0541</td>\n",
       "      <td>0.0570</td>\n",
       "      <td>0.0690</td>\n",
       "      <td>0.0749</td>\n",
       "      <td>0.0979</td>\n",
       "    </tr>\n",
       "    <tr>\n",
       "      <th>7</th>\n",
       "      <td>DE</td>\n",
       "      <td>Germany (until 1990 former territory of the FRG)</td>\n",
       "      <td>0.0686</td>\n",
       "      <td>0.0622</td>\n",
       "      <td>0.0581</td>\n",
       "      <td>0.0574</td>\n",
       "      <td>0.0803</td>\n",
       "    </tr>\n",
       "    <tr>\n",
       "      <th>8</th>\n",
       "      <td>DK</td>\n",
       "      <td>Denmark</td>\n",
       "      <td>0.0388</td>\n",
       "      <td>0.0503</td>\n",
       "      <td>0.0539</td>\n",
       "      <td>0.0409</td>\n",
       "      <td>0.0747</td>\n",
       "    </tr>\n",
       "    <tr>\n",
       "      <th>9</th>\n",
       "      <td>EA</td>\n",
       "      <td>Euro area (EA11-1999, EA12-2001, EA13-2007, EA...</td>\n",
       "      <td>0.0760</td>\n",
       "      <td>0.0801</td>\n",
       "      <td>0.0727</td>\n",
       "      <td>0.0697</td>\n",
       "      <td>0.0898</td>\n",
       "    </tr>\n",
       "  </tbody>\n",
       "</table>\n",
       "</div>"
      ],
      "text/plain": [
       "  country                                       country_name    2017    2018  \\\n",
       "0      AL                                            Albania  0.0713  0.0759   \n",
       "1      AT                                            Austria  0.0613  0.0623   \n",
       "2      BA                             Bosnia and Herzegovina  0.0342  0.0338   \n",
       "3      BE                                            Belgium  0.0735  0.0808   \n",
       "4      BG                                           Bulgaria  0.0575  0.0585   \n",
       "5      CY                                             Cyprus  0.1036  0.1157   \n",
       "6      CZ                                            Czechia  0.0541  0.0570   \n",
       "7      DE   Germany (until 1990 former territory of the FRG)  0.0686  0.0622   \n",
       "8      DK                                            Denmark  0.0388  0.0503   \n",
       "9      EA  Euro area (EA11-1999, EA12-2001, EA13-2007, EA...  0.0760  0.0801   \n",
       "\n",
       "     2019    2020    2021  \n",
       "0  0.0778     NaN  0.0781  \n",
       "1  0.0687  0.0732  0.0745  \n",
       "2  0.0361  0.0365     NaN  \n",
       "3  0.0859  0.0786  0.0844  \n",
       "4  0.0558  0.0560  0.0608  \n",
       "5  0.1241  0.1042  0.1094  \n",
       "6  0.0690  0.0749  0.0979  \n",
       "7  0.0581  0.0574  0.0803  \n",
       "8  0.0539  0.0409  0.0747  \n",
       "9  0.0727  0.0697  0.0898  "
      ]
     },
     "metadata": {},
     "output_type": "display_data"
    }
   ],
   "source": [
    "display( ElectPricesHouseholds.head( 10 ) )"
   ]
  },
  {
   "cell_type": "markdown",
   "id": "bc2bb56a-3810-4a93-9ba6-f9b71507bdef",
   "metadata": {},
   "source": [
    "Se muestra el diagrama de caja"
   ]
  },
  {
   "cell_type": "code",
   "execution_count": 34,
   "id": "1651de0b-71d8-4d56-9269-8e116b73d383",
   "metadata": {},
   "outputs": [
    {
     "data": {
      "image/png": "[encoded data removed]",
      "text/plain": [
       "<Figure size 432x288 with 1 Axes>"
      ]
     },
     "metadata": {},
     "output_type": "display_data"
    }
   ],
   "source": [
    "show_boxplot( ElectPricesHouseholds )"
   ]
  },
  {
   "cell_type": "markdown",
   "id": "15c80287-6296-4dc5-81c8-3daad1df08c4",
   "metadata": {},
   "source": [
    "Detectamos valores extremos en los años 2018, 2019 y 2020, inicializamos valor"
   ]
  },
  {
   "cell_type": "code",
   "execution_count": 35,
   "id": "967f0052-e0b9-4c72-b2b2-51d5383f1fbb",
   "metadata": {
    "tags": []
   },
   "outputs": [],
   "source": [
    "ElectPricesHouseholds = init_outlier_max(ElectPricesHouseholds, '2018')\n",
    "ElectPricesHouseholds = init_outlier_max(ElectPricesHouseholds, '2019')\n",
    "ElectPricesHouseholds = init_outlier_min(ElectPricesHouseholds, '2020')"
   ]
  },
  {
   "cell_type": "markdown",
   "id": "17c1f8d4-5be6-4bf3-83dd-0d5203317202",
   "metadata": {},
   "source": [
    "Se vuelve a mostrar el diagrama de caja"
   ]
  },
  {
   "cell_type": "code",
   "execution_count": 36,
   "id": "8f2fad41-9cff-4205-85ea-9579ffebca43",
   "metadata": {
    "tags": []
   },
   "outputs": [
    {
     "data": {
      "image/png": "[encoded data removed]",
      "text/plain": [
       "<Figure size 432x288 with 1 Axes>"
      ]
     },
     "metadata": {},
     "output_type": "display_data"
    }
   ],
   "source": [
    "show_boxplot( ElectPricesHouseholds )"
   ]
  },
  {
   "cell_type": "markdown",
   "id": "3b753bd1-76b9-4d59-ab6e-cdb71d241a9a",
   "metadata": {},
   "source": [
    "Se vuelve a quitar el valor extremo en el año 2019"
   ]
  },
  {
   "cell_type": "code",
   "execution_count": 37,
   "id": "5e275789-e2ff-4075-8348-0f091b9102e7",
   "metadata": {},
   "outputs": [],
   "source": [
    "ElectPricesHouseholds = init_outlier_max(ElectPricesHouseholds, '2019')"
   ]
  },
  {
   "cell_type": "markdown",
   "id": "2fa504b3-0b86-43b8-b67f-b1dd79c60f84",
   "metadata": {
    "tags": []
   },
   "source": [
    " Estimamos valores nulos por la media"
   ]
  },
  {
   "cell_type": "code",
   "execution_count": 38,
   "id": "8fa9c4c3-5b35-4262-af62-89cab6064204",
   "metadata": {},
   "outputs": [],
   "source": [
    "ElectPricesHouseholds = median_estimator( ElectPricesHouseholds, '2021' )\n",
    "ElectPricesHouseholds = median_estimator( ElectPricesHouseholds, '2020' )\n",
    "ElectPricesHouseholds = median_estimator( ElectPricesHouseholds, '2019' )\n",
    "ElectPricesHouseholds = median_estimator( ElectPricesHouseholds, '2018' )\n",
    "ElectPricesHouseholds = median_estimator( ElectPricesHouseholds, '2017' )\n"
   ]
  },
  {
   "cell_type": "markdown",
   "id": "4e335fba-e07b-45aa-a149-1d9daf41e7df",
   "metadata": {},
   "source": [
    "Se vuelve a mostrar el diagrama de caja"
   ]
  },
  {
   "cell_type": "code",
   "execution_count": 39,
   "id": "ae00db85-7dc9-43ce-a5b3-35e87c3eb0f7",
   "metadata": {},
   "outputs": [
    {
     "data": {
      "image/png": "[encoded data removed]",
      "text/plain": [
       "<Figure size 432x288 with 1 Axes>"
      ]
     },
     "metadata": {},
     "output_type": "display_data"
    }
   ],
   "source": [
    "show_boxplot( ElectPricesHouseholds )"
   ]
  },
  {
   "cell_type": "markdown",
   "id": "185a2061-7c3a-42e2-86b4-1d9a26be40ad",
   "metadata": {},
   "source": [
    "### [2.6.5] Datos de los costes de la electricidad para empresas\n"
   ]
  },
  {
   "cell_type": "markdown",
   "id": "8cfaada4-a631-4347-98b7-1d4c6124542a",
   "metadata": {},
   "source": [
    "Se eliminan las columnas correspondientes a los valores semestrales de lo años desde el 2012 al 2016 que no contienen datos"
   ]
  },
  {
   "cell_type": "code",
   "execution_count": 40,
   "id": "9d869f12-a54e-4272-9d46-4bb81f1c0225",
   "metadata": {},
   "outputs": [],
   "source": [
    "ElectPricesNoHouseholds = data_electricity_prices_no_household_consumers.drop(\n",
    "    [\n",
    "        '2007-S2',\n",
    "        '2008-S2',\n",
    "        '2009-S2',\n",
    "        '2010-S2',\n",
    "        '2011-S2',\n",
    "        '2012-S2',\n",
    "        '2013-S2',\n",
    "        '2014-S2',\n",
    "        '2015-S2',\n",
    "        '2016-S2'\n",
    "    ], axis=1\n",
    ")"
   ]
  },
  {
   "cell_type": "markdown",
   "id": "d7e857ac-e94e-4b93-bee5-f24cb1ed31f3",
   "metadata": {},
   "source": [
    "Se muestra el diagrama de caja"
   ]
  },
  {
   "cell_type": "code",
   "execution_count": 41,
   "id": "4a549354-f9ed-4c79-a763-d91c6b7086f9",
   "metadata": {},
   "outputs": [
    {
     "data": {
      "image/png": "[encoded data removed]",
      "text/plain": [
       "<Figure size 432x288 with 1 Axes>"
      ]
     },
     "metadata": {},
     "output_type": "display_data"
    }
   ],
   "source": [
    "show_boxplot( ElectPricesNoHouseholds )"
   ]
  },
  {
   "cell_type": "markdown",
   "id": "00b8eaf5-0313-444a-a375-bd5c18755385",
   "metadata": {},
   "source": [
    "Muestra de los 10 primeros valores"
   ]
  },
  {
   "cell_type": "code",
   "execution_count": 42,
   "id": "699d3b69-a0af-42f0-ae47-11d0122578e7",
   "metadata": {},
   "outputs": [
    {
     "data": {
      "text/html": [
       "<div>\n",
       "<style scoped>\n",
       "    .dataframe tbody tr th:only-of-type {\n",
       "        vertical-align: middle;\n",
       "    }\n",
       "\n",
       "    .dataframe tbody tr th {\n",
       "        vertical-align: top;\n",
       "    }\n",
       "\n",
       "    .dataframe thead th {\n",
       "        text-align: right;\n",
       "    }\n",
       "</style>\n",
       "<table border=\"1\" class=\"dataframe\">\n",
       "  <thead>\n",
       "    <tr style=\"text-align: right;\">\n",
       "      <th></th>\n",
       "      <th>country</th>\n",
       "      <th>country_name</th>\n",
       "      <th>2017</th>\n",
       "      <th>2018</th>\n",
       "      <th>2019</th>\n",
       "      <th>2020</th>\n",
       "      <th>2021</th>\n",
       "    </tr>\n",
       "  </thead>\n",
       "  <tbody>\n",
       "    <tr>\n",
       "      <th>0</th>\n",
       "      <td>AT</td>\n",
       "      <td>Austria</td>\n",
       "      <td>0.0598</td>\n",
       "      <td>0.0610</td>\n",
       "      <td>0.0654</td>\n",
       "      <td>0.0702</td>\n",
       "      <td>0.0723</td>\n",
       "    </tr>\n",
       "    <tr>\n",
       "      <th>1</th>\n",
       "      <td>BA</td>\n",
       "      <td>Bosnia and Herzegovina</td>\n",
       "      <td>0.0649</td>\n",
       "      <td>0.0621</td>\n",
       "      <td>0.0624</td>\n",
       "      <td>0.0648</td>\n",
       "      <td>NaN</td>\n",
       "    </tr>\n",
       "    <tr>\n",
       "      <th>2</th>\n",
       "      <td>BE</td>\n",
       "      <td>Belgium</td>\n",
       "      <td>0.0672</td>\n",
       "      <td>0.0624</td>\n",
       "      <td>0.0663</td>\n",
       "      <td>0.0745</td>\n",
       "      <td>0.0890</td>\n",
       "    </tr>\n",
       "    <tr>\n",
       "      <th>3</th>\n",
       "      <td>BG</td>\n",
       "      <td>Bulgaria</td>\n",
       "      <td>0.0817</td>\n",
       "      <td>0.0810</td>\n",
       "      <td>0.0764</td>\n",
       "      <td>0.0730</td>\n",
       "      <td>0.1075</td>\n",
       "    </tr>\n",
       "    <tr>\n",
       "      <th>4</th>\n",
       "      <td>CY</td>\n",
       "      <td>Cyprus</td>\n",
       "      <td>0.1187</td>\n",
       "      <td>0.1240</td>\n",
       "      <td>0.1271</td>\n",
       "      <td>0.1055</td>\n",
       "      <td>0.1136</td>\n",
       "    </tr>\n",
       "    <tr>\n",
       "      <th>5</th>\n",
       "      <td>CZ</td>\n",
       "      <td>Czechia</td>\n",
       "      <td>0.0580</td>\n",
       "      <td>0.0602</td>\n",
       "      <td>0.0721</td>\n",
       "      <td>0.0811</td>\n",
       "      <td>0.0848</td>\n",
       "    </tr>\n",
       "    <tr>\n",
       "      <th>6</th>\n",
       "      <td>DE</td>\n",
       "      <td>Germany (until 1990 former territory of the FRG)</td>\n",
       "      <td>0.0468</td>\n",
       "      <td>0.0612</td>\n",
       "      <td>0.0525</td>\n",
       "      <td>0.0651</td>\n",
       "      <td>0.0707</td>\n",
       "    </tr>\n",
       "    <tr>\n",
       "      <th>7</th>\n",
       "      <td>DK</td>\n",
       "      <td>Denmark</td>\n",
       "      <td>0.0433</td>\n",
       "      <td>0.0514</td>\n",
       "      <td>0.0517</td>\n",
       "      <td>0.0426</td>\n",
       "      <td>0.0898</td>\n",
       "    </tr>\n",
       "    <tr>\n",
       "      <th>8</th>\n",
       "      <td>EA</td>\n",
       "      <td>Euro area (EA11-1999, EA12-2001, EA13-2007, EA...</td>\n",
       "      <td>0.0757</td>\n",
       "      <td>0.0837</td>\n",
       "      <td>0.0794</td>\n",
       "      <td>0.0780</td>\n",
       "      <td>0.0893</td>\n",
       "    </tr>\n",
       "    <tr>\n",
       "      <th>9</th>\n",
       "      <td>EE</td>\n",
       "      <td>Estonia</td>\n",
       "      <td>0.0406</td>\n",
       "      <td>0.0489</td>\n",
       "      <td>0.0516</td>\n",
       "      <td>0.0440</td>\n",
       "      <td>0.0850</td>\n",
       "    </tr>\n",
       "  </tbody>\n",
       "</table>\n",
       "</div>"
      ],
      "text/plain": [
       "  country                                       country_name    2017    2018  \\\n",
       "0      AT                                            Austria  0.0598  0.0610   \n",
       "1      BA                             Bosnia and Herzegovina  0.0649  0.0621   \n",
       "2      BE                                            Belgium  0.0672  0.0624   \n",
       "3      BG                                           Bulgaria  0.0817  0.0810   \n",
       "4      CY                                             Cyprus  0.1187  0.1240   \n",
       "5      CZ                                            Czechia  0.0580  0.0602   \n",
       "6      DE   Germany (until 1990 former territory of the FRG)  0.0468  0.0612   \n",
       "7      DK                                            Denmark  0.0433  0.0514   \n",
       "8      EA  Euro area (EA11-1999, EA12-2001, EA13-2007, EA...  0.0757  0.0837   \n",
       "9      EE                                            Estonia  0.0406  0.0489   \n",
       "\n",
       "     2019    2020    2021  \n",
       "0  0.0654  0.0702  0.0723  \n",
       "1  0.0624  0.0648     NaN  \n",
       "2  0.0663  0.0745  0.0890  \n",
       "3  0.0764  0.0730  0.1075  \n",
       "4  0.1271  0.1055  0.1136  \n",
       "5  0.0721  0.0811  0.0848  \n",
       "6  0.0525  0.0651  0.0707  \n",
       "7  0.0517  0.0426  0.0898  \n",
       "8  0.0794  0.0780  0.0893  \n",
       "9  0.0516  0.0440  0.0850  "
      ]
     },
     "metadata": {},
     "output_type": "display_data"
    }
   ],
   "source": [
    "display( ElectPricesNoHouseholds.head( 10 ) )"
   ]
  },
  {
   "cell_type": "markdown",
   "id": "8c871e1c-2769-421e-84b0-3086f2aacb1b",
   "metadata": {},
   "source": [
    "Detectamos Outlier en los valores de los años 1017, 2018, 2019, 2020 y 2021 y lo inicializamos "
   ]
  },
  {
   "cell_type": "code",
   "execution_count": 43,
   "id": "15cca0b1-5544-42e2-be94-becefd3d966e",
   "metadata": {},
   "outputs": [],
   "source": [
    "ElectPricesHouseholds = init_outlier_max(ElectPricesNoHouseholds, '2017')\n",
    "ElectPricesHouseholds = init_outlier_max(ElectPricesNoHouseholds, '2018')\n",
    "ElectPricesHouseholds = init_outlier_max(ElectPricesNoHouseholds, '2019')\n",
    "ElectPricesHouseholds = init_outlier_max(ElectPricesNoHouseholds, '2020')\n",
    "ElectPricesHouseholds = init_outlier_max(ElectPricesNoHouseholds, '2021')"
   ]
  },
  {
   "cell_type": "markdown",
   "id": "9c9b09ee-b1f6-48ad-9674-42335293e4b9",
   "metadata": {},
   "source": [
    "Se evaluan con el estimador de la media los valores nulos"
   ]
  },
  {
   "cell_type": "code",
   "execution_count": 44,
   "id": "76208d3a-c00a-42ab-8482-0bcb483a5ce9",
   "metadata": {},
   "outputs": [],
   "source": [
    "ElectPricesNoHouseholds = median_estimator( ElectPricesNoHouseholds, '2021' )\n",
    "ElectPricesNoHouseholds = median_estimator( ElectPricesNoHouseholds, '2020' )\n",
    "ElectPricesNoHouseholds = median_estimator( ElectPricesNoHouseholds, '2019' )\n",
    "ElectPricesNoHouseholds = median_estimator( ElectPricesNoHouseholds, '2018' )\n",
    "ElectPricesNoHouseholds = median_estimator( ElectPricesNoHouseholds, '2017' )\n"
   ]
  },
  {
   "cell_type": "markdown",
   "id": "83c331e9-dcba-45cd-8bf4-0271380e1de1",
   "metadata": {},
   "source": [
    "Se vuelve a mostrar el diagrama de caja"
   ]
  },
  {
   "cell_type": "code",
   "execution_count": 45,
   "id": "57b8ba7d-d898-40b2-8d98-f0127059140c",
   "metadata": {},
   "outputs": [
    {
     "data": {
      "image/png": "[encoded data removed]",
      "text/plain": [
       "<Figure size 432x288 with 1 Axes>"
      ]
     },
     "metadata": {},
     "output_type": "display_data"
    }
   ],
   "source": [
    "show_boxplot( ElectPricesNoHouseholds )"
   ]
  },
  {
   "cell_type": "markdown",
   "id": "8a753b1c-69a0-461e-85c3-9342bafd5b5b",
   "metadata": {},
   "source": [
    "### [2.6.6.] _Conclusión de análisis inicial de datos:_\n",
    "\n",
    "Descartamos continuar el análisis del \"Gas\" en el caso de los precios de los consumos de las empresas, ya que los datos obtenidos son una muestra demasiado pequeña, en concreto en los años 2017 y 2018 (ver dataset [data_gas_prices_no_household_consumers.csv](subdataset/data_gas_prices_no_household_consumers.csv))."
   ]
  },
  {
   "cell_type": "markdown",
   "id": "88c7dfbe-0464-4ebc-b20a-7eb23c59daac",
   "metadata": {
    "tags": []
   },
   "source": [
    "## [2.7.] Generación del dataset Final de trabajo"
   ]
  },
  {
   "cell_type": "markdown",
   "id": "e0ecb1a2-9a36-429a-b6f0-69bfc001e1e4",
   "metadata": {},
   "source": [
    "Generamos El Dataset final a exportar, con los datos posibles "
   ]
  },
  {
   "cell_type": "code",
   "execution_count": 46,
   "id": "47ac9f1e-077c-4596-8d87-2338760cac13",
   "metadata": {},
   "outputs": [],
   "source": [
    "dElectCol = pd.merge(\n",
    "    ElectPricesHouseholds, \n",
    "    ElectPricesNoHouseholds.drop(['country_name'], axis=1), \n",
    "    on='country',\n",
    "    suffixes=('_ElectHouse', '_ElectNoHouse')\n",
    ")\n",
    "\n",
    "dGasCol = pd.merge(\n",
    "    GasPricesHousehold.drop(['country_name'], axis=1), \n",
    "    GasPricesNoHousehold.drop(['country_name'], axis=1), \n",
    "    on='country',\n",
    "    suffixes=('_GasHouse', '_GasNoHouse')\n",
    ")\n",
    "\n",
    "dEnergyCol = pd.merge(\n",
    "    dElectCol, \n",
    "    dGasCol, \n",
    "    on='country'\n",
    ")\n"
   ]
  },
  {
   "cell_type": "markdown",
   "id": "a056f117-8d88-48c9-91a6-57040c9e1aca",
   "metadata": {},
   "source": [
    "Mostramos el dataset final a publicar:"
   ]
  },
  {
   "cell_type": "code",
   "execution_count": 47,
   "id": "33d248e6-b8d7-4eec-8cd9-4d8fff44825c",
   "metadata": {},
   "outputs": [
    {
     "data": {
      "text/html": [
       "<div>\n",
       "<style scoped>\n",
       "    .dataframe tbody tr th:only-of-type {\n",
       "        vertical-align: middle;\n",
       "    }\n",
       "\n",
       "    .dataframe tbody tr th {\n",
       "        vertical-align: top;\n",
       "    }\n",
       "\n",
       "    .dataframe thead th {\n",
       "        text-align: right;\n",
       "    }\n",
       "</style>\n",
       "<table border=\"1\" class=\"dataframe\">\n",
       "  <thead>\n",
       "    <tr style=\"text-align: right;\">\n",
       "      <th></th>\n",
       "      <th>country</th>\n",
       "      <th>country_name</th>\n",
       "      <th>2017_ElectHouse</th>\n",
       "      <th>2018_ElectHouse</th>\n",
       "      <th>2019_ElectHouse</th>\n",
       "      <th>2020_ElectHouse</th>\n",
       "      <th>2021_ElectHouse</th>\n",
       "      <th>2017_ElectNoHouse</th>\n",
       "      <th>2018_ElectNoHouse</th>\n",
       "      <th>2019_ElectNoHouse</th>\n",
       "      <th>...</th>\n",
       "      <th>2017_GasHouse</th>\n",
       "      <th>2018_GasHouse</th>\n",
       "      <th>2019_GasHouse</th>\n",
       "      <th>2020_GasHouse</th>\n",
       "      <th>2021_GasHouse</th>\n",
       "      <th>2017_GasNoHouse</th>\n",
       "      <th>2018_GasNoHouse</th>\n",
       "      <th>2019_GasNoHouse</th>\n",
       "      <th>2020_GasNoHouse</th>\n",
       "      <th>2021_GasNoHouse</th>\n",
       "    </tr>\n",
       "  </thead>\n",
       "  <tbody>\n",
       "    <tr>\n",
       "      <th>0</th>\n",
       "      <td>AT</td>\n",
       "      <td>Austria</td>\n",
       "      <td>0.0598</td>\n",
       "      <td>0.0610</td>\n",
       "      <td>0.0654</td>\n",
       "      <td>0.0702</td>\n",
       "      <td>0.0723</td>\n",
       "      <td>0.0598</td>\n",
       "      <td>0.0610</td>\n",
       "      <td>0.0654</td>\n",
       "      <td>...</td>\n",
       "      <td>0.0299</td>\n",
       "      <td>0.0304</td>\n",
       "      <td>0.0312</td>\n",
       "      <td>0.0308</td>\n",
       "      <td>0.0316</td>\n",
       "      <td>0.022</td>\n",
       "      <td>0.024</td>\n",
       "      <td>0.0184</td>\n",
       "      <td>0.0168</td>\n",
       "      <td>0.0297</td>\n",
       "    </tr>\n",
       "    <tr>\n",
       "      <th>1</th>\n",
       "      <td>BA</td>\n",
       "      <td>Bosnia and Herzegovina</td>\n",
       "      <td>0.0649</td>\n",
       "      <td>0.0621</td>\n",
       "      <td>0.0624</td>\n",
       "      <td>0.0648</td>\n",
       "      <td>0.0793</td>\n",
       "      <td>0.0649</td>\n",
       "      <td>0.0621</td>\n",
       "      <td>0.0624</td>\n",
       "      <td>...</td>\n",
       "      <td>0.0240</td>\n",
       "      <td>0.0240</td>\n",
       "      <td>0.0249</td>\n",
       "      <td>0.0258</td>\n",
       "      <td>0.0251</td>\n",
       "      <td>0.022</td>\n",
       "      <td>0.024</td>\n",
       "      <td>0.0257</td>\n",
       "      <td>0.0259</td>\n",
       "      <td>0.0248</td>\n",
       "    </tr>\n",
       "    <tr>\n",
       "      <th>2</th>\n",
       "      <td>BE</td>\n",
       "      <td>Belgium</td>\n",
       "      <td>0.0672</td>\n",
       "      <td>0.0624</td>\n",
       "      <td>0.0663</td>\n",
       "      <td>0.0745</td>\n",
       "      <td>0.0890</td>\n",
       "      <td>0.0672</td>\n",
       "      <td>0.0624</td>\n",
       "      <td>0.0663</td>\n",
       "      <td>...</td>\n",
       "      <td>0.0283</td>\n",
       "      <td>0.0288</td>\n",
       "      <td>0.0289</td>\n",
       "      <td>0.0252</td>\n",
       "      <td>0.0315</td>\n",
       "      <td>0.022</td>\n",
       "      <td>0.024</td>\n",
       "      <td>0.0189</td>\n",
       "      <td>0.0148</td>\n",
       "      <td>0.0318</td>\n",
       "    </tr>\n",
       "    <tr>\n",
       "      <th>3</th>\n",
       "      <td>BG</td>\n",
       "      <td>Bulgaria</td>\n",
       "      <td>0.0817</td>\n",
       "      <td>0.0810</td>\n",
       "      <td>0.0764</td>\n",
       "      <td>0.0730</td>\n",
       "      <td>0.1075</td>\n",
       "      <td>0.0817</td>\n",
       "      <td>0.0810</td>\n",
       "      <td>0.0764</td>\n",
       "      <td>...</td>\n",
       "      <td>0.0170</td>\n",
       "      <td>0.0209</td>\n",
       "      <td>0.0240</td>\n",
       "      <td>0.0177</td>\n",
       "      <td>0.0331</td>\n",
       "      <td>0.022</td>\n",
       "      <td>0.024</td>\n",
       "      <td>0.0213</td>\n",
       "      <td>0.0142</td>\n",
       "      <td>0.0299</td>\n",
       "    </tr>\n",
       "    <tr>\n",
       "      <th>4</th>\n",
       "      <td>CZ</td>\n",
       "      <td>Czechia</td>\n",
       "      <td>0.0580</td>\n",
       "      <td>0.0602</td>\n",
       "      <td>0.0721</td>\n",
       "      <td>0.0811</td>\n",
       "      <td>0.0848</td>\n",
       "      <td>0.0580</td>\n",
       "      <td>0.0602</td>\n",
       "      <td>0.0721</td>\n",
       "      <td>...</td>\n",
       "      <td>0.0360</td>\n",
       "      <td>0.0390</td>\n",
       "      <td>0.0455</td>\n",
       "      <td>0.0431</td>\n",
       "      <td>0.0448</td>\n",
       "      <td>0.022</td>\n",
       "      <td>0.024</td>\n",
       "      <td>0.0226</td>\n",
       "      <td>0.0192</td>\n",
       "      <td>0.0259</td>\n",
       "    </tr>\n",
       "  </tbody>\n",
       "</table>\n",
       "<p>5 rows × 22 columns</p>\n",
       "</div>"
      ],
      "text/plain": [
       "  country            country_name  2017_ElectHouse  2018_ElectHouse  \\\n",
       "0      AT                 Austria           0.0598           0.0610   \n",
       "1      BA  Bosnia and Herzegovina           0.0649           0.0621   \n",
       "2      BE                 Belgium           0.0672           0.0624   \n",
       "3      BG                Bulgaria           0.0817           0.0810   \n",
       "4      CZ                 Czechia           0.0580           0.0602   \n",
       "\n",
       "   2019_ElectHouse  2020_ElectHouse  2021_ElectHouse  2017_ElectNoHouse  \\\n",
       "0           0.0654           0.0702           0.0723             0.0598   \n",
       "1           0.0624           0.0648           0.0793             0.0649   \n",
       "2           0.0663           0.0745           0.0890             0.0672   \n",
       "3           0.0764           0.0730           0.1075             0.0817   \n",
       "4           0.0721           0.0811           0.0848             0.0580   \n",
       "\n",
       "   2018_ElectNoHouse  2019_ElectNoHouse  ...  2017_GasHouse  2018_GasHouse  \\\n",
       "0             0.0610             0.0654  ...         0.0299         0.0304   \n",
       "1             0.0621             0.0624  ...         0.0240         0.0240   \n",
       "2             0.0624             0.0663  ...         0.0283         0.0288   \n",
       "3             0.0810             0.0764  ...         0.0170         0.0209   \n",
       "4             0.0602             0.0721  ...         0.0360         0.0390   \n",
       "\n",
       "   2019_GasHouse  2020_GasHouse  2021_GasHouse  2017_GasNoHouse  \\\n",
       "0         0.0312         0.0308         0.0316            0.022   \n",
       "1         0.0249         0.0258         0.0251            0.022   \n",
       "2         0.0289         0.0252         0.0315            0.022   \n",
       "3         0.0240         0.0177         0.0331            0.022   \n",
       "4         0.0455         0.0431         0.0448            0.022   \n",
       "\n",
       "   2018_GasNoHouse  2019_GasNoHouse  2020_GasNoHouse  2021_GasNoHouse  \n",
       "0            0.024           0.0184           0.0168           0.0297  \n",
       "1            0.024           0.0257           0.0259           0.0248  \n",
       "2            0.024           0.0189           0.0148           0.0318  \n",
       "3            0.024           0.0213           0.0142           0.0299  \n",
       "4            0.024           0.0226           0.0192           0.0259  \n",
       "\n",
       "[5 rows x 22 columns]"
      ]
     },
     "execution_count": 47,
     "metadata": {},
     "output_type": "execute_result"
    }
   ],
   "source": [
    "dEnergyCol.head()"
   ]
  },
  {
   "cell_type": "markdown",
   "id": "95d81764-f02a-4892-96d5-5a8588cdbd9c",
   "metadata": {},
   "source": [
    "Columnas del dataset a Publicar:"
   ]
  },
  {
   "cell_type": "code",
   "execution_count": 48,
   "id": "39720a6d-faa7-4a6b-9e27-546c0ff129af",
   "metadata": {},
   "outputs": [
    {
     "data": {
      "text/plain": [
       "country               object\n",
       "country_name          object\n",
       "2017_ElectHouse      float64\n",
       "2018_ElectHouse      float64\n",
       "2019_ElectHouse      float64\n",
       "2020_ElectHouse      float64\n",
       "2021_ElectHouse      float64\n",
       "2017_ElectNoHouse    float64\n",
       "2018_ElectNoHouse    float64\n",
       "2019_ElectNoHouse    float64\n",
       "2020_ElectNoHouse    float64\n",
       "2021_ElectNoHouse    float64\n",
       "2017_GasHouse        float64\n",
       "2018_GasHouse        float64\n",
       "2019_GasHouse        float64\n",
       "2020_GasHouse        float64\n",
       "2021_GasHouse        float64\n",
       "2017_GasNoHouse      float64\n",
       "2018_GasNoHouse      float64\n",
       "2019_GasNoHouse      float64\n",
       "2020_GasNoHouse      float64\n",
       "2021_GasNoHouse      float64\n",
       "dtype: object"
      ]
     },
     "metadata": {},
     "output_type": "display_data"
    }
   ],
   "source": [
    "display( dEnergyCol.dtypes )"
   ]
  },
  {
   "cell_type": "markdown",
   "id": "a080e08e-0b4f-4b6b-b0ae-f2d7776c432d",
   "metadata": {
    "tags": []
   },
   "source": [
    "### [2.7.1.] Exportación dataset Final en formato CSV\n",
    "\n",
    "Se exporta el dataset final en el directorio `dataset` con el nombre de fichero `energy_price_dataset.csv`"
   ]
  },
  {
   "cell_type": "code",
   "execution_count": 49,
   "id": "b50edf1d-0e4f-4268-af59-9dd2f80beab1",
   "metadata": {},
   "outputs": [],
   "source": [
    "export_dataframe( \n",
    "    df = dEnergyCol, \n",
    "    file_name = 'energy_price_dataset', \n",
    "    directory = 'dataset' \n",
    ") "
   ]
  },
  {
   "cell_type": "markdown",
   "id": "c64f39b1-08da-481c-b799-a89788a4d0b3",
   "metadata": {
    "tags": []
   },
   "source": [
    "# [3.] Dataset a analizar a partir del dataset publicado"
   ]
  },
  {
   "cell_type": "markdown",
   "id": "986cb579-fc97-48d3-abfc-b75a12cf7f1f",
   "metadata": {},
   "source": [
    "De las conclusiones del anterior estudio vemos que no hay suficientes datos en los datos relativos al precio del gas de las empresas para poder hacer un análisis. Decimos entonces continuar sólo con los datos que hacen referencia a los precios del gas y de la electricidad relativos a entornos domésticos.\n",
    "\n",
    "Costruimos un dataset filtrando solo estos datos, eliminando los datos relativos al precio del gas y a la electricidad de las empresas en el dataset original y también se eliminan los datos acumulados relativos a la Unión Europea:"
   ]
  },
  {
   "cell_type": "code",
   "execution_count": 50,
   "id": "25122476-34b8-4c01-b2e0-460eea40af9f",
   "metadata": {},
   "outputs": [],
   "source": [
    "dEnergyHouseCol = dEnergyCol.loc[\n",
    "                  : ,~dEnergyCol.columns.str.endswith('NoHouse')\n",
    "                ].loc[\n",
    "                  (dEnergyCol[\"country\"] != \"EU27_2020\" )\n",
    "                ].loc[\n",
    "                  (dEnergyCol[\"country\"] != \"EA\" )\n",
    "                ]"
   ]
  },
  {
   "cell_type": "markdown",
   "id": "9413d524-9165-48f3-90c1-6bbd72c061cc",
   "metadata": {},
   "source": [
    "Columnas del dataset a Analizar:"
   ]
  },
  {
   "cell_type": "code",
   "execution_count": 51,
   "id": "e6ff838b-33ad-4b6f-bf3b-5bc28ae07c85",
   "metadata": {},
   "outputs": [
    {
     "data": {
      "text/plain": [
       "country             object\n",
       "country_name        object\n",
       "2017_ElectHouse    float64\n",
       "2018_ElectHouse    float64\n",
       "2019_ElectHouse    float64\n",
       "2020_ElectHouse    float64\n",
       "2021_ElectHouse    float64\n",
       "2017_GasHouse      float64\n",
       "2018_GasHouse      float64\n",
       "2019_GasHouse      float64\n",
       "2020_GasHouse      float64\n",
       "2021_GasHouse      float64\n",
       "dtype: object"
      ]
     },
     "metadata": {},
     "output_type": "display_data"
    }
   ],
   "source": [
    "display( dEnergyHouseCol.dtypes )"
   ]
  },
  {
   "cell_type": "markdown",
   "id": "5963730a-af46-4309-adf0-2015914e3a25",
   "metadata": {},
   "source": [
    "Se presenta una muestra del dataset filtrando sólamente los datos domésticos"
   ]
  },
  {
   "cell_type": "code",
   "execution_count": 52,
   "id": "0b9e1199-fc65-4cf1-967b-7492460ddee7",
   "metadata": {},
   "outputs": [
    {
     "data": {
      "text/html": [
       "<div>\n",
       "<style scoped>\n",
       "    .dataframe tbody tr th:only-of-type {\n",
       "        vertical-align: middle;\n",
       "    }\n",
       "\n",
       "    .dataframe tbody tr th {\n",
       "        vertical-align: top;\n",
       "    }\n",
       "\n",
       "    .dataframe thead th {\n",
       "        text-align: right;\n",
       "    }\n",
       "</style>\n",
       "<table border=\"1\" class=\"dataframe\">\n",
       "  <thead>\n",
       "    <tr style=\"text-align: right;\">\n",
       "      <th></th>\n",
       "      <th>country</th>\n",
       "      <th>country_name</th>\n",
       "      <th>2017_ElectHouse</th>\n",
       "      <th>2018_ElectHouse</th>\n",
       "      <th>2019_ElectHouse</th>\n",
       "      <th>2020_ElectHouse</th>\n",
       "      <th>2021_ElectHouse</th>\n",
       "      <th>2017_GasHouse</th>\n",
       "      <th>2018_GasHouse</th>\n",
       "      <th>2019_GasHouse</th>\n",
       "      <th>2020_GasHouse</th>\n",
       "      <th>2021_GasHouse</th>\n",
       "    </tr>\n",
       "  </thead>\n",
       "  <tbody>\n",
       "    <tr>\n",
       "      <th>0</th>\n",
       "      <td>AT</td>\n",
       "      <td>Austria</td>\n",
       "      <td>0.0598</td>\n",
       "      <td>0.0610</td>\n",
       "      <td>0.0654</td>\n",
       "      <td>0.0702</td>\n",
       "      <td>0.0723</td>\n",
       "      <td>0.0299</td>\n",
       "      <td>0.0304</td>\n",
       "      <td>0.0312</td>\n",
       "      <td>0.0308</td>\n",
       "      <td>0.0316</td>\n",
       "    </tr>\n",
       "    <tr>\n",
       "      <th>1</th>\n",
       "      <td>BA</td>\n",
       "      <td>Bosnia and Herzegovina</td>\n",
       "      <td>0.0649</td>\n",
       "      <td>0.0621</td>\n",
       "      <td>0.0624</td>\n",
       "      <td>0.0648</td>\n",
       "      <td>0.0793</td>\n",
       "      <td>0.0240</td>\n",
       "      <td>0.0240</td>\n",
       "      <td>0.0249</td>\n",
       "      <td>0.0258</td>\n",
       "      <td>0.0251</td>\n",
       "    </tr>\n",
       "    <tr>\n",
       "      <th>2</th>\n",
       "      <td>BE</td>\n",
       "      <td>Belgium</td>\n",
       "      <td>0.0672</td>\n",
       "      <td>0.0624</td>\n",
       "      <td>0.0663</td>\n",
       "      <td>0.0745</td>\n",
       "      <td>0.0890</td>\n",
       "      <td>0.0283</td>\n",
       "      <td>0.0288</td>\n",
       "      <td>0.0289</td>\n",
       "      <td>0.0252</td>\n",
       "      <td>0.0315</td>\n",
       "    </tr>\n",
       "    <tr>\n",
       "      <th>3</th>\n",
       "      <td>BG</td>\n",
       "      <td>Bulgaria</td>\n",
       "      <td>0.0817</td>\n",
       "      <td>0.0810</td>\n",
       "      <td>0.0764</td>\n",
       "      <td>0.0730</td>\n",
       "      <td>0.1075</td>\n",
       "      <td>0.0170</td>\n",
       "      <td>0.0209</td>\n",
       "      <td>0.0240</td>\n",
       "      <td>0.0177</td>\n",
       "      <td>0.0331</td>\n",
       "    </tr>\n",
       "    <tr>\n",
       "      <th>4</th>\n",
       "      <td>CZ</td>\n",
       "      <td>Czechia</td>\n",
       "      <td>0.0580</td>\n",
       "      <td>0.0602</td>\n",
       "      <td>0.0721</td>\n",
       "      <td>0.0811</td>\n",
       "      <td>0.0848</td>\n",
       "      <td>0.0360</td>\n",
       "      <td>0.0390</td>\n",
       "      <td>0.0455</td>\n",
       "      <td>0.0431</td>\n",
       "      <td>0.0448</td>\n",
       "    </tr>\n",
       "  </tbody>\n",
       "</table>\n",
       "</div>"
      ],
      "text/plain": [
       "  country            country_name  2017_ElectHouse  2018_ElectHouse  \\\n",
       "0      AT                 Austria           0.0598           0.0610   \n",
       "1      BA  Bosnia and Herzegovina           0.0649           0.0621   \n",
       "2      BE                 Belgium           0.0672           0.0624   \n",
       "3      BG                Bulgaria           0.0817           0.0810   \n",
       "4      CZ                 Czechia           0.0580           0.0602   \n",
       "\n",
       "   2019_ElectHouse  2020_ElectHouse  2021_ElectHouse  2017_GasHouse  \\\n",
       "0           0.0654           0.0702           0.0723         0.0299   \n",
       "1           0.0624           0.0648           0.0793         0.0240   \n",
       "2           0.0663           0.0745           0.0890         0.0283   \n",
       "3           0.0764           0.0730           0.1075         0.0170   \n",
       "4           0.0721           0.0811           0.0848         0.0360   \n",
       "\n",
       "   2018_GasHouse  2019_GasHouse  2020_GasHouse  2021_GasHouse  \n",
       "0         0.0304         0.0312         0.0308         0.0316  \n",
       "1         0.0240         0.0249         0.0258         0.0251  \n",
       "2         0.0288         0.0289         0.0252         0.0315  \n",
       "3         0.0209         0.0240         0.0177         0.0331  \n",
       "4         0.0390         0.0455         0.0431         0.0448  "
      ]
     },
     "metadata": {},
     "output_type": "display_data"
    }
   ],
   "source": [
    "display( dEnergyHouseCol.head() )"
   ]
  },
  {
   "cell_type": "code",
   "execution_count": null,
   "id": "f6ad172b-7127-4c46-a4a2-b7fd57d147ff",
   "metadata": {},
   "outputs": [],
   "source": [
    "\n"
   ]
  },
  {
   "cell_type": "markdown",
   "id": "088be955-de76-4969-8bde-42253cfac20e",
   "metadata": {},
   "source": [
    "# [4.] Análisis de los datos"
   ]
  },
  {
   "cell_type": "markdown",
   "id": "bdee6e72-164b-4edc-ae9d-0d83b61c236e",
   "metadata": {},
   "source": [
    "## [4.1.] Selección del grupo de datos\n",
    "\n",
    "Teniendo por un lado un histórico de los precios de la electricidad y por otro los precios del gas por cada país. Se pretende hacer un estudio de la relación que existe entre ambos precios, tanto año a año como utilizando todos los registros de todos los años.\n",
    "\n",
    "Para ello se procesa el dataset de los datos de precios de la energia doméstica para que cada registro tenga la información del país, del año y ambos precios."
   ]
  },
  {
   "cell_type": "markdown",
   "id": "edb07d26-f505-4f8d-b559-dcb19dd82bb4",
   "metadata": {
    "tags": []
   },
   "source": [
    "### [4.1.1.] Crear el dataset de trabajo"
   ]
  },
  {
   "cell_type": "markdown",
   "id": "42032da7-f22d-41b1-a37b-b1264133e076",
   "metadata": {},
   "source": [
    "Primero se crea una función`reduce_dataset` que permite añadir los precios de la electricidad y del gas. Cada registro tendrá la información del país, del año que se pasa como argumento, al que se refieren los precios, y las columnas del precio del gas y la electricidad. "
   ]
  },
  {
   "cell_type": "code",
   "execution_count": 53,
   "id": "7d746c31-9c55-4a6f-bad5-1fa1edd118dc",
   "metadata": {},
   "outputs": [],
   "source": [
    "def reduce_dataset( original_df, year ):\n",
    "    # Nombre de las columnas de la electricidad y gas del año pasado por argumento\n",
    "    column_name_electricity =  '%s_ElectHouse' % year\n",
    "    column_name_gas =  '%s_GasHouse' % year \n",
    "    # Se obtiene las columnas relacionas con el país, el precio de la electricidad y el gas\n",
    "    df =  original_df.loc[:,['country', column_name_electricity , column_name_gas]]\n",
    "    # Se añade la columna del año\n",
    "    df['Year'] = year    \n",
    "    # Se renombran las columnas de electricidad y gas por precio de electricidad y gas respectivamente\n",
    "    return df.rename(\n",
    "        columns= { \n",
    "                    column_name_electricity: \"ElectricityPrice\", \n",
    "                    column_name_gas        : \"GasPrice\"  \n",
    "                 }\n",
    "    )"
   ]
  },
  {
   "cell_type": "markdown",
   "id": "8e2bdd9d-76ea-4d72-8810-6a892438f4e5",
   "metadata": {},
   "source": [
    "Se concatenan todos los años para crear el dataset de trabajo. También se resetea el índice del dataframe creado."
   ]
  },
  {
   "cell_type": "code",
   "execution_count": 54,
   "id": "b3ffca94-f83d-497f-bcdb-0a39ac3c07e4",
   "metadata": {
    "tags": []
   },
   "outputs": [],
   "source": [
    "df_work = pd.concat(    \n",
    "    [\n",
    "        reduce_dataset( dEnergyHouseCol, 2017 ),\n",
    "        reduce_dataset( dEnergyHouseCol, 2018 ),\n",
    "        reduce_dataset( dEnergyHouseCol, 2019 ),\n",
    "        reduce_dataset( dEnergyHouseCol, 2020 ),\n",
    "        reduce_dataset( dEnergyHouseCol, 2021 )\n",
    "    ]\n",
    ")\n",
    "\n",
    "df_work.reset_index(drop=True, inplace=True)"
   ]
  },
  {
   "cell_type": "markdown",
   "id": "4bf3a4cd-09eb-4741-ae52-fa243d07032d",
   "metadata": {},
   "source": [
    "Se muestra los tipos de las columnas del dataset"
   ]
  },
  {
   "cell_type": "code",
   "execution_count": 55,
   "id": "9c1c9eb0-7652-478d-bc0c-ae6ac0fc5f00",
   "metadata": {},
   "outputs": [
    {
     "data": {
      "text/plain": [
       "country              object\n",
       "ElectricityPrice    float64\n",
       "GasPrice            float64\n",
       "Year                  int64\n",
       "dtype: object"
      ]
     },
     "metadata": {},
     "output_type": "display_data"
    }
   ],
   "source": [
    "display( df_work.dtypes )"
   ]
  },
  {
   "cell_type": "markdown",
   "id": "9c247cdb-0885-4d00-8e15-ff063494f52f",
   "metadata": {},
   "source": [
    "Se muestra un ejemplo de los datos del dataset de trabajo que consta de 160 registros"
   ]
  },
  {
   "cell_type": "code",
   "execution_count": 56,
   "id": "009927a6-db22-4181-af68-58fe349f315c",
   "metadata": {},
   "outputs": [
    {
     "data": {
      "text/html": [
       "<div>\n",
       "<style scoped>\n",
       "    .dataframe tbody tr th:only-of-type {\n",
       "        vertical-align: middle;\n",
       "    }\n",
       "\n",
       "    .dataframe tbody tr th {\n",
       "        vertical-align: top;\n",
       "    }\n",
       "\n",
       "    .dataframe thead th {\n",
       "        text-align: right;\n",
       "    }\n",
       "</style>\n",
       "<table border=\"1\" class=\"dataframe\">\n",
       "  <thead>\n",
       "    <tr style=\"text-align: right;\">\n",
       "      <th></th>\n",
       "      <th>country</th>\n",
       "      <th>ElectricityPrice</th>\n",
       "      <th>GasPrice</th>\n",
       "      <th>Year</th>\n",
       "    </tr>\n",
       "  </thead>\n",
       "  <tbody>\n",
       "    <tr>\n",
       "      <th>0</th>\n",
       "      <td>AT</td>\n",
       "      <td>0.0598</td>\n",
       "      <td>0.0299</td>\n",
       "      <td>2017</td>\n",
       "    </tr>\n",
       "    <tr>\n",
       "      <th>1</th>\n",
       "      <td>BA</td>\n",
       "      <td>0.0649</td>\n",
       "      <td>0.0240</td>\n",
       "      <td>2017</td>\n",
       "    </tr>\n",
       "    <tr>\n",
       "      <th>2</th>\n",
       "      <td>BE</td>\n",
       "      <td>0.0672</td>\n",
       "      <td>0.0283</td>\n",
       "      <td>2017</td>\n",
       "    </tr>\n",
       "    <tr>\n",
       "      <th>3</th>\n",
       "      <td>BG</td>\n",
       "      <td>0.0817</td>\n",
       "      <td>0.0170</td>\n",
       "      <td>2017</td>\n",
       "    </tr>\n",
       "    <tr>\n",
       "      <th>4</th>\n",
       "      <td>CZ</td>\n",
       "      <td>0.0580</td>\n",
       "      <td>0.0360</td>\n",
       "      <td>2017</td>\n",
       "    </tr>\n",
       "    <tr>\n",
       "      <th>...</th>\n",
       "      <td>...</td>\n",
       "      <td>...</td>\n",
       "      <td>...</td>\n",
       "      <td>...</td>\n",
       "    </tr>\n",
       "    <tr>\n",
       "      <th>155</th>\n",
       "      <td>SI</td>\n",
       "      <td>0.0641</td>\n",
       "      <td>0.0264</td>\n",
       "      <td>2021</td>\n",
       "    </tr>\n",
       "    <tr>\n",
       "      <th>156</th>\n",
       "      <td>SK</td>\n",
       "      <td>0.0725</td>\n",
       "      <td>0.0195</td>\n",
       "      <td>2021</td>\n",
       "    </tr>\n",
       "    <tr>\n",
       "      <th>157</th>\n",
       "      <td>TR</td>\n",
       "      <td>0.0518</td>\n",
       "      <td>0.0110</td>\n",
       "      <td>2021</td>\n",
       "    </tr>\n",
       "    <tr>\n",
       "      <th>158</th>\n",
       "      <td>UA</td>\n",
       "      <td>0.0793</td>\n",
       "      <td>0.0303</td>\n",
       "      <td>2021</td>\n",
       "    </tr>\n",
       "    <tr>\n",
       "      <th>159</th>\n",
       "      <td>UK</td>\n",
       "      <td>0.0793</td>\n",
       "      <td>0.0303</td>\n",
       "      <td>2021</td>\n",
       "    </tr>\n",
       "  </tbody>\n",
       "</table>\n",
       "<p>160 rows × 4 columns</p>\n",
       "</div>"
      ],
      "text/plain": [
       "    country  ElectricityPrice  GasPrice  Year\n",
       "0        AT            0.0598    0.0299  2017\n",
       "1        BA            0.0649    0.0240  2017\n",
       "2        BE            0.0672    0.0283  2017\n",
       "3        BG            0.0817    0.0170  2017\n",
       "4        CZ            0.0580    0.0360  2017\n",
       "..      ...               ...       ...   ...\n",
       "155      SI            0.0641    0.0264  2021\n",
       "156      SK            0.0725    0.0195  2021\n",
       "157      TR            0.0518    0.0110  2021\n",
       "158      UA            0.0793    0.0303  2021\n",
       "159      UK            0.0793    0.0303  2021\n",
       "\n",
       "[160 rows x 4 columns]"
      ]
     },
     "metadata": {},
     "output_type": "display_data"
    }
   ],
   "source": [
    "display( df_work )"
   ]
  },
  {
   "cell_type": "markdown",
   "id": "1c2e99c6-8ae5-4e85-9a6c-ea82593b3416",
   "metadata": {},
   "source": [
    "#### Exportación del dataset de trabajo\n",
    "\n",
    "Se exporta el dataset de trabajo en el directorio `dataset` con el nombre de fichero `dataset_work.csv`"
   ]
  },
  {
   "cell_type": "code",
   "execution_count": 57,
   "id": "63fc2569-2720-45a7-908e-4628551a981a",
   "metadata": {},
   "outputs": [],
   "source": [
    "export_dataframe( \n",
    "    df = dEnergyCol, \n",
    "    file_name = 'dataset_work', \n",
    "    directory = 'dataset' \n",
    ") "
   ]
  },
  {
   "cell_type": "markdown",
   "id": "0f53edd4-6659-43e8-8dc5-4d09a7d6e69b",
   "metadata": {},
   "source": [
    "### [4.1.2.] Diagrama de dispersión entre los precios de la electricidad y el gas\n",
    "\n",
    "Para comprobar la dependencia y la correlación entre los precios de la electricidad y el gas de manera gráfica, se muestra el diagrama de dispersión.\n",
    "\n",
    "Para ello se crean dos funciones, `dispersion_graph` que permite la generación del diagrama de dispersión del precio de la electricidad con respecto del gas y `dispersion_graph` que permite generar todos los diagramas de los registros por año.\n",
    "\n",
    "Para este filtrado se utiliza la función `filter_by_year` que filtra los datos del dataset de trabajo de un año determinado. Esta función se usará en pasos posteriores."
   ]
  },
  {
   "cell_type": "code",
   "execution_count": 58,
   "id": "ffee3733-6e56-4612-bc84-1e4aaf09ba4c",
   "metadata": {},
   "outputs": [],
   "source": [
    "def filter_by_year( df, year ):\n",
    "    return df.loc[(df.Year == year)]\n",
    "\n",
    "def dispersion_graph( df, title, ax ):\n",
    "    df.plot(kind='scatter', x =\"GasPrice\", y = \"ElectricityPrice\",  color = \"blue\", ax = ax)\n",
    "    plt.title( title  )\n",
    "    \n",
    "def dispersion_graph_by_year( df_work, ncolumns = 2 ):\n",
    "    years = df_work.Year.unique()\n",
    "    ntotal = len( years  )\n",
    "    nrows = ntotal //  ncolumns\n",
    "    nrows = nrows if ( ntotal %  ncolumns == 0 ) else  nrows + 1\n",
    "    index = 1\n",
    "    for yr in years: \n",
    "        ax1 = plt.subplot(nrows, ncolumns, index )\n",
    "        dispersion_graph( filter_by_year( df_work, yr ), title= \"Year %s\" % yr, ax = ax1 )\n",
    "        index = index + 1"
   ]
  },
  {
   "cell_type": "markdown",
   "id": "07225d74-c05a-4e6d-bf7e-c499953ff3ea",
   "metadata": {},
   "source": [
    "Diagrama de dispersión del precio de la electricidad con respecto al gas para cada año del dataset"
   ]
  },
  {
   "cell_type": "code",
   "execution_count": 59,
   "id": "c0df6543-f90a-4e19-9d12-1298019c5d07",
   "metadata": {},
   "outputs": [
    {
     "data": {
      "image/png": "[encoded data removed]",
      "text/plain": [
       "<Figure size 432x288 with 5 Axes>"
      ]
     },
     "metadata": {},
     "output_type": "display_data"
    }
   ],
   "source": [
    "dispersion_graph_by_year( df_work )\n",
    "plt.subplots_adjust( wspace = 0.2, hspace= 0.3, right = 2, top = 3)\n",
    "plt.show()"
   ]
  },
  {
   "cell_type": "markdown",
   "id": "dc00479e-5a6d-4e0f-93df-f4999442048b",
   "metadata": {},
   "source": [
    "Se crea el diagrama también para todos los registros sin filtrar por año."
   ]
  },
  {
   "cell_type": "code",
   "execution_count": 60,
   "id": "c2540cf3-6372-45db-bac5-6fcd7e206855",
   "metadata": {},
   "outputs": [
    {
     "data": {
      "image/png": "[encoded data removed]",
      "text/plain": [
       "<Figure size 432x288 with 1 Axes>"
      ]
     },
     "metadata": {},
     "output_type": "display_data"
    }
   ],
   "source": [
    "dispersion_graph( df_work, title= \"All years\", ax = None )\n",
    "plt.show()"
   ]
  },
  {
   "cell_type": "markdown",
   "id": "11dd0a09-e401-49ee-a46d-1c7d6ad72cc5",
   "metadata": {},
   "source": [
    "Como se puede apreciar en cada uno de los gráficos anteriores, hay una distribución uniforme y no se intuye una dependencia y correlación entre los dos precios."
   ]
  },
  {
   "cell_type": "markdown",
   "id": "1b64ebd6-399a-480f-807a-f04e011e6007",
   "metadata": {},
   "source": [
    "### [4.1.3.] Valores de los precios de la electricidad\n",
    "\n",
    "Se crea una función de utilidad `get_electricityPrice` que permitirá obtener los datos de la electricidad a partir de un datafra en el formato necesario para poder ejecutar las funciones de modelos en pasos posteriores."
   ]
  },
  {
   "cell_type": "code",
   "execution_count": 61,
   "id": "fed6ccb8-9a4d-4d29-82cd-ab440da9c044",
   "metadata": {},
   "outputs": [
    {
     "data": {
      "text/plain": [
       "array([0.0598 , 0.0649 , 0.0672 , 0.0817 , 0.058  , 0.0468 , 0.0433 ,\n",
       "       0.0406 , 0.081  , 0.1541 , 0.0641 , 0.0581 , 0.0574 , 0.0536 ,\n",
       "       0.0959 , 0.0949 , 0.0461 , 0.0581 , 0.0515 , 0.0675 , 0.0517 ,\n",
       "       0.0581 , 0.0629 , 0.0599 , 0.0468 , 0.0364 , 0.0348 , 0.044  ,\n",
       "       0.0464 , 0.0533 , 0.0581 , 0.0871 , 0.061  , 0.0621 , 0.0624 ,\n",
       "       0.081  , 0.0602 , 0.0612 , 0.0514 , 0.0489 , 0.0876 , 0.05975,\n",
       "       0.0636 , 0.0364 , 0.0613 , 0.0573 , 0.1091 , 0.1022 , 0.0488 ,\n",
       "       0.058  , 0.054  , 0.0646 , 0.0505 , 0.05975, 0.0609 , 0.0593 ,\n",
       "       0.0539 , 0.0389 , 0.0434 , 0.051  , 0.0526 , 0.0446 , 0.05975,\n",
       "       0.1015 , 0.0654 , 0.0624 , 0.0663 , 0.0764 , 0.0721 , 0.0525 ,\n",
       "       0.0517 , 0.0516 , 0.0912 , 0.1242 , 0.0685 , 0.0363 , 0.0756 ,\n",
       "       0.0695 , 0.1236 , 0.1112 , 0.0542 , 0.0615 , 0.0597 , 0.0609 ,\n",
       "       0.0515 , 0.06345, 0.0602 , 0.0674 , 0.0636 , 0.0395 , 0.0462 ,\n",
       "       0.0577 , 0.0633 , 0.066  , 0.06345, 0.0912 , 0.0702 , 0.0648 ,\n",
       "       0.0745 , 0.073  , 0.0811 , 0.0651 , 0.0426 , 0.044  , 0.0933 ,\n",
       "       0.0854 , 0.0757 , 0.0413 , 0.0728 , 0.068  , 0.1189 , 0.1067 ,\n",
       "       0.0473 , 0.0607 , 0.0567 , 0.0637 , 0.054  , 0.06605, 0.067  ,\n",
       "       0.0806 , 0.0711 , 0.0393 , 0.0373 , 0.0639 , 0.0721 , 0.0516 ,\n",
       "       0.0599 , 0.06605, 0.0723 , 0.0793 , 0.089  , 0.1075 , 0.0848 ,\n",
       "       0.0707 , 0.0898 , 0.085  , 0.1444 , 0.0901 , 0.0793 , 0.0634 ,\n",
       "       0.0818 , 0.0762 , 0.1571 , 0.1353 , 0.0809 , 0.072  , 0.0787 ,\n",
       "       0.0542 , 0.0996 , 0.0793 , 0.0651 , 0.0744 , 0.0801 , 0.0379 ,\n",
       "       0.0692 , 0.0641 , 0.0725 , 0.0518 , 0.0793 , 0.0793 ])"
      ]
     },
     "metadata": {},
     "output_type": "display_data"
    }
   ],
   "source": [
    "def get_electricityPrice( df ):    \n",
    "    return df.loc[:, \"ElectricityPrice\"].to_numpy() \n",
    "\n",
    "display( get_electricityPrice( df_work ) )\n"
   ]
  },
  {
   "cell_type": "markdown",
   "id": "3913ca75-1a48-467a-b7bc-035a34daae04",
   "metadata": {},
   "source": [
    "### [4.1.4.] Valores de los precios del gas\n",
    "\n",
    "Se crea la función `get_gasPriceValues` similar a la anterior pero en este caso extrayendo los precios del gas.\n"
   ]
  },
  {
   "cell_type": "code",
   "execution_count": 62,
   "id": "c9c97dd2-484a-4a98-94a8-5b0b5a6ab691",
   "metadata": {},
   "outputs": [
    {
     "data": {
      "text/plain": [
       "array([0.0299 , 0.024  , 0.0283 , 0.017  , 0.036  , 0.0243 , 0.0234 ,\n",
       "       0.0234 , 0.0243 , 0.0243 , 0.031  , 0.0243 , 0.0206 , 0.019  ,\n",
       "       0.0302 , 0.0243 , 0.0174 , 0.0216 , 0.0207 , 0.0234 , 0.0371 ,\n",
       "       0.0293 , 0.0237 , 0.0333 , 0.0168 , 0.0264 , 0.0314 , 0.0243 ,\n",
       "       0.0213 , 0.0159 , 0.0243 , 0.0308 , 0.0304 , 0.024  , 0.0288 ,\n",
       "       0.0209 , 0.039  , 0.0255 , 0.0259 , 0.0239 , 0.0311 , 0.0255 ,\n",
       "       0.0317 , 0.008  , 0.0212 , 0.0183 , 0.0304 , 0.0255 , 0.0216 ,\n",
       "       0.0245 , 0.023  , 0.0186 , 0.0357 , 0.0305 , 0.0246 , 0.0326 ,\n",
       "       0.0197 , 0.0266 , 0.0405 , 0.0255 , 0.0218 , 0.0118 , 0.0255 ,\n",
       "       0.0329 , 0.0312 , 0.0249 , 0.0289 , 0.024  , 0.0455 , 0.0278 ,\n",
       "       0.0209 , 0.0253 , 0.0338 , 0.0318 , 0.0342 , 0.0075 , 0.0229 ,\n",
       "       0.0184 , 0.0351 , 0.0366 , 0.0238 , 0.0258 , 0.0227 , 0.021  ,\n",
       "       0.0454 , 0.0339 , 0.0274 , 0.0347 , 0.0204 , 0.0267 , 0.0405 ,\n",
       "       0.0267 , 0.0234 , 0.0142 , 0.0276 , 0.0346 , 0.0308 , 0.0258 ,\n",
       "       0.0252 , 0.0177 , 0.0431 , 0.0292 , 0.016  , 0.024  , 0.0258 ,\n",
       "       0.0277 , 0.031  , 0.0059 , 0.0234 , 0.0156 , 0.0325 , 0.0327 ,\n",
       "       0.0183 , 0.0212 , 0.0133 , 0.0194 , 0.038  , 0.0316 , 0.0243 ,\n",
       "       0.0357 , 0.0192 , 0.0265 , 0.045  , 0.0254 , 0.024  , 0.0126 ,\n",
       "       0.0183 , 0.02555, 0.0316 , 0.0251 , 0.0315 , 0.0331 , 0.0448 ,\n",
       "       0.0293 , 0.0415 , 0.0361 , 0.0444 , 0.0313 , 0.0325 , 0.0058 ,\n",
       "       0.0221 , 0.0164 , 0.0328 , 0.0354 , 0.0182 , 0.0291 , 0.0184 ,\n",
       "       0.0232 , 0.0396 , 0.03   , 0.0236 , 0.0341 , 0.0237 , 0.0263 ,\n",
       "       0.0303 , 0.0264 , 0.0195 , 0.011  , 0.0303 , 0.0303 ])"
      ]
     },
     "metadata": {},
     "output_type": "display_data"
    }
   ],
   "source": [
    "def get_gasPriceValues( df ):    \n",
    "    return df.loc[:, \"GasPrice\"].to_numpy() \n",
    "\n",
    "display( get_gasPriceValues( df_work ) )\n"
   ]
  },
  {
   "cell_type": "markdown",
   "id": "3d62531e-8a6a-4a69-8a2f-4e9adb9b8575",
   "metadata": {},
   "source": [
    "## [4.2.] Análisis de la normalidad y homogeneidad de la varianza"
   ]
  },
  {
   "cell_type": "markdown",
   "id": "c1aaa80c-8122-41f6-aa1a-686527115a65",
   "metadata": {},
   "source": [
    "### [4.2.1.] Normalidad"
   ]
  },
  {
   "cell_type": "markdown",
   "id": "ff0031bd-2a80-4578-bac3-f9b8f4bd8f8c",
   "metadata": {},
   "source": [
    "#### [4.2.1.1.] Análisis gráfico\n",
    "\n",
    "Para poder comprobar la normalidad de las muestras se crean los gráficos cuartil-cuartil, tanto de las poblaciones de los precios de la electricidad como las del gas. Se crean dos funciones `draw_grap_quartil_quartil` que crea los dos gráficos correspondientes a las dos poblaciones y `draw_grap_quartil_quartil_by_year` que crea los gráficos para los registros de los diferentes años."
   ]
  },
  {
   "cell_type": "code",
   "execution_count": 63,
   "id": "b60e5483-6ee2-4c4a-a023-87556b7d9ccf",
   "metadata": {},
   "outputs": [],
   "source": [
    "def quartil_quartil_graph( data, title, ax ):    \n",
    "     sm.qqplot( data, line='q', ax = ax )\n",
    "     plt.title( title )   \n",
    "\n",
    "def draw_grap_quartil_quartil( df, title ):\n",
    "    electricityPriceValues = df.loc[:, \"ElectricityPrice\"].to_numpy() \n",
    "    gasPriceValues = df.loc[:, \"GasPrice\"].to_numpy()\n",
    "    ax1 = plt.subplot( 1, 2, 1 )\n",
    "    quartil_quartil_graph( electricityPriceValues, \"%s Electricy Prices\" % title, ax1 ) \n",
    "    ax2 = plt.subplot( 1, 2, 2 ) \n",
    "    \n",
    "    quartil_quartil_graph( gasPriceValues, \"%s Gas Prices\" % title, ax2 )\n",
    "    plt.subplots_adjust(left=-1)\n",
    "    plt.show()\n",
    "    \n",
    "def draw_grap_quartil_quartil_by_year( df ):\n",
    "    years = df.Year.unique() \n",
    "    for yr in years :\n",
    "        current_df = filter_by_year( df, yr )\n",
    "        draw_grap_quartil_quartil( current_df, yr )\n"
   ]
  },
  {
   "cell_type": "markdown",
   "id": "f8713d97-f467-4723-895c-7fe0fa1cfd64",
   "metadata": {},
   "source": [
    "Diagramas cuartil-cuartil de los precios de la electricidad y del gas para todos los años"
   ]
  },
  {
   "cell_type": "code",
   "execution_count": 64,
   "id": "0e21c264-f88d-4343-a659-5a449b2655bf",
   "metadata": {},
   "outputs": [
    {
     "data": {
      "image/png": "[encoded data removed]",
      "text/plain": [
       "<Figure size 432x288 with 2 Axes>"
      ]
     },
     "metadata": {},
     "output_type": "display_data"
    },
    {
     "data": {
      "image/png": "[encoded data removed]",
      "text/plain": [
       "<Figure size 432x288 with 2 Axes>"
      ]
     },
     "metadata": {},
     "output_type": "display_data"
    },
    {
     "data": {
      "image/png": "[encoded data removed]",
      "text/plain": [
       "<Figure size 432x288 with 2 Axes>"
      ]
     },
     "metadata": {},
     "output_type": "display_data"
    },
    {
     "data": {
      "image/png": "[encoded data removed]",
      "text/plain": [
       "<Figure size 432x288 with 2 Axes>"
      ]
     },
     "metadata": {},
     "output_type": "display_data"
    },
    {
     "data": {
      "image/png": "[encoded data removed]",
      "text/plain": [
       "<Figure size 432x288 with 2 Axes>"
      ]
     },
     "metadata": {},
     "output_type": "display_data"
    }
   ],
   "source": [
    "draw_grap_quartil_quartil_by_year( df_work )"
   ]
  },
  {
   "cell_type": "markdown",
   "id": "d42ff4d5-eea7-49d7-a356-4d6433b35383",
   "metadata": {},
   "source": [
    "Diagramas cuartil-cuartil de los precios de la electricidad y del gas para todos los años"
   ]
  },
  {
   "cell_type": "code",
   "execution_count": 65,
   "id": "56308cd8-1b43-4390-b62e-b1203b1e5421",
   "metadata": {},
   "outputs": [
    {
     "data": {
      "image/png": "[encoded data removed]",
      "text/plain": [
       "<Figure size 432x288 with 2 Axes>"
      ]
     },
     "metadata": {},
     "output_type": "display_data"
    }
   ],
   "source": [
    "draw_grap_quartil_quartil( df_work, \"All years\" )"
   ]
  },
  {
   "cell_type": "markdown",
   "id": "6f9e50e9-9a73-4d71-b9f9-b63d378b6795",
   "metadata": {},
   "source": [
    "Cómo se puede observar hay algunos gráficos que se ajustan más a la línea ideal de una distribución normal. En general los precios del gas se ajustan más a esa línea, mientras que para los precios de la electricidad divergen al principio y al final de la gráfica."
   ]
  },
  {
   "cell_type": "markdown",
   "id": "4c34d03b-5117-4242-af61-94700155919d",
   "metadata": {},
   "source": [
    "#### [4.2.1.2.] Test de Shapiro-Wilk\n",
    "\n",
    "Los valores de los precios de la electricidad son valores continuos por lo que primeros se comprobará la normalidad de manera cuantitativa de ambas muestras gracias al test de  Shapiro-Wilk.\n",
    "\n",
    "El test de Shapiro-Will:\n",
    "\n",
    "> **Hipótesis nula** `H_0`: _La muestra proviene de una población normalmente distribuida_.   \n",
    "  **Hipótesis alternativa** `H_1`: _La muestra **no** proviene de una población normalmente distribuida_\n",
    "  \n",
    "Se crea una función `test_shapiroWilk` que ejecutará el test de Shapiro-Wilk y que devolverá `True` cuando no se acepte la hipótesis nula (población normalmente distribuidad) y `False` cuando se rechace y se acepte la alternativa (población no normalmente distribuida)"
   ]
  },
  {
   "cell_type": "code",
   "execution_count": 66,
   "id": "f0457445-257b-45ad-9b0d-c2ba0837fcdc",
   "metadata": {},
   "outputs": [],
   "source": [
    "def test_shapiroWilk( values ):\n",
    "    st, pvalue = stats.shapiro( values )\n",
    "    print(  \"  Test Shapiro-Wil\" )\n",
    "    if pvalue >= 0.05 :\n",
    "        print( \"   The sample comes from a normal distribution\\n    (p-value = %s, stats = %s)\" %(  pvalue, st ) )\n",
    "        return True\n",
    "    else: \n",
    "        print( \"   The sample DOES NOT come from a normal distribution\\n    (p-value = %s, stats = %s)\" %(  pvalue, st ) )\n",
    "        return False\n"
   ]
  },
  {
   "cell_type": "markdown",
   "id": "5e04cd78-2a81-4ca0-9532-1f976b7177d0",
   "metadata": {},
   "source": [
    "#### [4.2.1.3.] Aplicación Teorema del límite central\n",
    "\n",
    "Este teorema establece que el contraste de hipótesis sobre la media de una muestra se aproxima a una distribución normal aunque la población original no siga una distribución normal, siempre que el tamaño de la muestra n sea suficientemente grande. Por suficientemente grande, se suele contemplar superior a 30 elementos, `n > 30`.\n",
    "\n",
    "Se crea la función `isApply_central_limit_theorem` que aplica este teŕema comprobando el tamaño de la muestra. Si es mayor que 30, la muestra tiende a una distribución normal y devolverá `True`, devolverá `False` cuando no sea así."
   ]
  },
  {
   "cell_type": "code",
   "execution_count": 67,
   "id": "2ba94e17-21b8-4123-8cb2-1a87730f5674",
   "metadata": {},
   "outputs": [],
   "source": [
    "def isApply_central_limit_theorem( values ):    \n",
    "    print(  \"  Test Central Limit Theorem\" )\n",
    "    if  len( values) > 30 :\n",
    "        print( \"   The sample tends to a normal distribution\")\n",
    "        return True\n",
    "    else: \n",
    "        print( \"   The sample DOES NOT tend to a normal distribution\")\n",
    "        return False  \n"
   ]
  },
  {
   "cell_type": "markdown",
   "id": "d5ca6538-d5c1-4499-a5ac-93acf3df120c",
   "metadata": {},
   "source": [
    "#### [4.2.1.4.] Comprobación de la normalidad\n",
    "\n",
    "Para comprobar la normalidad se crean unas funciones auxiliares `execute_test_normality` y `check_normality_by_year`  que permiten ejecutar los dos test, Shapiro-Wilk y si este falla el del límite central para comprobar ambas distribuciones de precios, filtrando por año y también para todos los registros."
   ]
  },
  {
   "cell_type": "code",
   "execution_count": 68,
   "id": "dd43a600-6202-4861-9bd6-13298c6b9205",
   "metadata": {},
   "outputs": [],
   "source": [
    "def check_normality( values ):\n",
    "    return test_shapiroWilk( values ) or isApply_central_limit_theorem( values )\n",
    "\n",
    "def execute_test_normality( df, title ):\n",
    "    \n",
    "    def execute( values ):\n",
    "        res = check_normality( values )\n",
    "        print( \" > Is a normally distributed population? %s\" % res )\n",
    "        return res\n",
    "    \n",
    "    result = {}\n",
    "        \n",
    "    print( title )\n",
    "    print( \" --- ---\" )\n",
    "    print( \" - Electricity price:\" )\n",
    "    result[\"Electricity\"] = execute( get_electricityPrice( df ) )\n",
    "    print( \" --- ---\" )\n",
    "    print( \" - Gas price:\" )\n",
    "    result[\"Gas\"] = execute( get_gasPriceValues( df ) )\n",
    "    print( \" --- --- --- --- --- --- \" )   \n",
    "    return result\n",
    "\n",
    "def check_normality_by_year( df ):\n",
    "    years = df.Year.unique() \n",
    "    result = {}\n",
    "    for yr in years :\n",
    "        current_df = filter_by_year( df, yr )\n",
    "        res = execute_test_normality( current_df, \"* Test normality poblation prices year %s\" % yr )\n",
    "        result[yr] = res\n",
    "    return result\n",
    "        "
   ]
  },
  {
   "cell_type": "markdown",
   "id": "9b093ad5-ce30-475d-a21a-a7aaa7b4c90a",
   "metadata": {},
   "source": [
    "Se comprueba la normalidad de los precios de la electricidad y gas por cada año del dataset"
   ]
  },
  {
   "cell_type": "code",
   "execution_count": 69,
   "id": "24defc58-f0a5-4cb1-b787-e81ce55f0bf6",
   "metadata": {},
   "outputs": [
    {
     "name": "stdout",
     "output_type": "stream",
     "text": [
      "* Test normality poblation prices year 2017\n",
      " --- ---\n",
      " - Electricity price:\n",
      "  Test Shapiro-Wil\n",
      "   The sample DOES NOT come from a normal distribution\n",
      "    (p-value = 2.555926766945049e-05, stats = 0.7890611290931702)\n",
      "  Test Central Limit Theorem\n",
      "   The sample tends to a normal distribution\n",
      " > Is a normally distributed population? True\n",
      " --- ---\n",
      " - Gas price:\n",
      "  Test Shapiro-Wil\n",
      "   The sample comes from a normal distribution\n",
      "    (p-value = 0.19534516334533691, stats = 0.9546711444854736)\n",
      " > Is a normally distributed population? True\n",
      " --- --- --- --- --- --- \n",
      "* Test normality poblation prices year 2018\n",
      " --- ---\n",
      " - Electricity price:\n",
      "  Test Shapiro-Wil\n",
      "   The sample DOES NOT come from a normal distribution\n",
      "    (p-value = 0.00015152126434259117, stats = 0.8291653394699097)\n",
      "  Test Central Limit Theorem\n",
      "   The sample tends to a normal distribution\n",
      " > Is a normally distributed population? True\n",
      " --- ---\n",
      " - Gas price:\n",
      "  Test Shapiro-Wil\n",
      "   The sample comes from a normal distribution\n",
      "    (p-value = 0.5336177945137024, stats = 0.9712156653404236)\n",
      " > Is a normally distributed population? True\n",
      " --- --- --- --- --- --- \n",
      "* Test normality poblation prices year 2019\n",
      " --- ---\n",
      " - Electricity price:\n",
      "  Test Shapiro-Wil\n",
      "   The sample DOES NOT come from a normal distribution\n",
      "    (p-value = 0.00035181205021217465, stats = 0.8466774225234985)\n",
      "  Test Central Limit Theorem\n",
      "   The sample tends to a normal distribution\n",
      " > Is a normally distributed population? True\n",
      " --- ---\n",
      " - Gas price:\n",
      "  Test Shapiro-Wil\n",
      "   The sample comes from a normal distribution\n",
      "    (p-value = 0.6494981050491333, stats = 0.9750838875770569)\n",
      " > Is a normally distributed population? True\n",
      " --- --- --- --- --- --- \n",
      "* Test normality poblation prices year 2020\n",
      " --- ---\n",
      " - Electricity price:\n",
      "  Test Shapiro-Wil\n",
      "   The sample comes from a normal distribution\n",
      "    (p-value = 0.09732469171285629, stats = 0.9440080523490906)\n",
      " > Is a normally distributed population? True\n",
      " --- ---\n",
      " - Gas price:\n",
      "  Test Shapiro-Wil\n",
      "   The sample comes from a normal distribution\n",
      "    (p-value = 0.9034265875816345, stats = 0.9839834570884705)\n",
      " > Is a normally distributed population? True\n",
      " --- --- --- --- --- --- \n",
      "* Test normality poblation prices year 2021\n",
      " --- ---\n",
      " - Electricity price:\n",
      "  Test Shapiro-Wil\n",
      "   The sample DOES NOT come from a normal distribution\n",
      "    (p-value = 0.00030806619906798005, stats = 0.8439767360687256)\n",
      "  Test Central Limit Theorem\n",
      "   The sample tends to a normal distribution\n",
      " > Is a normally distributed population? True\n",
      " --- ---\n",
      " - Gas price:\n",
      "  Test Shapiro-Wil\n",
      "   The sample comes from a normal distribution\n",
      "    (p-value = 0.6158440113067627, stats = 0.9739876985549927)\n",
      " > Is a normally distributed population? True\n",
      " --- --- --- --- --- --- \n"
     ]
    },
    {
     "data": {
      "text/plain": [
       "{2017: {'Electricity': True, 'Gas': True},\n",
       " 2018: {'Electricity': True, 'Gas': True},\n",
       " 2019: {'Electricity': True, 'Gas': True},\n",
       " 2020: {'Electricity': True, 'Gas': True},\n",
       " 2021: {'Electricity': True, 'Gas': True}}"
      ]
     },
     "execution_count": 69,
     "metadata": {},
     "output_type": "execute_result"
    }
   ],
   "source": [
    "check_normality_by_year( df_work )"
   ]
  },
  {
   "cell_type": "markdown",
   "id": "68f681c9-92c7-4f14-9705-388b41d79575",
   "metadata": {},
   "source": [
    "Se ejecuta tambvién el test para todo el dataset"
   ]
  },
  {
   "cell_type": "code",
   "execution_count": 70,
   "id": "06486bff-b7d8-4228-9ddb-96efed331a5a",
   "metadata": {},
   "outputs": [
    {
     "name": "stdout",
     "output_type": "stream",
     "text": [
      "All years\n",
      " --- ---\n",
      " - Electricity price:\n",
      "  Test Shapiro-Wil\n",
      "   The sample DOES NOT come from a normal distribution\n",
      "    (p-value = 1.4402387060741262e-09, stats = 0.8893610239028931)\n",
      "  Test Central Limit Theorem\n",
      "   The sample tends to a normal distribution\n",
      " > Is a normally distributed population? True\n",
      " --- ---\n",
      " - Gas price:\n",
      "  Test Shapiro-Wil\n",
      "   The sample comes from a normal distribution\n",
      "    (p-value = 0.10627852380275726, stats = 0.9859347343444824)\n",
      " > Is a normally distributed population? True\n",
      " --- --- --- --- --- --- \n"
     ]
    },
    {
     "data": {
      "text/plain": [
       "{'Electricity': True, 'Gas': True}"
      ]
     },
     "execution_count": 70,
     "metadata": {},
     "output_type": "execute_result"
    }
   ],
   "source": [
    "execute_test_normality( df_work, \"All years\" )"
   ]
  },
  {
   "cell_type": "markdown",
   "id": "b1565f45-811a-4268-b5a1-501cd88b2b19",
   "metadata": {},
   "source": [
    "Se puede observar que todas las distribuciones tienen a la normalidad. Algunas de las poblaciones cumplen la normalidad por el test de Shapiro-Wil sin necesidad de recurrir al límite central. Estas son los precios del gas todos los años incluido el dataset golbal y de la electricidad en el año 2020.\n",
    "\n",
    "El resto cumple la normalidad por aplicación del teorema del límite central ya que todas las poblaciones tienen más de 30 registros. También el conjunto de todos los precios de la electricidad tiene a una distribución normal por este teorema."
   ]
  },
  {
   "cell_type": "markdown",
   "id": "3f6b4305-5a10-45d8-9c07-e1399f0156e1",
   "metadata": {},
   "source": [
    "### [4.2.2.] Homogeniedad de la varianza\n",
    "\n",
    "Ya que se ambas distribuciones se aproximan a una distribución normal, se utiliza el test de _Levene_ en el que:\n",
    "\n",
    "> **Hipótesis nula**, `H_0`: _Las varianzas de las poblaciones son la mismas._   \n",
    "   **Hipótesis alternativa** `H_1`: _Las varianzas de las poblaciones **no** son la mismas._\n",
    "\n",
    "Un valor por debajo del valor significativo (`α = 0,05`) hace que se rechaze la hipótesis nula y se llege a la conclusión de que existe una diferencia en la varianza de las poblaciones.\n",
    "\n",
    "Para comprobar la homogeniedad de las varianzas de las poblaciones de los precios del gas y la electricidad se ha creado la función `test_levene` que devolverá `True` cuando se acepte la hipétesis nula y las varianzas de las poblaciones es la misma.\n",
    "\n",
    "Se crean además dos funciones de utilidad `execute_test_homocedasticity` y `execute_test_homocedasticity_by_year` que permite ejecutar el test para un dataset o para los valores de cada año"
   ]
  },
  {
   "cell_type": "code",
   "execution_count": 71,
   "id": "4b5fd6be-8118-4b7e-b279-b22ad265f877",
   "metadata": {},
   "outputs": [],
   "source": [
    "def test_levene( electricityPriceValues, gasPriceValues ) :\n",
    "    st, pvalue = stats.levene( electricityPriceValues, gasPriceValues )\n",
    "    print(  \"  Test Levene\" )\n",
    "    if pvalue >= 0.05 :\n",
    "        print( \"   The populations have the SAME variance.\\n    (p-value = %s, stats = %s)\" %(  pvalue, st ) )\n",
    "        return True\n",
    "    else: \n",
    "        print( \"   The population variances are DIFFERENT.\\n    (p-value = %s, stats = %s)\" %(  pvalue, st ) )\n",
    "        return False\n",
    "    \n",
    "def execute_test_homocedasticity( df, title ):\n",
    "    print( title )\n",
    "    print( \" --- ---\" )\n",
    "    res = test_levene( get_electricityPrice( df ), get_gasPriceValues( df ) )\n",
    "    print( \" > Is the variance the same? %s\" % res )\n",
    "    print( \" --- --- --- --- --- --- \" ) \n",
    "    return res\n",
    "    \n",
    "def execute_test_homocedasticity_by_year( df ):\n",
    "    years = df.Year.unique() \n",
    "    result = dict()\n",
    "    for yr in years :\n",
    "        current_df = filter_by_year( df, yr )\n",
    "        res =  execute_test_homocedasticity( current_df, \"* Test homocedasticity in prices year %s\" % yr ) \n",
    "        result[yr] = res\n",
    "    return result\n"
   ]
  },
  {
   "cell_type": "markdown",
   "id": "4060e162-2b7f-4b72-9c6f-d8219d790dc2",
   "metadata": {},
   "source": [
    "Comprobación de la varianza para los valores de los precios año a año"
   ]
  },
  {
   "cell_type": "code",
   "execution_count": 72,
   "id": "f819378a-03b5-4c90-a64f-e8c308023b01",
   "metadata": {},
   "outputs": [
    {
     "name": "stdout",
     "output_type": "stream",
     "text": [
      "* Test homocedasticity in prices year 2017\n",
      " --- ---\n",
      "  Test Levene\n",
      "   The population variances are DIFFERENT.\n",
      "    (p-value = 0.0037360145627914816, stats = 9.081737072016844)\n",
      " > Is the variance the same? False\n",
      " --- --- --- --- --- --- \n",
      "* Test homocedasticity in prices year 2018\n",
      " --- ---\n",
      "  Test Levene\n",
      "   The population variances are DIFFERENT.\n",
      "    (p-value = 0.020885461944837716, stats = 5.619467768998189)\n",
      " > Is the variance the same? False\n",
      " --- --- --- --- --- --- \n",
      "* Test homocedasticity in prices year 2019\n",
      " --- ---\n",
      "  Test Levene\n",
      "   The population variances are DIFFERENT.\n",
      "    (p-value = 0.02586978679657292, stats = 5.212157780204877)\n",
      " > Is the variance the same? False\n",
      " --- --- --- --- --- --- \n",
      "* Test homocedasticity in prices year 2020\n",
      " --- ---\n",
      "  Test Levene\n",
      "   The population variances are DIFFERENT.\n",
      "    (p-value = 0.00912698774630777, stats = 7.24534465434624)\n",
      " > Is the variance the same? False\n",
      " --- --- --- --- --- --- \n",
      "* Test homocedasticity in prices year 2021\n",
      " --- ---\n",
      "  Test Levene\n",
      "   The population variances are DIFFERENT.\n",
      "    (p-value = 0.022921981091061295, stats = 5.441700360391198)\n",
      " > Is the variance the same? False\n",
      " --- --- --- --- --- --- \n"
     ]
    },
    {
     "data": {
      "text/plain": [
       "{2017: False, 2018: False, 2019: False, 2020: False, 2021: False}"
      ]
     },
     "execution_count": 72,
     "metadata": {},
     "output_type": "execute_result"
    }
   ],
   "source": [
    "execute_test_homocedasticity_by_year( df_work ) "
   ]
  },
  {
   "cell_type": "markdown",
   "id": "530045b5-7bd7-4a2b-8caa-bf41a0a55c4d",
   "metadata": {},
   "source": [
    "Estudio de igualdad de varianzas para los precios del gas y la electricidad para los valores de todos los años"
   ]
  },
  {
   "cell_type": "code",
   "execution_count": 73,
   "id": "e1daa477-471c-46d4-8e06-c6c1abd6627b",
   "metadata": {},
   "outputs": [
    {
     "name": "stdout",
     "output_type": "stream",
     "text": [
      "* Test homocedasticity prices  all years\n",
      " --- ---\n",
      "  Test Levene\n",
      "   The population variances are DIFFERENT.\n",
      "    (p-value = 3.4332352109611506e-11, stats = 47.16779494439191)\n",
      " > Is the variance the same? False\n",
      " --- --- --- --- --- --- \n"
     ]
    },
    {
     "data": {
      "text/plain": [
       "False"
      ]
     },
     "execution_count": 73,
     "metadata": {},
     "output_type": "execute_result"
    }
   ],
   "source": [
    "execute_test_homocedasticity( df_work, \"* Test homocedasticity prices  all years\" )"
   ]
  },
  {
   "cell_type": "markdown",
   "id": "42cd515f-b920-42ae-96f2-a84517f9006a",
   "metadata": {},
   "source": [
    "Cómo concusión todos los conjuntos de datos presenta **heterocedasticidad**"
   ]
  },
  {
   "cell_type": "markdown",
   "id": "c631ea79-4af5-47b5-a355-703db03aac9d",
   "metadata": {},
   "source": [
    "## [4.3.] Aplicación de pruebas estadísticas"
   ]
  },
  {
   "cell_type": "markdown",
   "id": "fbbd39c9-8103-4032-80a8-aa093c8f2b42",
   "metadata": {},
   "source": [
    "### [4.3.1.] Estudio de la regresión\n",
    "\n",
    "Para este punto se ha realizado un estudio de la regresión lineal entre los dos precios. La variable dependiente será el precio de la electricidad y como variable indepependiente el precio del gas.\n",
    "\n",
    "Se crean funciones como `execute_linear_regresion` que calcula el modelo de regresión lineal de un conjunto de estos dos datos, para luego crear el gráfico (función `draw_linear_regresion`). El gráfico muestra la leyenda de la línea de regresión y el valor `R-squared` que indica la bonanza del modelo."
   ]
  },
  {
   "cell_type": "code",
   "execution_count": 74,
   "id": "50a8a0c5-874e-45a2-bb2a-b9110ec0eb58",
   "metadata": {},
   "outputs": [],
   "source": [
    "def draw_linear_regresion( x, y, res_linregress, title, ax ):\n",
    "    slope = res_linregress.slope\n",
    "    intercept = res_linregress.intercept\n",
    "    rSquared = res_linregress.rvalue**2\n",
    "    \n",
    "    label = f\"{slope:.4f} x + {intercept:.4f}, \\n R-squared: {rSquared:.6f}\" \n",
    "    ax.plot(x, y, 'o')\n",
    "    ax.plot(x, intercept + slope*x, 'r', label= label)\n",
    "    ax.legend()\n",
    "    plt.title( title )\n",
    "    \n",
    "def execute_linear_regresion( df, title, ax = plt): \n",
    "    gasPrices = get_gasPriceValues( df )\n",
    "    electricityPrices = get_electricityPrice( df )\n",
    "    res = stats.linregress( gasPrices, electricityPrices )\n",
    "    draw_linear_regresion( x = gasPrices, y = electricityPrices, res_linregress = res, title = title, ax = ax )\n",
    "    return res\n",
    "\n",
    "def execute_linear_regresion_by_year( df, ncolumns = 2 ):\n",
    "    years = df.Year.unique() \n",
    "    ntotal = len( years )\n",
    "    nrows = ntotal //  ncolumns\n",
    "    nrows = nrows if ( ntotal %  ncolumns == 0 ) else  nrows + 1\n",
    "    index = 1\n",
    "    result = {}\n",
    "    for yr in years :\n",
    "        current_df = filter_by_year( df, yr )\n",
    "        ax1 = plt.subplot( nrows, ncolumns, index )\n",
    "        res =  execute_linear_regresion( df = current_df, title = f\"Lineal regresion year {yr}\", ax = ax1 ) \n",
    "        result[yr] = res\n",
    "        index = index + 1\n",
    "    return result\n"
   ]
  },
  {
   "cell_type": "markdown",
   "id": "7ba70a71-b5aa-487d-b0cf-bb9c9d066860",
   "metadata": {},
   "source": [
    "Se ejecutan la regresión lineal entre los precios de la electricidad con respecto a los de gas"
   ]
  },
  {
   "cell_type": "code",
   "execution_count": 75,
   "id": "6651c640-e556-4c09-9840-2b2926ad87cb",
   "metadata": {},
   "outputs": [
    {
     "data": {
      "image/png": "[encoded data removed]",
      "text/plain": [
       "<Figure size 432x288 with 5 Axes>"
      ]
     },
     "metadata": {},
     "output_type": "display_data"
    },
    {
     "data": {
      "text/plain": [
       "{2017: LinregressResult(slope=0.28569963069347565, intercept=0.05484277800574476, rvalue=0.06802744638787872, pvalue=0.7114272630048609, stderr=0.7649933342351994, intercept_stderr=0.019603653866315632),\n",
       " 2018: LinregressResult(slope=0.6729841041027997, intercept=0.04410630068947309, rvalue=0.26899816963394746, pvalue=0.1365560713341021, stderr=0.4399310184342412, intercept_stderr=0.011735858240063133),\n",
       " 2019: LinregressResult(slope=0.8511007230472496, intercept=0.04388599971852466, rvalue=0.33827647062811367, pvalue=0.05826437221619221, stderr=0.43227463345912853, intercept_stderr=0.01262199830334585),\n",
       " 2020: LinregressResult(slope=0.6866121401270099, intercept=0.049442152507274656, rvalue=0.32445081183333585, pvalue=0.0700301760649755, stderr=0.36546718711270393, intercept_stderr=0.009703541495246463),\n",
       " 2021: LinregressResult(slope=1.4827837079714756, intercept=0.04057741338357162, rvalue=0.5335235929414617, pvalue=0.0016636129032869334, stderr=0.4291643333020443, intercept_stderr=0.012736353183555909)}"
      ]
     },
     "metadata": {},
     "output_type": "display_data"
    }
   ],
   "source": [
    "res = execute_linear_regresion_by_year( df_work ) \n",
    "plt.subplots_adjust( wspace = 0.2, hspace= 0.3, right = 2, top = 3)\n",
    "plt.show()\n",
    "display( res )"
   ]
  },
  {
   "cell_type": "markdown",
   "id": "f8c914c7-857e-41fb-aef4-22ed274fc058",
   "metadata": {},
   "source": [
    "Y para todos los años"
   ]
  },
  {
   "cell_type": "code",
   "execution_count": 76,
   "id": "80cc9754-65f0-4624-82a0-7bf41be30a9f",
   "metadata": {},
   "outputs": [
    {
     "data": {
      "image/png": "[encoded data removed]",
      "text/plain": [
       "<Figure size 432x288 with 1 Axes>"
      ]
     },
     "metadata": {},
     "output_type": "display_data"
    }
   ],
   "source": [
    "execute_linear_regresion( df_work, \"Lineal regresion all years\" ) \n",
    "plt.show()"
   ]
  },
  {
   "cell_type": "markdown",
   "id": "abc8ca85-86f6-429a-b3ba-bf36c86e586e",
   "metadata": {},
   "source": [
    "Como se puede observar en las diferentes gráficas y los diferentes valores de `R-squared` (el valor máximo es `0,284647`, año 2021) el ajuste es muy malo, cosa que ya se podía intuir cuando se hizo el análisis visual con los diagramas de dipersión."
   ]
  },
  {
   "cell_type": "markdown",
   "id": "1f162565-00bc-4545-9e04-907b1e6ed1d4",
   "metadata": {
    "tags": []
   },
   "source": [
    "### [4.3.2.] Estudio de la correlación\n",
    "\n",
    "Como hemos podido comprobar hasta hora los conjuntos de datos cumplen la condición de normalidad pero no cumple ninguno con la condición de homocedasticidad. En estas codiciones para hacer un estudio de la correlación se debe ejecutar un test parámetrico como el de Sperman"
   ]
  },
  {
   "cell_type": "markdown",
   "id": "e0ed12fd-e926-4073-bee7-ade3f9c3b9f3",
   "metadata": {
    "tags": []
   },
   "source": [
    "#### [4.3.2.1.] Test Spearman\n",
    "\n",
    "Es un método no parámetrico para calcular el grado de correlación entre dos variables. No es necesario hacer ninguna suposición con respecto a su distribución pero si que las variables puedan medirse en una  escala ordinal, cosa que si cumplen los precios del gas y la electricidad al ser numéricos.\n",
    "\n",
    "Hipótesis en el test del test de Spearman: \n",
    "\n",
    "> **Hipótesis nula**, `H_0`: _Hay independencia entre las variables._   \n",
    "  **Hipótesis alternativa** `H_1`: _Las variables son dependientes._.\n",
    "  \n",
    "Al igual que en test anterioress se crean las funciones equivalentes, `test_spearman`, `execute_test_spearman` y `execute_test_spearman_by_year` para ejecutrar el test de Spearman.  "
   ]
  },
  {
   "cell_type": "code",
   "execution_count": 77,
   "id": "e7a87942-3a43-40af-8336-7e90fbd0f0cb",
   "metadata": {},
   "outputs": [],
   "source": [
    "def test_spearman( electricityPrices, gasPrices ):\n",
    "    coff, pvalue =  stats.spearmanr( electricityPrices, gasPrices )\n",
    "    print( \"  Test Spearman\" )\n",
    "    if pvalue >= 0.05 :\n",
    "        print( \"   The variables are INDEPENDENT.\\n    (p-value = %s, coff = %s)\" %(  pvalue, coff ) )\n",
    "        return True\n",
    "    else: \n",
    "        print( \"   The variables are DEPENDANT.\\n    (p-value = %s, coff = %s)\" %(  pvalue, coff ) )\n",
    "        return False\n",
    "    \n",
    "def execute_test_spearman( df, title ):\n",
    "    print( title )\n",
    "    print( \" --- ---\" )\n",
    "    res = test_spearman( get_electricityPrice( df ), get_gasPriceValues( df ) )\n",
    "    print( \" > Are independent both variables? %s\" % res )\n",
    "    print( \" --- --- --- --- --- --- \" ) \n",
    "    return res\n",
    "\n",
    "def execute_test_spearman_by_year( df ):\n",
    "    years = df.Year.unique() \n",
    "    result = {}\n",
    "    for yr in years :\n",
    "        current_df = filter_by_year( df, yr )\n",
    "        res =  execute_test_spearman( current_df, \"* Test Spearman year %s\" % yr ) \n",
    "        result[yr] = res\n",
    "    return result\n"
   ]
  },
  {
   "cell_type": "markdown",
   "id": "6688ccb8-84b9-4e0a-9656-fc75109a1fa5",
   "metadata": {},
   "source": [
    "Se estudia la independencia de las variables calculando a través del test de Sperman para aquellos años en los que nos e cumplia la homocedasticidad: 2017, 2018 y 2020"
   ]
  },
  {
   "cell_type": "code",
   "execution_count": 78,
   "id": "5b4a2abc-d6d6-4d0e-9908-9170463a6f19",
   "metadata": {},
   "outputs": [
    {
     "name": "stdout",
     "output_type": "stream",
     "text": [
      "* Test Spearman year 2017\n",
      " --- ---\n",
      "  Test Spearman\n",
      "   The variables are INDEPENDENT.\n",
      "    (p-value = 0.2517799904526953, coff = 0.2086544696883629)\n",
      " > Are independent both variables? True\n",
      " --- --- --- --- --- --- \n",
      "* Test Spearman year 2018\n",
      " --- ---\n",
      "  Test Spearman\n",
      "   The variables are INDEPENDENT.\n",
      "    (p-value = 0.23135663911838605, coff = 0.21769108931317935)\n",
      " > Are independent both variables? True\n",
      " --- --- --- --- --- --- \n",
      "* Test Spearman year 2019\n",
      " --- ---\n",
      "  Test Spearman\n",
      "   The variables are INDEPENDENT.\n",
      "    (p-value = 0.1014343814265197, coff = 0.2948024579257395)\n",
      " > Are independent both variables? True\n",
      " --- --- --- --- --- --- \n",
      "* Test Spearman year 2020\n",
      " --- ---\n",
      "  Test Spearman\n",
      "   The variables are DEPENDANT.\n",
      "    (p-value = 0.029968095158790668, coff = 0.3841217519645549)\n",
      " > Are independent both variables? False\n",
      " --- --- --- --- --- --- \n",
      "* Test Spearman year 2021\n",
      " --- ---\n",
      "  Test Spearman\n",
      "   The variables are DEPENDANT.\n",
      "    (p-value = 6.463186137083139e-05, coff = 0.646216715371757)\n",
      " > Are independent both variables? False\n",
      " --- --- --- --- --- --- \n"
     ]
    },
    {
     "data": {
      "text/plain": [
       "{2017: True, 2018: True, 2019: True, 2020: False, 2021: False}"
      ]
     },
     "execution_count": 78,
     "metadata": {},
     "output_type": "execute_result"
    }
   ],
   "source": [
    "execute_test_spearman_by_year( df_work )"
   ]
  },
  {
   "cell_type": "markdown",
   "id": "11b6efd0-0023-4a8a-b901-412522699300",
   "metadata": {},
   "source": [
    "También se ejecuta este test para el conjunto de todos los años."
   ]
  },
  {
   "cell_type": "code",
   "execution_count": 79,
   "id": "c4eb5c6f-6036-4ef5-b4f1-539103749e3e",
   "metadata": {},
   "outputs": [
    {
     "name": "stdout",
     "output_type": "stream",
     "text": [
      "* Test Spearman all years\n",
      " --- ---\n",
      "  Test Spearman\n",
      "   The variables are DEPENDANT.\n",
      "    (p-value = 1.045486616609508e-05, coff = 0.34063927264337035)\n",
      " > Are independent both variables? False\n",
      " --- --- --- --- --- --- \n"
     ]
    },
    {
     "data": {
      "text/plain": [
       "False"
      ]
     },
     "execution_count": 79,
     "metadata": {},
     "output_type": "execute_result"
    }
   ],
   "source": [
    "execute_test_spearman( df_work, \"* Test Spearman all years\" )"
   ]
  },
  {
   "cell_type": "markdown",
   "id": "9cdefbdc-7853-448a-98eb-fe81fde2f2ae",
   "metadata": {},
   "source": [
    "Como se puede observar tanto el año 2020 como el conjuto de todos los precios indican que existe una correlación de los precios del gas y la electricidad domésticos, aunque con **valores de correlación pequeños** (`0,3841` y `0,3406` respectivamente). Sin embargo en el año 2021, también existe correlaciones pero esta vez con un coeficiente mayor `0,6462`."
   ]
  },
  {
   "cell_type": "markdown",
   "id": "19d049ff-9a8d-487b-9d9d-561b18095808",
   "metadata": {},
   "source": [
    "#### [4.3.2.2.] Conclusiones\n",
    "\n",
    "Conjunto de datos en los que **no existe** correlación entre las variables de los precios del gas y la electricidad domésticos:\n",
    "  \n",
    " - Año **2017**\n",
    " - Año **2018**\n",
    " - Año **2019**\n",
    " \n",
    "Conjunto de datos en los que **existe correlación** entre las variables de los precios del gas y la electricidad domésticos:\n",
    " \n",
    " - Año **2020**, coeficiente de correlación: `0,3841`\n",
    " - Año **2021**, coeficiente de correlación: `0,6462`\n",
    " - **Dataset completo**, coeficiente de correlación: `0,3406`\n"
   ]
  },
  {
   "cell_type": "markdown",
   "id": "161578ed-5f94-4720-8651-1fe90fb88792",
   "metadata": {
    "tags": []
   },
   "source": [
    "### [4.3.3.] Contraste de hipótesis\n",
    "\n",
    "Como estudio de contraste de hipótesis se va a analizar si entre ambas distribuciones de población no hay diferencias signficativas a nivel estadístico. Hasta ahora tenemos conjuntos de datos siguen una distribución normal y que presentan heterocedasticidad. \n",
    "\n",
    "Dentro de los conjuntos de datos existen unos en los que las variables de los precios del gas y la electricidad son dependientes y otros que no existe correlación. En estas circustancias, para los primeros se aplica el test de Mann-Whitney y para cuando hay dependencia entre las variables el test de Wilcoxon."
   ]
  },
  {
   "cell_type": "markdown",
   "id": "dc3c4e71-92cd-41b7-b07e-27a7954c6b47",
   "metadata": {
    "tags": []
   },
   "source": [
    "#### [4.3.3.1.] Test de Mann-Whitney\n",
    "\n",
    "El test de Mann-Whitney se puede aplicar cuando no se cumplen alguna de las condiciones de ajuste a una distribución normal y de homocedasticidad. Se aplica cuando las dos variables son **independientes**.\n",
    "\n",
    "Hipótesis en el test de Mann-Whitney: \n",
    "\n",
    "> **Hipótesis nula**, `H_0`: _Las distribuciones de los precios de la electricidad y del gas doméstico son iguales._   \n",
    "  **Hipótesis alternativa** `H_1`:  _Las distribuciones de los precios de la electricidad y del gas doméstico **no**\n",
    "  son iguales_.\n",
    "  \n",
    "Si las medias son iguales significa que no hay diferencias significativas a nivel estadístico.\n",
    "\n",
    "Las funciones `test_mannWhitney`, `execute_test_mannWhitney` y `execute_test_test_mannWhitney_by_year` son parecidas a funciones similares que se han codificado para la ejecución de test anteriores, en este caso codificadas para ejecutar el test de Mann-Whitney.\n"
   ]
  },
  {
   "cell_type": "code",
   "execution_count": 80,
   "id": "5b309b0a-0ce8-4c8a-80a1-64300684aa94",
   "metadata": {},
   "outputs": [],
   "source": [
    "def test_mannWhitney( electricityPrices, gasPrices ):\n",
    "    st, pvalue =  stats.mannwhitneyu( electricityPrices, gasPrices )\n",
    "    print(  \"  Test Mann-Whitney\" )\n",
    "    if pvalue >= 0.05 :\n",
    "        print( \"   The mean are the SAME in both populations.\\n    (p-value = %s, stats = %s)\" %(  pvalue, st ) )\n",
    "        return True\n",
    "    else: \n",
    "        print( \"   The population means are DIFFERENT.\\n    (p-value = %s, stats = %s)\" %(  pvalue, st ) )\n",
    "        return False\n",
    "    \n",
    "def execute_test_mannWhitney( df, title ):\n",
    "    print( title )\n",
    "    print( \" --- ---\" )\n",
    "    res = test_mannWhitney( get_electricityPrice( df ), get_gasPriceValues( df ) )\n",
    "    print( \" > Is the population means the same? %s\" % res )\n",
    "    print( \" --- --- --- --- --- --- \" ) \n",
    "    return res\n",
    "    \n",
    "def execute_test_mannWhitney_by_year( df, years ):\n",
    "    result = {}\n",
    "    for yr in years :\n",
    "        current_df = filter_by_year( df, yr )\n",
    "        res =  execute_test_mannWhitney( current_df, \"* Test Mann-Whitney year %s\" % yr ) \n",
    "        result[yr] = res\n",
    "    return result\n"
   ]
  },
  {
   "cell_type": "markdown",
   "id": "d9b9528c-e8ea-4428-b57d-bd4297dadb88",
   "metadata": {},
   "source": [
    "Se ejecuta el test de Mann-Whitney para los precios de aquellos años que no cumplen la condición de homocedasticidad y que las variables son independientes. Esto ocurría en los años 2017, 2018 y 2019."
   ]
  },
  {
   "cell_type": "code",
   "execution_count": 81,
   "id": "721cb103-b036-405b-ad5f-02c63f207256",
   "metadata": {},
   "outputs": [
    {
     "name": "stdout",
     "output_type": "stream",
     "text": [
      "* Test Mann-Whitney year 2017\n",
      " --- ---\n",
      "  Test Mann-Whitney\n",
      "   The population means are DIFFERENT.\n",
      "    (p-value = 8.300422863844184e-12, stats = 1021.0)\n",
      " > Is the population means the same? False\n",
      " --- --- --- --- --- --- \n",
      "* Test Mann-Whitney year 2018\n",
      " --- ---\n",
      "  Test Mann-Whitney\n",
      "   The population means are DIFFERENT.\n",
      "    (p-value = 9.345965564544273e-12, stats = 1020.0)\n",
      " > Is the population means the same? False\n",
      " --- --- --- --- --- --- \n",
      "* Test Mann-Whitney year 2019\n",
      " --- ---\n",
      "  Test Mann-Whitney\n",
      "   The population means are DIFFERENT.\n",
      "    (p-value = 1.2506903572450388e-11, stats = 1017.0)\n",
      " > Is the population means the same? False\n",
      " --- --- --- --- --- --- \n"
     ]
    },
    {
     "data": {
      "text/plain": [
       "{2017: False, 2018: False, 2019: False}"
      ]
     },
     "execution_count": 81,
     "metadata": {},
     "output_type": "execute_result"
    }
   ],
   "source": [
    "execute_test_mannWhitney_by_year( df_work, [2017, 2018, 2019] )"
   ]
  },
  {
   "cell_type": "markdown",
   "id": "209e94ab-9b3e-4840-a4c6-96e458b5ee1c",
   "metadata": {
    "tags": []
   },
   "source": [
    "#### [4.3.3.2.] Test de Wilcoxon\n",
    "\n",
    "El test de Wilcoxon se puede aplicar cuando no se cumplen alguna de las condiciones de ajuste a una distribución normal y de homocedasticidad. Se aplica cuando las dos variables son **dependientes**.\n",
    "\n",
    "Hipótesis en el test de Wilcoxon: \n",
    "\n",
    "> **Hipótesis nula**, `H_0`: _Las distribuciones de los precios de la electricidad y del gas doméstico son iguales._   \n",
    "  **Hipótesis alternativa** `H_1`:  _Las distribuciones de los precios de la electricidad y del gas doméstico **no**\n",
    "  son iguales_. \n",
    "  \n",
    "Si las medias son iguales significa que no hay diferencias significativas a nivel estadístico.\n",
    "\n",
    "Las funciones `test_wilcoxon` y `execute_test_wilcoxon` son parecidas a funciones similares que se han codificado para la ejecución de test anteriores, en este caso codificadas para ejecutar el test de Wilcoxon.\n"
   ]
  },
  {
   "cell_type": "code",
   "execution_count": 82,
   "id": "a018c853-f920-4e6a-8476-38c1e3ed101f",
   "metadata": {},
   "outputs": [],
   "source": [
    "def test_wilcoxon( electricityPrices, gasPrices ):\n",
    "    st, pvalue =  stats.wilcoxon( electricityPrices, gasPrices )\n",
    "    print(  \"  Test Wilcoxon\" )\n",
    "    if pvalue >= 0.05 :\n",
    "        print( \"   The mean are the SAME in both populations.\\n    (p-value = %s, stats = %s)\" %(  pvalue, st ) )\n",
    "        return True\n",
    "    else: \n",
    "        print( \"   The population means are DIFFERENT.\\n    (p-value = %s, stats = %s)\" %(  pvalue, st ) )\n",
    "        return False\n",
    "    \n",
    "def execute_test_wilcoxon( df, title ):\n",
    "    print( title )\n",
    "    print( \" --- ---\" )\n",
    "    res = test_wilcoxon( get_electricityPrice( df ), get_gasPriceValues( df ) )\n",
    "    print( \"  Is the population means the same? %s\" % res )\n",
    "    print( \" --- --- --- --- --- --- \" ) \n",
    "    return res\n",
    "\n",
    "def execute_test_wilcoxon_by_year( df, years ):\n",
    "    result = {}\n",
    "    for yr in years :\n",
    "        current_df = filter_by_year( df, yr )\n",
    "        res =  execute_test_mannWhitney( current_df, \"* Test Wilcoxon year %s\" % yr ) \n",
    "        result[yr] = res\n",
    "    return result"
   ]
  },
  {
   "cell_type": "markdown",
   "id": "71dafeed-ed2f-424a-ba48-4baf134949ab",
   "metadata": {},
   "source": [
    "Se ejecuta el test de Wilcoxon para los precios relativos a los años **2020** y **2021**, ya que no cumplía nla condición de homocedasticidad y las dos variables tenían un grado de dependencia."
   ]
  },
  {
   "cell_type": "code",
   "execution_count": 83,
   "id": "beb6ff80-10ed-4460-97dd-baacecffd94f",
   "metadata": {},
   "outputs": [
    {
     "name": "stdout",
     "output_type": "stream",
     "text": [
      "* Test Wilcoxon year 2020\n",
      " --- ---\n",
      "  Test Mann-Whitney\n",
      "   The population means are DIFFERENT.\n",
      "    (p-value = 1.650316493933186e-11, stats = 1014.0)\n",
      " > Is the population means the same? False\n",
      " --- --- --- --- --- --- \n",
      "* Test Wilcoxon year 2021\n",
      " --- ---\n",
      "  Test Mann-Whitney\n",
      "   The population means are DIFFERENT.\n",
      "    (p-value = 9.351043041738265e-12, stats = 1020.0)\n",
      " > Is the population means the same? False\n",
      " --- --- --- --- --- --- \n"
     ]
    },
    {
     "data": {
      "text/plain": [
       "{2020: False, 2021: False}"
      ]
     },
     "execution_count": 83,
     "metadata": {},
     "output_type": "execute_result"
    }
   ],
   "source": [
    "execute_test_wilcoxon_by_year( df_work, [2020, 2021])"
   ]
  },
  {
   "cell_type": "markdown",
   "id": "0f0bc7a3-8a13-44f1-832b-c087d1e3b852",
   "metadata": {},
   "source": [
    "También el **conjunto de los precios de todos los años** no cumplía la condición de homocedasticidad y las dos variables con un grado de correlación, en este casoo se aplica también el test de Wilcoxon."
   ]
  },
  {
   "cell_type": "code",
   "execution_count": 84,
   "id": "29524a68-6e7e-4b6d-9ff1-56707240cc8a",
   "metadata": {},
   "outputs": [
    {
     "name": "stdout",
     "output_type": "stream",
     "text": [
      "* Test Wilcoxon all years\n",
      " --- ---\n",
      "  Test Wilcoxon\n",
      "   The population means are DIFFERENT.\n",
      "    (p-value = 5.75486142920954e-28, stats = 5.0)\n",
      "  Is the population means the same? False\n",
      " --- --- --- --- --- --- \n"
     ]
    },
    {
     "data": {
      "text/plain": [
       "False"
      ]
     },
     "execution_count": 84,
     "metadata": {},
     "output_type": "execute_result"
    }
   ],
   "source": [
    "execute_test_wilcoxon( df_work, \"* Test Wilcoxon all years\")"
   ]
  },
  {
   "cell_type": "markdown",
   "id": "38a80ee6-f50c-4daa-9b10-cede2fd7cedd",
   "metadata": {},
   "source": [
    "#### [4.3.3.3.] Conclusiones\n",
    "\n",
    "La ejecución de todos los conjuntos de datos indican que todos los conjuntos de datos propuestos donde los datos de los precios del gas y la electricidad domésticos tienen diferencias significativas entre ambas poblaciones."
   ]
  },
  {
   "cell_type": "markdown",
   "id": "0446408d-d645-4c5b-a275-c8e8edc366cb",
   "metadata": {},
   "source": [
    "# [5.] Conclusiones finales\n",
    "\n",
    "Como resumen de los resultados obtenidos se llega a la conclusión que todas las poblaciones tienden a una distribución normal, siendo la mayoria de los precios del gas una distribución normal. El año 2020 ambas distribuciones siguen una distribución normal según el test de Shapiro-Wil.\n",
    "\n",
    "De los conjuntos de precios ninguno tiene homogeneidad en las varianzas entre los precios del gas y la electricidad. Los diagramas de dispersión muestran una distribución uniforme y los modelos de regresión lineal dan un valor `R²` muy pobre, lo que quiere decir en que no hay una dependencia lineal entre las dos poblaciones de  precios.\n",
    "\n",
    "Con respecto a la correlación, los precios del año 2020 y 2021 y el dataset completo muestran una correlación con coeficientes de correlación pequeños, excepto el del año 2021. Por último el contraste de hipótesis utilizado para demostrar que ambas distribuciones de precios son iguales desde un punto de vista estadístico, ha confirmado que son diferentes para todos los conjuntos de datos.\n",
    "\n",
    "Como conclusión final existe una pequeña correlación entre los precios del gas y la electricidad domésticos pero no tan fuerte como en un principio se pudiera creer."
   ]
  }
 ],
 "metadata": {
  "kernelspec": {
   "display_name": "Python 3 (ipykernel)",
   "language": "python",
   "name": "python3"
  },
  "language_info": {
   "codemirror_mode": {
    "name": "ipython",
    "version": 3
   },
   "file_extension": ".py",
   "mimetype": "text/x-python",
   "name": "python",
   "nbconvert_exporter": "python",
   "pygments_lexer": "ipython3",
   "version": "3.9.10"
  },
  "toc-autonumbering": false,
  "toc-showcode": false,
  "toc-showmarkdowntxt": false
 },
 "nbformat": 4,
 "nbformat_minor": 5
}
